{
 "cells": [
  {
   "cell_type": "code",
   "execution_count": 11,
   "metadata": {},
   "outputs": [],
   "source": [
    "import paddle\n",
    "\n",
    "size = 300\n",
    "scale = 64"
   ]
  },
  {
   "cell_type": "code",
   "execution_count": 40,
   "metadata": {},
   "outputs": [],
   "source": [
    "class FM(paddle.nn.Layer):\n",
    "    def __init__(self, w0):\n",
    "        super(FM, self).__init__()\n",
    "        self.fc1 = paddle.nn.Linear(size,1)\n",
    "        self.w0 = paddle.nn.SpectralNorm()\n",
    "    def forward(self, input):\n",
    "        x = self.fc1(input)\n",
    "        x = self.w0(x)\n",
    "        return x"
   ]
  },
  {
   "cell_type": "code",
   "execution_count": 42,
   "metadata": {},
   "outputs": [
    {
     "ename": "TypeError",
     "evalue": "'int' object is not iterable",
     "output_type": "error",
     "traceback": [
      "\u001b[1;31m---------------------------------------------------------------------------\u001b[0m",
      "\u001b[1;31mTypeError\u001b[0m                                 Traceback (most recent call last)",
      "Cell \u001b[1;32mIn[42], line 1\u001b[0m\n\u001b[1;32m----> 1\u001b[0m FM()(paddle\u001b[39m.\u001b[39mrand([\u001b[39m2\u001b[39m, \u001b[39m300\u001b[39m]))\n",
      "Cell \u001b[1;32mIn[40], line 5\u001b[0m, in \u001b[0;36mFM.__init__\u001b[1;34m(self)\u001b[0m\n\u001b[0;32m      3\u001b[0m \u001b[39msuper\u001b[39m(FM, \u001b[39mself\u001b[39m)\u001b[39m.\u001b[39m\u001b[39m__init__\u001b[39m()\n\u001b[0;32m      4\u001b[0m \u001b[39mself\u001b[39m\u001b[39m.\u001b[39mfc1 \u001b[39m=\u001b[39m paddle\u001b[39m.\u001b[39mnn\u001b[39m.\u001b[39mLinear(size,\u001b[39m1\u001b[39m)\n\u001b[1;32m----> 5\u001b[0m \u001b[39mself\u001b[39m\u001b[39m.\u001b[39mw0 \u001b[39m=\u001b[39m paddle\u001b[39m.\u001b[39;49mnn\u001b[39m.\u001b[39;49mSpectralNorm((\u001b[39m1\u001b[39;49m), dim\u001b[39m=\u001b[39;49m\u001b[39m1\u001b[39;49m)\n",
      "File \u001b[1;32md:\\program files\\anaconda\\envs\\env_name\\lib\\site-packages\\paddle\\fluid\\dygraph\\nn.py:3117\u001b[0m, in \u001b[0;36mSpectralNorm.__init__\u001b[1;34m(self, weight_shape, dim, power_iters, eps, dtype)\u001b[0m\n\u001b[0;32m   3114\u001b[0m \u001b[39mself\u001b[39m\u001b[39m.\u001b[39m_dim \u001b[39m=\u001b[39m dim\n\u001b[0;32m   3115\u001b[0m \u001b[39mself\u001b[39m\u001b[39m.\u001b[39m_dtype \u001b[39m=\u001b[39m dtype\n\u001b[1;32m-> 3117\u001b[0m \u001b[39mself\u001b[39m\u001b[39m.\u001b[39m_weight_shape \u001b[39m=\u001b[39m \u001b[39mlist\u001b[39;49m(weight_shape)\n\u001b[0;32m   3118\u001b[0m \u001b[39massert\u001b[39;00m np\u001b[39m.\u001b[39mprod(\u001b[39mself\u001b[39m\u001b[39m.\u001b[39m_weight_shape) \u001b[39m>\u001b[39m \u001b[39m0\u001b[39m,\\\n\u001b[0;32m   3119\u001b[0m     \u001b[39m\"\u001b[39m\u001b[39mAny dimension of `weight_shape` cannot be equal to 0.\u001b[39m\u001b[39m\"\u001b[39m\n\u001b[0;32m   3120\u001b[0m \u001b[39massert\u001b[39;00m dim \u001b[39m<\u001b[39m \u001b[39mlen\u001b[39m(\u001b[39mself\u001b[39m\u001b[39m.\u001b[39m_weight_shape), \\\n\u001b[0;32m   3121\u001b[0m     (\u001b[39m\"\u001b[39m\u001b[39mThe input `dim` should be less than the \u001b[39m\u001b[39m\"\u001b[39m\n\u001b[0;32m   3122\u001b[0m     \u001b[39m\"\u001b[39m\u001b[39mlength of `weight_shape`, but received dim=\u001b[39m\u001b[39m\"\u001b[39m\n\u001b[0;32m   3123\u001b[0m     \u001b[39m\"\u001b[39m\u001b[39m{}\u001b[39;00m\u001b[39m\"\u001b[39m\u001b[39m.\u001b[39mformat(dim))\n",
      "\u001b[1;31mTypeError\u001b[0m: 'int' object is not iterable"
     ]
    }
   ],
   "source": [
    "FM()(paddle.rand([2, 300]))"
   ]
  },
  {
   "cell_type": "code",
   "execution_count": null,
   "metadata": {},
   "outputs": [
    {
     "ename": "",
     "evalue": "",
     "output_type": "error",
     "traceback": [
      "\u001b[1;31m运行具有“recommendation-service”的单元格需要ipykernel包。\n",
      "\u001b[1;31mRun the following command to install 'ipykernel' into the Python environment. \n",
      "\u001b[1;31mCommand: 'conda install -n recommendation-service ipykernel --update-deps --force-reinstall'"
     ]
    }
   ],
   "source": [
    "from paddlenlp.embeddings.token_embedding import TokenEmbedding\n",
    "\n",
    "# 初始化TokenEmbedding， 预训练embedding未下载时会自动下载并加载数据\n",
    "token_embedding = TokenEmbedding(embedding_name=\"w2v.baidu_encyclopedia.target.word-word.dim300\")\n"
   ]
  },
  {
   "cell_type": "code",
   "execution_count": null,
   "metadata": {},
   "outputs": [],
   "source": [
    "test_token_embedding = token_embedding.search(\"傲慢与偏见\")\n",
    "print(test_token_embedding)"
   ]
  },
  {
   "cell_type": "code",
   "execution_count": null,
   "metadata": {},
   "outputs": [],
   "source": [
    "test_token_embedding = token_embedding.search(\"中国\")\n",
    "print(test_token_embedding)"
   ]
  },
  {
   "cell_type": "code",
   "execution_count": null,
   "metadata": {},
   "outputs": [],
   "source": [
    "test_token_embedding = token_embedding.search(\"大变局\")\n",
    "print(test_token_embedding)"
   ]
  }
 ],
 "metadata": {
  "kernelspec": {
   "display_name": "env_name",
   "language": "python",
   "name": "python3"
  },
  "language_info": {
   "codemirror_mode": {
    "name": "ipython",
    "version": 3
   },
   "file_extension": ".py",
   "mimetype": "text/x-python",
   "name": "python",
   "nbconvert_exporter": "python",
   "pygments_lexer": "ipython3",
   "version": "3.11.5"
  },
  "orig_nbformat": 4
 },
 "nbformat": 4,
 "nbformat_minor": 2
}
