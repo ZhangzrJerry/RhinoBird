{
 "cells": [
  {
   "cell_type": "code",
   "execution_count": 1,
   "metadata": {},
   "outputs": [],
   "source": [
    "import paddle\n",
    "import numpy as np\n",
    "\n",
    "size = 100\n",
    "kdim = 8\n",
    "batch_size = 64"
   ]
  },
  {
   "cell_type": "code",
   "execution_count": 6,
   "metadata": {},
   "outputs": [],
   "source": [
    "class FM(paddle.nn.Layer):\n",
    "    def __init__(self):\n",
    "        super(FM, self).__init__()\n",
    "        self.w0 = paddle.to_tensor(np.zeros(1, ), dtype='float32', stop_gradient=False)\n",
    "        self.w = paddle.ParamAttr(\n",
    "            initializer=paddle.nn.initializer.Normal(),\n",
    "            regularizer=paddle.regularizer.L2Decay(1e-5)\n",
    "        )\n",
    "        self.v = paddle.ParamAttr(\n",
    "            initializer=paddle.nn.initializer.Normal(),\n",
    "            regularizer=paddle.regularizer.L2Decay(1e-5)\n",
    "        )\n",
    "        self.fc1 = paddle.nn.Linear(size, 1, weight_attr=self.w)\n",
    "        self.fc2 = paddle.nn.Linear(size, kdim, weight_attr=self.v)\n",
    "        self.fc2 = paddle.nn.Linear(size, kdim, weight_attr=self.v)\n",
    "    def forward(self, input):\n",
    "        x = self.fc1(input) + self.w0\n",
    "        y = paddle.pow(self.fc2(input), 2)\n",
    "        # z = \n",
    "        return x, y"
   ]
  },
  {
   "cell_type": "code",
   "execution_count": 7,
   "metadata": {},
   "outputs": [
    {
     "name": "stdout",
     "output_type": "stream",
     "text": [
      "---------------------------------------------------------------------------\n",
      " Layer (type)       Input Shape          Output Shape         Param #    \n",
      "===========================================================================\n",
      "   Linear-4         [[64, 100]]            [64, 1]              101      \n",
      "   Linear-5         [[64, 100]]            [64, 8]              808      \n",
      "===========================================================================\n",
      "Total params: 909\n",
      "Trainable params: 909\n",
      "Non-trainable params: 0\n",
      "---------------------------------------------------------------------------\n",
      "Input size (MB): 0.02\n",
      "Forward/backward pass size (MB): 0.00\n",
      "Params size (MB): 0.00\n",
      "Estimated Total Size (MB): 0.03\n",
      "---------------------------------------------------------------------------\n",
      "\n"
     ]
    },
    {
     "data": {
      "text/plain": [
       "{'total_params': 909, 'trainable_params': 909}"
      ]
     },
     "execution_count": 7,
     "metadata": {},
     "output_type": "execute_result"
    }
   ],
   "source": [
    "paddle.summary(net=FM(), input_size=(batch_size, size))"
   ]
  },
  {
   "cell_type": "code",
   "execution_count": 84,
   "metadata": {},
   "outputs": [
    {
     "ename": "ValueError",
     "evalue": "(InvalidArgument) __mul__(): argument (position 1) must be int, float, bool or Tensor, but got ParamAttr (at ..\\paddle\\fluid\\pybind\\eager_utils.cc:1435)\n",
     "output_type": "error",
     "traceback": [
      "\u001b[1;31m---------------------------------------------------------------------------\u001b[0m",
      "\u001b[1;31mValueError\u001b[0m                                Traceback (most recent call last)",
      "\u001b[1;32md:\\Projects\\2023犀牛鸟中学科学人才培养计划\\Flask\\xDeepFM.ipynb 单元格 4\u001b[0m line \u001b[0;36m1\n\u001b[1;32m----> <a href='vscode-notebook-cell:/d%3A/Projects/2023%E7%8A%80%E7%89%9B%E9%B8%9F%E4%B8%AD%E5%AD%A6%E7%A7%91%E5%AD%A6%E4%BA%BA%E6%89%8D%E5%9F%B9%E5%85%BB%E8%AE%A1%E5%88%92/Flask/xDeepFM.ipynb#X14sZmlsZQ%3D%3D?line=0'>1</a>\u001b[0m FM()\u001b[39m.\u001b[39;49mw \u001b[39m*\u001b[39;49m paddle\u001b[39m.\u001b[39;49mrand(shape\u001b[39m=\u001b[39;49m[\u001b[39m1\u001b[39;49m,\u001b[39m1\u001b[39;49m])\n",
      "\u001b[1;31mValueError\u001b[0m: (InvalidArgument) __mul__(): argument (position 1) must be int, float, bool or Tensor, but got ParamAttr (at ..\\paddle\\fluid\\pybind\\eager_utils.cc:1435)\n"
     ]
    }
   ],
   "source": [
    "FM().w * paddle.rand(shape=[1,1])"
   ]
  }
 ],
 "metadata": {
  "kernelspec": {
   "display_name": "env_name",
   "language": "python",
   "name": "python3"
  },
  "language_info": {
   "codemirror_mode": {
    "name": "ipython",
    "version": 3
   },
   "file_extension": ".py",
   "mimetype": "text/x-python",
   "name": "python",
   "nbconvert_exporter": "python",
   "pygments_lexer": "ipython3",
   "version": "3.11.5"
  },
  "orig_nbformat": 4
 },
 "nbformat": 4,
 "nbformat_minor": 2
}
