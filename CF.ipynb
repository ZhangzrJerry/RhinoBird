{
 "cells": [
  {
   "cell_type": "code",
   "execution_count": 15,
   "metadata": {},
   "outputs": [],
   "source": [
    "import pickle\n",
    "from tqdm import tqdm\n",
    "import numpy as np\n",
    "\n",
    "file = open('data/data.pkl', 'rb')\n",
    "data = np.array(pickle.load(file), dtype='int8')\n",
    "file.close()"
   ]
  },
  {
   "cell_type": "code",
   "execution_count": 93,
   "metadata": {},
   "outputs": [
    {
     "name": "stderr",
     "output_type": "stream",
     "text": [
      "  0%|          | 0/12119 [00:00<?, ?it/s]"
     ]
    },
    {
     "name": "stderr",
     "output_type": "stream",
     "text": [
      "100%|██████████| 12119/12119 [56:38<00:00,  3.57it/s] \n"
     ]
    }
   ],
   "source": [
    "cosine_similarity = []\n",
    "offset = np.percentile(a, 40)\n",
    "padding = np.zeros(len(data))\n",
    "for user in tqdm(data):\n",
    "    if np.sum(user) > offset:\n",
    "        cosine_similarity.append(data.dot(user))\n",
    "    else:\n",
    "        cosine_similarity.append(padding)"
   ]
  },
  {
   "cell_type": "code",
   "execution_count": 100,
   "metadata": {},
   "outputs": [],
   "source": [
    "cosine_similarity = np.array(cosine_similarity, dtype='float32')\n",
    "for x in tqdm(range(len(data))):\n",
    "    cosine_similarity[:, x] /= np.linalg.norm(data[x])\n",
    "    cosine_similarity[x] /= np.linalg.norm(data[x])"
   ]
  },
  {
   "cell_type": "code",
   "execution_count": 112,
   "metadata": {},
   "outputs": [],
   "source": [
    "file = open('data/UserCF.pkl', 'wb')\n",
    "pickle.dump(cosine_similarity, file)\n",
    "file.close()"
   ]
  }
 ],
 "metadata": {
  "kernelspec": {
   "display_name": "env_name",
   "language": "python",
   "name": "python3"
  },
  "language_info": {
   "codemirror_mode": {
    "name": "ipython",
    "version": 3
   },
   "file_extension": ".py",
   "mimetype": "text/x-python",
   "name": "python",
   "nbconvert_exporter": "python",
   "pygments_lexer": "ipython3",
   "version": "3.9.7"
  },
  "orig_nbformat": 4
 },
 "nbformat": 4,
 "nbformat_minor": 2
}
