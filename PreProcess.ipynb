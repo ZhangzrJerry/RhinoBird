{
 "cells": [
  {
   "cell_type": "code",
   "execution_count": 17,
   "id": "e246a574",
   "metadata": {},
   "outputs": [],
   "source": [
    "import pickle\n",
    "import numpy as np\n",
    "from tqdm import tqdm\n",
    "\n",
    "file = open('data/pkl/list.pkl', 'rb')\n",
    "data = pickle.load(file).astype('int8')\n",
    "file.close()"
   ]
  },
  {
   "cell_type": "code",
   "execution_count": 20,
   "id": "00ab036c",
   "metadata": {},
   "outputs": [
    {
     "data": {
      "text/plain": [
       "array([[  1,   0,   0],\n",
       "       [  1,   1,   0],\n",
       "       [  1,   2,   0],\n",
       "       ...,\n",
       "       [ 85, -50,   0],\n",
       "       [ 85, -49,   0],\n",
       "       [ 85, -48,   0]], dtype=int8)"
      ]
     },
     "execution_count": 20,
     "metadata": {},
     "output_type": "execute_result"
    }
   ],
   "source": [
    "data"
   ]
  },
  {
   "cell_type": "code",
   "execution_count": 19,
   "id": "026d6e95",
   "metadata": {},
   "outputs": [
    {
     "data": {
      "text/plain": [
       "214832065"
      ]
     },
     "execution_count": 19,
     "metadata": {},
     "output_type": "execute_result"
    }
   ],
   "source": [
    "len(data)"
   ]
  },
  {
   "cell_type": "code",
   "execution_count": 33,
   "id": "f271bde5",
   "metadata": {},
   "outputs": [
    {
     "data": {
      "text/plain": [
       "1718656"
      ]
     },
     "execution_count": 33,
     "metadata": {},
     "output_type": "execute_result"
    }
   ],
   "source": [
    "lendata = int(len(data)/100)\n",
    "int(lendata * 0.8)"
   ]
  },
  {
   "cell_type": "code",
   "execution_count": 39,
   "id": "f59c0924",
   "metadata": {},
   "outputs": [
    {
     "name": "stderr",
     "output_type": "stream",
     "text": []
    },
    {
     "name": "stderr",
     "output_type": "stream",
     "text": [
      "100%|██████████| 100/100 [12:47<00:00,  7.68s/it]\n"
     ]
    }
   ],
   "source": [
    "test_ = np.empty(0)\n",
    "for x in tqdm(range(100)):\n",
    "    idx = x\n",
    "    x = data[x * lendata: (x + 1) *lendata].copy()\n",
    "    np.random.shuffle(x)\n",
    "\n",
    "    file = open('data/net/train/'+str(idx+1)+'.pkl', 'wb')\n",
    "    pickle.dump(x[:int(lendata * 0.8)], file)\n",
    "    file.close()\n",
    "\n",
    "    test_ = np.row_stack(x[int(lendata * 0.8):])\n",
    "    if (idx + 1) % 10 == 0:\n",
    "        file = open('data/net/eval/'+str((idx+1)//10)+'.pkl', 'wb')\n",
    "        pickle.dump(test_, file)\n",
    "        file.close()\n",
    "        test_ = np.empty(0)\n",
    "    del x"
   ]
  }
 ],
 "metadata": {
  "kernelspec": {
   "display_name": "Python 3 (ipykernel)",
   "language": "python",
   "name": "python3"
  },
  "language_info": {
   "codemirror_mode": {
    "name": "ipython",
    "version": 3
   },
   "file_extension": ".py",
   "mimetype": "text/x-python",
   "name": "python",
   "nbconvert_exporter": "python",
   "pygments_lexer": "ipython3",
   "version": "3.11.5"
  }
 },
 "nbformat": 4,
 "nbformat_minor": 5
}
