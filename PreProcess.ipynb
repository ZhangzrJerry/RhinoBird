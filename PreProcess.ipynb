{
 "cells": [
  {
   "cell_type": "code",
   "execution_count": 1,
   "id": "e246a574",
   "metadata": {},
   "outputs": [],
   "source": [
    "import pickle\n",
    "import numpy as np\n",
    "from tqdm import tqdm\n",
    "\n",
    "file = open('data/pkl/list.pkl', 'rb')\n",
    "data = pickle.load(file).astype('int32')\n",
    "file.close()"
   ]
  },
  {
   "cell_type": "code",
   "execution_count": 2,
   "id": "00ab036c",
   "metadata": {},
   "outputs": [
    {
     "ename": "",
     "evalue": "",
     "output_type": "error",
     "traceback": [
      "\u001b[1;31mCanceled future for execute_request message before replies were done"
     ]
    }
   ],
   "source": [
    "np.random.shuffle(data)"
   ]
  },
  {
   "cell_type": "code",
   "execution_count": null,
   "id": "026d6e95",
   "metadata": {},
   "outputs": [
    {
     "data": {
      "text/plain": [
       "214832065"
      ]
     },
     "execution_count": 19,
     "metadata": {},
     "output_type": "execute_result"
    }
   ],
   "source": [
    "data"
   ]
  },
  {
   "cell_type": "code",
   "execution_count": 3,
   "id": "f271bde5",
   "metadata": {},
   "outputs": [
    {
     "data": {
      "text/plain": [
       "1718656"
      ]
     },
     "execution_count": 3,
     "metadata": {},
     "output_type": "execute_result"
    }
   ],
   "source": [
    "lendata = int(len(data)/100)\n",
    "int(lendata * 0.8)"
   ]
  },
  {
   "cell_type": "code",
   "execution_count": 4,
   "id": "f59c0924",
   "metadata": {},
   "outputs": [
    {
     "name": "stderr",
     "output_type": "stream",
     "text": [
      "100%|██████████| 100/100 [14:38<00:00,  8.79s/it]\n"
     ]
    }
   ],
   "source": [
    "test_ = np.empty(0)\n",
    "for x in tqdm(range(100)):\n",
    "    idx = x\n",
    "    x = data[x * lendata: (x + 1) *lendata].copy()\n",
    "    np.random.shuffle(x)\n",
    "\n",
    "    file = open('data/net/train/'+str(idx+1)+'.pkl', 'wb')\n",
    "    pickle.dump(x[:int(lendata * 0.8)], file)\n",
    "    file.close()\n",
    "\n",
    "    test_ = np.row_stack(x[int(lendata * 0.8):])\n",
    "    if (idx + 1) % 10 == 0:\n",
    "        file = open('data/net/eval/'+str((idx+1)//10)+'.pkl', 'wb')\n",
    "        pickle.dump(test_, file)\n",
    "        file.close()\n",
    "        test_ = np.empty(0)\n",
    "    del x"
   ]
  },
  {
   "cell_type": "code",
   "execution_count": 19,
   "id": "3790cd8f",
   "metadata": {},
   "outputs": [
    {
     "name": "stderr",
     "output_type": "stream",
     "text": [
      "100%|██████████| 1000/1000 [3:14:20<00:00, 11.66s/it] \n"
     ]
    }
   ],
   "source": [
    "import os, pickle\n",
    "import numpy as np\n",
    "from tqdm import tqdm\n",
    "file_list = os.listdir('data/net/train/')\n",
    "for x in tqdm(range(1000)):\n",
    "    afilename = np.random.choice(file_list)\n",
    "    bfilename = np.random.choice(file_list)\n",
    "    # print(x, ':', afilename, bfilename)\n",
    "    if afilename == bfilename:\n",
    "        continue\n",
    "\n",
    "    afile = open('data/net/train/'+afilename, 'rb')\n",
    "    adata = pickle.load(afile)\n",
    "    afile.close()\n",
    "    bfile = open('data/net/train/'+bfilename, 'rb')\n",
    "    bdata = pickle.load(bfile)\n",
    "    bfile.close()\n",
    "\n",
    "    offset = len(adata)\n",
    "    xdata = np.append(adata, bdata, 0)\n",
    "    np.random.shuffle(xdata)\n",
    "\n",
    "    afile = open('data/net/train/'+afilename, 'wb')\n",
    "    pickle.dump(xdata[offset:], afile)\n",
    "    afile.close()\n",
    "    bfile = open('data/net/train/'+bfilename, 'wb')\n",
    "    pickle.dump(xdata[:offset], bfile)\n",
    "    bfile.close()\n",
    "\n",
    "    del adata, bdata, xdata"
   ]
  }
 ],
 "metadata": {
  "kernelspec": {
   "display_name": "Python 3 (ipykernel)",
   "language": "python",
   "name": "python3"
  },
  "language_info": {
   "codemirror_mode": {
    "name": "ipython",
    "version": 3
   },
   "file_extension": ".py",
   "mimetype": "text/x-python",
   "name": "python",
   "nbconvert_exporter": "python",
   "pygments_lexer": "ipython3",
   "version": "3.11.5"
  }
 },
 "nbformat": 4,
 "nbformat_minor": 5
}
