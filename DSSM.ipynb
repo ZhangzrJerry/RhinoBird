{
 "cells": [
  {
   "cell_type": "code",
   "execution_count": 29,
   "id": "406f4bbe-990a-436e-9168-809e84983257",
   "metadata": {},
   "outputs": [],
   "source": [
    "import pickle\n",
    "import numpy as np\n",
    "import paddle\n",
    "import pandas as pd\n",
    "import paddle.nn as nn\n",
    "\n",
    "file = open('data/list.pkl', 'rb')\n",
    "data = pickle.load(file)\n",
    "np.random.shuffle(data)\n",
    "users_df = pd.read_csv('data/users.csv')\n",
    "items_df = pd.read_csv('data/items.csv')"
   ]
  },
  {
   "cell_type": "code",
   "execution_count": 2,
   "id": "051e3d83-4c2a-4b0f-8ee2-945235de9cb7",
   "metadata": {},
   "outputs": [],
   "source": [
    "emb_scale = 1024\n",
    "batch_size = 64\n",
    "len_users = len(users_df)\n",
    "len_items = len(items_df)"
   ]
  },
  {
   "cell_type": "code",
   "execution_count": 21,
   "id": "cd697ef3-0e7a-4436-9dd4-82a8d4e90311",
   "metadata": {},
   "outputs": [],
   "source": [
    "class Dataset(paddle.io.Dataset):\n",
    "    def __init__(self, data):\n",
    "        self.feature = data[:,0:2]\n",
    "        self.label = data[:,2]\n",
    "        pass\n",
    "    def __getitem__(self, idx):\n",
    "        return self.feature[idx], self.label[idx]\n",
    "    def __len__(self):\n",
    "        return len(self.feature)\n",
    "    pass\n",
    "\n",
    "dataset = paddle.io.DataLoader(Dataset(data),\n",
    "                               batch_size=batch_size,\n",
    "                               shuffle=True)"
   ]
  },
  {
   "cell_type": "code",
   "execution_count": 13,
   "id": "7cf4e82d-ab80-4829-804b-7769fb1af4a4",
   "metadata": {},
   "outputs": [],
   "source": [
    "class DSSM(nn.Layer):\n",
    "    def __init__(self):\n",
    "        super(DSSM,self).__init__()\n",
    "        self.users_emb = nn.Embedding(len_users, emb_scale)\n",
    "        self.items_emb = nn.Embedding(len_items, emb_scale)\n",
    "        self.users_fc1 = nn.Linear(emb_scale, 512)\n",
    "        self.users_fc2 = nn.Linear(512, 300)\n",
    "        self.users_fc3 = nn.Linear(300, 300)\n",
    "        self.users_fc4 = nn.Linear(300, 128)\n",
    "        self.items_fc1 = nn.Linear(emb_scale, 512)\n",
    "        self.items_fc2 = nn.Linear(512, 300)\n",
    "        self.items_fc3 = nn.Linear(300, 300)\n",
    "        self.items_fc4 = nn.Linear(300, 128)\n",
    "        pass\n",
    "    def forward(self, input):\n",
    "        # user tower\n",
    "        user = self.users_emb(input[:,0])\n",
    "        user = self.users_fc1(user)\n",
    "        user = nn.functional.relu(user)\n",
    "        user = self.users_fc2(user)\n",
    "        user = nn.functional.relu(user)\n",
    "        user = self.users_fc3(user)\n",
    "        user = nn.functional.relu(user)\n",
    "        user = self.users_fc4(user)\n",
    "        # item tower\n",
    "        item = self.items_emb(input[:,1])\n",
    "        item = self.items_fc1(item)\n",
    "        item = nn.functional.relu(item)\n",
    "        item = self.items_fc2(item)\n",
    "        item = nn.functional.relu(item)\n",
    "        item = self.items_fc3(item)\n",
    "        item = nn.functional.relu(item)\n",
    "        item = self.items_fc4(item)\n",
    "        # similarity\n",
    "        x = nn.functional.cosine_similarity(user, item, axis=0)\n",
    "        x = nn.functional.sigmoid(x)\n",
    "        return x\n",
    "    pass"
   ]
  },
  {
   "cell_type": "code",
   "execution_count": 5,
   "id": "9475a5cf-4150-4bca-9d3a-077112ac0b89",
   "metadata": {
    "scrolled": true
   },
   "outputs": [],
   "source": [
    "x = paddle.to_tensor(np.random.randint(0,len_users,size=(64,2)))"
   ]
  },
  {
   "cell_type": "code",
   "execution_count": 14,
   "id": "e60d720f-722e-4046-8cee-8854a1bcbfc6",
   "metadata": {
    "scrolled": true
   },
   "outputs": [
    {
     "data": {
      "text/plain": [
       "Tensor(shape=[128], dtype=float32, place=Place(cpu), stop_gradient=False,\n",
       "       [0.49535686, 0.31723797, 0.57621199, 0.67880642, 0.67578387, 0.54226148,\n",
       "        0.50485319, 0.42153674, 0.61306316, 0.50633538, 0.35136047, 0.53561687,\n",
       "        0.41069722, 0.66122580, 0.51983237, 0.33422592, 0.60878909, 0.59796405,\n",
       "        0.68280590, 0.59740305, 0.42344308, 0.49230734, 0.32854435, 0.35653985,\n",
       "        0.54609293, 0.53759527, 0.48363721, 0.47112915, 0.42539600, 0.44058111,\n",
       "        0.33394700, 0.53857565, 0.37423849, 0.64414495, 0.36155275, 0.56251663,\n",
       "        0.30308816, 0.51769984, 0.43930537, 0.44129738, 0.50934547, 0.67138296,\n",
       "        0.38797316, 0.41335759, 0.60153967, 0.51722938, 0.46695280, 0.36728516,\n",
       "        0.59007019, 0.44402546, 0.53434145, 0.35307908, 0.48867029, 0.57768184,\n",
       "        0.34501320, 0.50747496, 0.64528549, 0.52622914, 0.56067663, 0.52464890,\n",
       "        0.46789047, 0.40805262, 0.59158677, 0.50790560, 0.66658956, 0.30530289,\n",
       "        0.63995224, 0.53939569, 0.42851242, 0.64435822, 0.58613455, 0.40709019,\n",
       "        0.44629115, 0.39996231, 0.32956564, 0.50357968, 0.37733197, 0.66707480,\n",
       "        0.33800456, 0.35898966, 0.66355824, 0.62672633, 0.43107104, 0.44180188,\n",
       "        0.64732391, 0.48456809, 0.65943217, 0.55138838, 0.40163827, 0.37061435,\n",
       "        0.60669279, 0.31394708, 0.53898925, 0.62656784, 0.41135347, 0.49857226,\n",
       "        0.39045534, 0.46528736, 0.54159832, 0.54595488, 0.32024208, 0.35087487,\n",
       "        0.51877797, 0.48561519, 0.40556416, 0.40927026, 0.65396649, 0.47294688,\n",
       "        0.32358298, 0.58658338, 0.44069165, 0.40166900, 0.53293645, 0.54716903,\n",
       "        0.33773720, 0.52340460, 0.33724505, 0.47935581, 0.30119792, 0.58246976,\n",
       "        0.60711026, 0.56812119, 0.34644559, 0.58566791, 0.49880895, 0.55040854,\n",
       "        0.57893854, 0.39685115])"
      ]
     },
     "execution_count": 14,
     "metadata": {},
     "output_type": "execute_result"
    }
   ],
   "source": [
    "DSSM()(x)\n"
   ]
  },
  {
   "cell_type": "code",
   "execution_count": 22,
   "id": "b5cdd6fb",
   "metadata": {},
   "outputs": [],
   "source": [
    "for x in dataset:\n",
    "    x"
   ]
  },
  {
   "cell_type": "code",
   "execution_count": 23,
   "id": "e8a9fbba",
   "metadata": {},
   "outputs": [
    {
     "data": {
      "text/plain": [
       "[Tensor(shape=[59, 2], dtype=float64, place=Place(cpu), stop_gradient=True,\n",
       "        [[1707., 5095.],\n",
       "         [8810., 8437.],\n",
       "         [6466., 1036.],\n",
       "         [7654., 1037.],\n",
       "         [4791., 6446.],\n",
       "         [2071., 7208.],\n",
       "         [1200., 3627.],\n",
       "         [2640., 20126.],\n",
       "         [2220., 6504.],\n",
       "         [8630., 10433.],\n",
       "         [8601., 4067.],\n",
       "         [5923., 5993.],\n",
       "         [4412., 3822.],\n",
       "         [3814., 9271.],\n",
       "         [8329., 9387.],\n",
       "         [8871., 11194.],\n",
       "         [2690., 9833.],\n",
       "         [4448., 11434.],\n",
       "         [2455., 8048.],\n",
       "         [1311., 6677.],\n",
       "         [4475., 11458.],\n",
       "         [3406., 1244.],\n",
       "         [10803., 16616.],\n",
       "         [9322., 7753.],\n",
       "         [666. , 8301.],\n",
       "         [4875., 3722.],\n",
       "         [3399., 4690.],\n",
       "         [5765., 13797.],\n",
       "         [6011., 6236.],\n",
       "         [6762., 5584.],\n",
       "         [1771., 9362.],\n",
       "         [11451., 10817.],\n",
       "         [3293., 5106.],\n",
       "         [4043., 512. ],\n",
       "         [6506., 21407.],\n",
       "         [3574., 10420.],\n",
       "         [218. , 20369.],\n",
       "         [7860., 7445.],\n",
       "         [8384., 7903.],\n",
       "         [6476., 3013.],\n",
       "         [10988., 18164.],\n",
       "         [2726., 436. ],\n",
       "         [5086., 5997.],\n",
       "         [5719., 4136.],\n",
       "         [9482., 1523.],\n",
       "         [8735., 9081.],\n",
       "         [11631., 1811.],\n",
       "         [3996., 10112.],\n",
       "         [6375., 15636.],\n",
       "         [11880., 12344.],\n",
       "         [11240., 3530.],\n",
       "         [5269., 928. ],\n",
       "         [9198., 12451.],\n",
       "         [2115., 2917.],\n",
       "         [7523., 9504.],\n",
       "         [8958., 5480.],\n",
       "         [8174., 1111.],\n",
       "         [1976., 8035.],\n",
       "         [903. , 4348.]]),\n",
       " Tensor(shape=[59], dtype=float64, place=Place(cpu), stop_gradient=True,\n",
       "        [0., 1., 1., 0., 1., 1., 1., 0., 1., 1., 1., 1., 1., 0., 1., 1., 1., 1.,\n",
       "         1., 0., 1., 0., 0., 1., 0., 1., 1., 0., 1., 0., 0., 0., 1., 0., 0., 0.,\n",
       "         0., 1., 1., 0., 0., 0., 1., 0., 1., 1., 1., 1., 0., 0., 1., 0., 0., 1.,\n",
       "         1., 1., 0., 0., 0.])]"
      ]
     },
     "execution_count": 23,
     "metadata": {},
     "output_type": "execute_result"
    }
   ],
   "source": [
    "x"
   ]
  },
  {
   "cell_type": "code",
   "execution_count": 18,
   "id": "c0d4e018",
   "metadata": {},
   "outputs": [
    {
     "data": {
      "text/plain": [
       "Tensor(shape=[128], dtype=float32, place=Place(cpu), stop_gradient=False,\n",
       "       [0.48207566, 0.57544214, 0.30892187, 0.53896534, 0.47055021, 0.36516881,\n",
       "        0.47171926, 0.60106188, 0.50094616, 0.45000693, 0.64961791, 0.38005090,\n",
       "        0.46481833, 0.32499811, 0.33320057, 0.47021577, 0.69257373, 0.59902048,\n",
       "        0.41818479, 0.49337858, 0.55532718, 0.30980867, 0.33188701, 0.66010177,\n",
       "        0.42743745, 0.31603885, 0.31787628, 0.40076011, 0.62327665, 0.55508786,\n",
       "        0.37898621, 0.51321679, 0.61310780, 0.41133499, 0.59758359, 0.48653394,\n",
       "        0.39046362, 0.53451794, 0.38562405, 0.65734702, 0.52013063, 0.52452213,\n",
       "        0.40066433, 0.63580883, 0.36570600, 0.62570536, 0.58469880, 0.57495338,\n",
       "        0.44313377, 0.38637263, 0.43041423, 0.64863467, 0.53700525, 0.68507481,\n",
       "        0.40981266, 0.59386617, 0.68781483, 0.41485479, 0.53454995, 0.54171872,\n",
       "        0.40578777, 0.54966635, 0.40798607, 0.51533461, 0.52586460, 0.54418558,\n",
       "        0.54018360, 0.46874642, 0.58406365, 0.37799919, 0.54194325, 0.59332961,\n",
       "        0.50904483, 0.69477814, 0.56162339, 0.45775571, 0.37703374, 0.65891701,\n",
       "        0.43509889, 0.66760284, 0.48660338, 0.58019876, 0.44603023, 0.51710492,\n",
       "        0.43925282, 0.66391826, 0.35118809, 0.31007642, 0.35234433, 0.41668850,\n",
       "        0.59126037, 0.61939317, 0.63960910, 0.47047299, 0.56225759, 0.50925875,\n",
       "        0.52719563, 0.49852651, 0.48757353, 0.51859790, 0.54673904, 0.45763811,\n",
       "        0.62212723, 0.45833132, 0.40596512, 0.58730412, 0.35870758, 0.38971674,\n",
       "        0.53090137, 0.68428010, 0.43856010, 0.59906465, 0.55890924, 0.47661680,\n",
       "        0.43581450, 0.45591941, 0.50899255, 0.46358564, 0.64287376, 0.56275302,\n",
       "        0.41773790, 0.58641809, 0.52784038, 0.34471422, 0.40353912, 0.52974433,\n",
       "        0.63818771, 0.57315820])"
      ]
     },
     "execution_count": 18,
     "metadata": {},
     "output_type": "execute_result"
    }
   ],
   "source": [
    "DSSM()(paddle.cast(x[0],dtype='int32'))"
   ]
  }
 ],
 "metadata": {
  "kernelspec": {
   "display_name": "Python 3 (ipykernel)",
   "language": "python",
   "name": "python3"
  },
  "language_info": {
   "codemirror_mode": {
    "name": "ipython",
    "version": 3
   },
   "file_extension": ".py",
   "mimetype": "text/x-python",
   "name": "python",
   "nbconvert_exporter": "python",
   "pygments_lexer": "ipython3",
   "version": "3.9.7"
  }
 },
 "nbformat": 4,
 "nbformat_minor": 5
}
