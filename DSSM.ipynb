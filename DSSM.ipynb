{
 "cells": [
  {
   "cell_type": "code",
   "execution_count": 35,
   "id": "406f4bbe-990a-436e-9168-809e84983257",
   "metadata": {},
   "outputs": [],
   "source": [
    "import pickle\n",
    "import numpy as np\n",
    "import paddle\n",
    "import pandas as pd\n",
    "import paddle.nn as nn\n",
    "\n",
    "t_file = open('data/train_data.pkl', 'rb')\n",
    "train_data = pickle.load(t_file)\n",
    "v_file = open('data/verify_data.pkl', 'rb')\n",
    "verify_data = pickle.load(v_file)\n",
    "\n",
    "users_df = pd.read_csv('data/users.csv')\n",
    "items_df = pd.read_csv('data/items.csv')"
   ]
  },
  {
   "cell_type": "code",
   "execution_count": 6,
   "id": "051e3d83-4c2a-4b0f-8ee2-945235de9cb7",
   "metadata": {},
   "outputs": [],
   "source": [
    "emb_scale = 1024\n",
    "batch_size = 64\n",
    "len_users = len(users_df)\n",
    "len_items = len(items_df)"
   ]
  },
  {
   "cell_type": "code",
   "execution_count": 8,
   "id": "cd697ef3-0e7a-4436-9dd4-82a8d4e90311",
   "metadata": {},
   "outputs": [],
   "source": [
    "class Dataset(paddle.io.Dataset):\n",
    "    def __init__(self, data):\n",
    "        self.feature = data[:,0:2]\n",
    "        self.label = data[:,2]\n",
    "        pass\n",
    "    def __getitem__(self, idx):\n",
    "        return self.feature[idx], self.label[idx]\n",
    "    def __len__(self):\n",
    "        return len(self.feature)\n",
    "    pass\n",
    "\n",
    "train_dataset = paddle.io.DataLoader(Dataset(train_data),\n",
    "                               batch_size=batch_size,\n",
    "                               shuffle=True)\n",
    "verify_dataset = paddle.io.DataLoader(Dataset(verify_data),\n",
    "                               batch_size=batch_size,\n",
    "                               shuffle=True)                               "
   ]
  },
  {
   "cell_type": "code",
   "execution_count": 40,
   "id": "7cf4e82d-ab80-4829-804b-7769fb1af4a4",
   "metadata": {},
   "outputs": [],
   "source": [
    "class DSSM(nn.Layer):\n",
    "    def __init__(self):\n",
    "        super(DSSM,self).__init__()\n",
    "        self.users_emb = nn.Embedding(len_users, emb_scale)\n",
    "        self.items_emb = nn.Embedding(len_items, emb_scale)\n",
    "        self.users_fc1 = nn.Linear(emb_scale, 512)\n",
    "        self.users_fc2 = nn.Linear(512, 300)\n",
    "        self.users_fc3 = nn.Linear(300, 300)\n",
    "        self.users_fc4 = nn.Linear(300, 128)\n",
    "        self.items_fc1 = nn.Linear(emb_scale, 512)\n",
    "        self.items_fc2 = nn.Linear(512, 300)\n",
    "        self.items_fc3 = nn.Linear(300, 300)\n",
    "        self.items_fc4 = nn.Linear(300, 128)\n",
    "        pass\n",
    "    def forward(self, input):\n",
    "        # user tower\n",
    "        user = self.users_emb(input[:,0])\n",
    "        user = self.users_fc1(user)\n",
    "        user = nn.functional.relu(user)\n",
    "        user = self.users_fc2(user)\n",
    "        user = nn.functional.relu(user)\n",
    "        user = self.users_fc3(user)\n",
    "        user = nn.functional.relu(user)\n",
    "        user = self.users_fc4(user)\n",
    "        # item tower\n",
    "        item = self.items_emb(input[:,1])\n",
    "        item = self.items_fc1(item)\n",
    "        item = nn.functional.relu(item)\n",
    "        item = self.items_fc2(item)\n",
    "        item = nn.functional.relu(item)\n",
    "        item = self.items_fc3(item)\n",
    "        item = nn.functional.relu(item)\n",
    "        item = self.items_fc4(item)\n",
    "        # similarity\n",
    "        x = nn.functional.cosine_similarity(user, item, axis=1)\n",
    "        return x\n",
    "        x = nn.functional.sigmoid(x)\n",
    "        return x\n",
    "    pass\n",
    "dssm = DSSM()"
   ]
  },
  {
   "cell_type": "code",
   "execution_count": 56,
   "id": "9b9081bf",
   "metadata": {},
   "outputs": [
    {
     "name": "stdout",
     "output_type": "stream",
     "text": [
      "epoch:0, batch_id:0, loss:Tensor(shape=[1], dtype=float32, place=Place(cpu), stop_gradient=False,\n",
      "       [0.27331084])\n",
      "epoch:0, batch_id:1, loss:Tensor(shape=[1], dtype=float32, place=Place(cpu), stop_gradient=False,\n",
      "       [0.38305154])\n",
      "epoch:0, batch_id:2, loss:Tensor(shape=[1], dtype=float32, place=Place(cpu), stop_gradient=False,\n",
      "       [0.27104890])\n",
      "epoch:0, batch_id:3, loss:Tensor(shape=[1], dtype=float32, place=Place(cpu), stop_gradient=False,\n",
      "       [0.25922689])\n",
      "epoch:0, batch_id:4, loss:Tensor(shape=[1], dtype=float32, place=Place(cpu), stop_gradient=False,\n",
      "       [0.25106493])\n",
      "epoch:0, batch_id:5, loss:Tensor(shape=[1], dtype=float32, place=Place(cpu), stop_gradient=False,\n",
      "       [0.26464620])\n",
      "epoch:0, batch_id:6, loss:Tensor(shape=[1], dtype=float32, place=Place(cpu), stop_gradient=False,\n",
      "       [0.25041193])\n",
      "epoch:0, batch_id:7, loss:Tensor(shape=[1], dtype=float32, place=Place(cpu), stop_gradient=False,\n",
      "       [0.24626681])\n",
      "epoch:0, batch_id:8, loss:Tensor(shape=[1], dtype=float32, place=Place(cpu), stop_gradient=False,\n",
      "       [0.25851297])\n",
      "epoch:0, batch_id:9, loss:Tensor(shape=[1], dtype=float32, place=Place(cpu), stop_gradient=False,\n",
      "       [0.26252556])\n",
      "epoch:0, batch_id:10, loss:Tensor(shape=[1], dtype=float32, place=Place(cpu), stop_gradient=False,\n",
      "       [0.24828218])\n",
      "epoch:0, batch_id:11, loss:Tensor(shape=[1], dtype=float32, place=Place(cpu), stop_gradient=False,\n",
      "       [0.24998981])\n",
      "epoch:0, batch_id:12, loss:Tensor(shape=[1], dtype=float32, place=Place(cpu), stop_gradient=False,\n",
      "       [0.24906912])\n",
      "epoch:0, batch_id:13, loss:Tensor(shape=[1], dtype=float32, place=Place(cpu), stop_gradient=False,\n",
      "       [0.25452018])\n",
      "epoch:0, batch_id:14, loss:Tensor(shape=[1], dtype=float32, place=Place(cpu), stop_gradient=False,\n",
      "       [0.24647398])\n",
      "epoch:0, batch_id:15, loss:Tensor(shape=[1], dtype=float32, place=Place(cpu), stop_gradient=False,\n",
      "       [0.24791634])\n",
      "epoch:0, batch_id:16, loss:Tensor(shape=[1], dtype=float32, place=Place(cpu), stop_gradient=False,\n",
      "       [0.24551433])\n",
      "epoch:0, batch_id:17, loss:Tensor(shape=[1], dtype=float32, place=Place(cpu), stop_gradient=False,\n",
      "       [0.25698474])\n",
      "epoch:0, batch_id:18, loss:Tensor(shape=[1], dtype=float32, place=Place(cpu), stop_gradient=False,\n",
      "       [0.24399289])\n",
      "epoch:0, batch_id:19, loss:Tensor(shape=[1], dtype=float32, place=Place(cpu), stop_gradient=False,\n",
      "       [0.23385248])\n",
      "epoch:0, batch_id:20, loss:Tensor(shape=[1], dtype=float32, place=Place(cpu), stop_gradient=False,\n",
      "       [0.24920952])\n"
     ]
    },
    {
     "ename": "ValueError",
     "evalue": "(InvalidArgument) Variable value (input) of OP(fluid.layers.embedding) expected >= 0 and < 12118, but got 12118. Please check input value.\n  [Hint: Expected ids[i] < row_number, but received ids[i]:12118 >= row_number:12118.] (at C:\\home\\workspace\\Paddle_release\\paddle\\phi\\kernels\\cpu\\embedding_kernel.cc:63)\n  [operator < lookup_table_v2 > error]",
     "output_type": "error",
     "traceback": [
      "\u001b[1;31m---------------------------------------------------------------------------\u001b[0m",
      "\u001b[1;31mValueError\u001b[0m                                Traceback (most recent call last)",
      "Cell \u001b[1;32mIn[56], line 10\u001b[0m\n\u001b[0;32m      7\u001b[0m x_data \u001b[39m=\u001b[39m paddle\u001b[39m.\u001b[39mcast(x_data, dtype\u001b[39m=\u001b[39m\u001b[39m'\u001b[39m\u001b[39mint32\u001b[39m\u001b[39m'\u001b[39m)\n\u001b[0;32m      8\u001b[0m y_data \u001b[39m=\u001b[39m paddle\u001b[39m.\u001b[39mcast(y_data, dtype\u001b[39m=\u001b[39m\u001b[39m'\u001b[39m\u001b[39mfloat32\u001b[39m\u001b[39m'\u001b[39m)\n\u001b[1;32m---> 10\u001b[0m y_pred \u001b[39m=\u001b[39m dssm(x_data)\n\u001b[0;32m     11\u001b[0m loss \u001b[39m=\u001b[39m nn\u001b[39m.\u001b[39mfunctional\u001b[39m.\u001b[39mmse_loss(y_pred, y_data)\n\u001b[0;32m     12\u001b[0m \u001b[39m# acc = paddle.metric.accuracy(y_pred, y_data)\u001b[39;00m\n",
      "File \u001b[1;32md:\\program files\\anaconda\\envs\\env_name\\lib\\site-packages\\paddle\\fluid\\dygraph\\layers.py:930\u001b[0m, in \u001b[0;36mLayer.__call__\u001b[1;34m(self, *inputs, **kwargs)\u001b[0m\n\u001b[0;32m    928\u001b[0m     \u001b[39mreturn\u001b[39;00m \u001b[39mself\u001b[39m\u001b[39m.\u001b[39mforward(\u001b[39m*\u001b[39minputs, \u001b[39m*\u001b[39m\u001b[39m*\u001b[39mkwargs)\n\u001b[0;32m    929\u001b[0m \u001b[39melse\u001b[39;00m:\n\u001b[1;32m--> 930\u001b[0m     \u001b[39mreturn\u001b[39;00m \u001b[39mself\u001b[39m\u001b[39m.\u001b[39m_dygraph_call_func(\u001b[39m*\u001b[39minputs, \u001b[39m*\u001b[39m\u001b[39m*\u001b[39mkwargs)\n",
      "File \u001b[1;32md:\\program files\\anaconda\\envs\\env_name\\lib\\site-packages\\paddle\\fluid\\dygraph\\layers.py:915\u001b[0m, in \u001b[0;36mLayer._dygraph_call_func\u001b[1;34m(self, *inputs, **kwargs)\u001b[0m\n\u001b[0;32m    913\u001b[0m         outputs \u001b[39m=\u001b[39m \u001b[39mself\u001b[39m\u001b[39m.\u001b[39mforward(\u001b[39m*\u001b[39minputs, \u001b[39m*\u001b[39m\u001b[39m*\u001b[39mkwargs)\n\u001b[0;32m    914\u001b[0m \u001b[39melse\u001b[39;00m:\n\u001b[1;32m--> 915\u001b[0m     outputs \u001b[39m=\u001b[39m \u001b[39mself\u001b[39m\u001b[39m.\u001b[39mforward(\u001b[39m*\u001b[39minputs, \u001b[39m*\u001b[39m\u001b[39m*\u001b[39mkwargs)\n\u001b[0;32m    917\u001b[0m \u001b[39mfor\u001b[39;00m forward_post_hook \u001b[39min\u001b[39;00m \u001b[39mself\u001b[39m\u001b[39m.\u001b[39m_forward_post_hooks\u001b[39m.\u001b[39mvalues():\n\u001b[0;32m    918\u001b[0m     hook_result \u001b[39m=\u001b[39m forward_post_hook(\u001b[39mself\u001b[39m, inputs, outputs)\n",
      "Cell \u001b[1;32mIn[40], line 17\u001b[0m, in \u001b[0;36mDSSM.forward\u001b[1;34m(self, input)\u001b[0m\n\u001b[0;32m     15\u001b[0m \u001b[39mdef\u001b[39;00m \u001b[39mforward\u001b[39m(\u001b[39mself\u001b[39m, \u001b[39minput\u001b[39m):\n\u001b[0;32m     16\u001b[0m     \u001b[39m# user tower\u001b[39;00m\n\u001b[1;32m---> 17\u001b[0m     user \u001b[39m=\u001b[39m \u001b[39mself\u001b[39;49m\u001b[39m.\u001b[39;49musers_emb(\u001b[39minput\u001b[39;49m[:,\u001b[39m0\u001b[39;49m])\n\u001b[0;32m     18\u001b[0m     user \u001b[39m=\u001b[39m \u001b[39mself\u001b[39m\u001b[39m.\u001b[39musers_fc1(user)\n\u001b[0;32m     19\u001b[0m     user \u001b[39m=\u001b[39m nn\u001b[39m.\u001b[39mfunctional\u001b[39m.\u001b[39mrelu(user)\n",
      "File \u001b[1;32md:\\program files\\anaconda\\envs\\env_name\\lib\\site-packages\\paddle\\fluid\\dygraph\\layers.py:930\u001b[0m, in \u001b[0;36mLayer.__call__\u001b[1;34m(self, *inputs, **kwargs)\u001b[0m\n\u001b[0;32m    928\u001b[0m     \u001b[39mreturn\u001b[39;00m \u001b[39mself\u001b[39m\u001b[39m.\u001b[39mforward(\u001b[39m*\u001b[39minputs, \u001b[39m*\u001b[39m\u001b[39m*\u001b[39mkwargs)\n\u001b[0;32m    929\u001b[0m \u001b[39melse\u001b[39;00m:\n\u001b[1;32m--> 930\u001b[0m     \u001b[39mreturn\u001b[39;00m \u001b[39mself\u001b[39m\u001b[39m.\u001b[39m_dygraph_call_func(\u001b[39m*\u001b[39minputs, \u001b[39m*\u001b[39m\u001b[39m*\u001b[39mkwargs)\n",
      "File \u001b[1;32md:\\program files\\anaconda\\envs\\env_name\\lib\\site-packages\\paddle\\fluid\\dygraph\\layers.py:915\u001b[0m, in \u001b[0;36mLayer._dygraph_call_func\u001b[1;34m(self, *inputs, **kwargs)\u001b[0m\n\u001b[0;32m    913\u001b[0m         outputs \u001b[39m=\u001b[39m \u001b[39mself\u001b[39m\u001b[39m.\u001b[39mforward(\u001b[39m*\u001b[39minputs, \u001b[39m*\u001b[39m\u001b[39m*\u001b[39mkwargs)\n\u001b[0;32m    914\u001b[0m \u001b[39melse\u001b[39;00m:\n\u001b[1;32m--> 915\u001b[0m     outputs \u001b[39m=\u001b[39m \u001b[39mself\u001b[39m\u001b[39m.\u001b[39mforward(\u001b[39m*\u001b[39minputs, \u001b[39m*\u001b[39m\u001b[39m*\u001b[39mkwargs)\n\u001b[0;32m    917\u001b[0m \u001b[39mfor\u001b[39;00m forward_post_hook \u001b[39min\u001b[39;00m \u001b[39mself\u001b[39m\u001b[39m.\u001b[39m_forward_post_hooks\u001b[39m.\u001b[39mvalues():\n\u001b[0;32m    918\u001b[0m     hook_result \u001b[39m=\u001b[39m forward_post_hook(\u001b[39mself\u001b[39m, inputs, outputs)\n",
      "File \u001b[1;32md:\\program files\\anaconda\\envs\\env_name\\lib\\site-packages\\paddle\\nn\\layer\\common.py:1464\u001b[0m, in \u001b[0;36mEmbedding.forward\u001b[1;34m(self, x)\u001b[0m\n\u001b[0;32m   1463\u001b[0m \u001b[39mdef\u001b[39;00m \u001b[39mforward\u001b[39m(\u001b[39mself\u001b[39m, x):\n\u001b[1;32m-> 1464\u001b[0m     \u001b[39mreturn\u001b[39;00m F\u001b[39m.\u001b[39;49membedding(\n\u001b[0;32m   1465\u001b[0m         x,\n\u001b[0;32m   1466\u001b[0m         weight\u001b[39m=\u001b[39;49m\u001b[39mself\u001b[39;49m\u001b[39m.\u001b[39;49mweight,\n\u001b[0;32m   1467\u001b[0m         padding_idx\u001b[39m=\u001b[39;49m\u001b[39mself\u001b[39;49m\u001b[39m.\u001b[39;49m_padding_idx,\n\u001b[0;32m   1468\u001b[0m         sparse\u001b[39m=\u001b[39;49m\u001b[39mself\u001b[39;49m\u001b[39m.\u001b[39;49m_sparse,\n\u001b[0;32m   1469\u001b[0m         name\u001b[39m=\u001b[39;49m\u001b[39mself\u001b[39;49m\u001b[39m.\u001b[39;49m_name)\n",
      "File \u001b[1;32md:\\program files\\anaconda\\envs\\env_name\\lib\\site-packages\\paddle\\nn\\functional\\input.py:204\u001b[0m, in \u001b[0;36membedding\u001b[1;34m(x, weight, padding_idx, sparse, name)\u001b[0m\n\u001b[0;32m    200\u001b[0m     \u001b[39mraise\u001b[39;00m \u001b[39mValueError\u001b[39;00m(\u001b[39m\"\u001b[39m\u001b[39mpadding_idx must be within [-\u001b[39m\u001b[39m{}\u001b[39;00m\u001b[39m, \u001b[39m\u001b[39m{}\u001b[39;00m\u001b[39m)\u001b[39m\u001b[39m\"\u001b[39m\u001b[39m.\u001b[39mformat(\n\u001b[0;32m    201\u001b[0m         weight\u001b[39m.\u001b[39mshape[\u001b[39m0\u001b[39m], weight\u001b[39m.\u001b[39mshape[\u001b[39m0\u001b[39m]))\n\u001b[0;32m    203\u001b[0m \u001b[39mif\u001b[39;00m in_dynamic_mode():\n\u001b[1;32m--> 204\u001b[0m     \u001b[39mreturn\u001b[39;00m _C_ops\u001b[39m.\u001b[39;49mlookup_table_v2(\n\u001b[0;32m    205\u001b[0m         weight, x, \u001b[39m'\u001b[39;49m\u001b[39mis_sparse\u001b[39;49m\u001b[39m'\u001b[39;49m, sparse, \u001b[39m'\u001b[39;49m\u001b[39mis_distributed\u001b[39;49m\u001b[39m'\u001b[39;49m, \u001b[39mFalse\u001b[39;49;00m,\n\u001b[0;32m    206\u001b[0m         \u001b[39m'\u001b[39;49m\u001b[39mremote_prefetch\u001b[39;49m\u001b[39m'\u001b[39;49m, \u001b[39mFalse\u001b[39;49;00m, \u001b[39m'\u001b[39;49m\u001b[39mpadding_idx\u001b[39;49m\u001b[39m'\u001b[39;49m, padding_idx)\n\u001b[0;32m    207\u001b[0m \u001b[39melse\u001b[39;00m:\n\u001b[0;32m    208\u001b[0m     helper \u001b[39m=\u001b[39m LayerHelper(\u001b[39m'\u001b[39m\u001b[39membedding\u001b[39m\u001b[39m'\u001b[39m, \u001b[39m*\u001b[39m\u001b[39m*\u001b[39m\u001b[39mlocals\u001b[39m())\n",
      "\u001b[1;31mValueError\u001b[0m: (InvalidArgument) Variable value (input) of OP(fluid.layers.embedding) expected >= 0 and < 12118, but got 12118. Please check input value.\n  [Hint: Expected ids[i] < row_number, but received ids[i]:12118 >= row_number:12118.] (at C:\\home\\workspace\\Paddle_release\\paddle\\phi\\kernels\\cpu\\embedding_kernel.cc:63)\n  [operator < lookup_table_v2 > error]"
     ]
    }
   ],
   "source": [
    "dssm.train()\n",
    "optim = paddle.optimizer.Adam(parameters=dssm.parameters())\n",
    "for epoch in range(5):\n",
    "    for batch_id, data in enumerate(train_dataset):\n",
    "        x_data = data[0]\n",
    "        y_data = data[1]\n",
    "        x_data = paddle.cast(x_data, dtype='int32')\n",
    "        y_data = paddle.cast(y_data, dtype='float32')\n",
    "\n",
    "        y_pred = dssm(x_data)\n",
    "        loss = nn.functional.mse_loss(y_pred, y_data)\n",
    "        # acc = paddle.metric.accuracy(y_pred, y_data)\n",
    "        loss.backward()\n",
    "\n",
    "        print('epoch:{}, batch_id:{}, loss:{}'.format(epoch, batch_id, loss))\n",
    "        optim.step()\n",
    "        optim.clear_grad()"
   ]
  },
  {
   "cell_type": "code",
   "execution_count": 30,
   "id": "2d3f3df0",
   "metadata": {},
   "outputs": [
    {
     "data": {
      "text/plain": [
       "[Tensor(shape=[64, 2], dtype=float64, place=Place(cpu), stop_gradient=True,\n",
       "        [[1146. , 17031.],\n",
       "         [4950. , 10555.],\n",
       "         [4979. , 5716. ],\n",
       "         [2431. , 3671. ],\n",
       "         [7472. , 7562. ],\n",
       "         [4921. , 3812. ],\n",
       "         [9802. , 1470. ],\n",
       "         [343.  , 19488.],\n",
       "         [2243. , 20133.],\n",
       "         [2448. , 5251. ],\n",
       "         [4280. , 19240.],\n",
       "         [1575. , 9388. ],\n",
       "         [2746. , 17934.],\n",
       "         [5900. , 11502.],\n",
       "         [8494. , 5323. ],\n",
       "         [1879. , 8074. ],\n",
       "         [7569. , 5612. ],\n",
       "         [543.  , 22135.],\n",
       "         [6790. , 6787. ],\n",
       "         [8210. , 10629.],\n",
       "         [10980., 18532.],\n",
       "         [10521., 18770.],\n",
       "         [6454. , 5223. ],\n",
       "         [539.  , 4084. ],\n",
       "         [5959. , 18073.],\n",
       "         [1562. , 9796. ],\n",
       "         [10087., 11181.],\n",
       "         [7406. , 8037. ],\n",
       "         [8942. , 21811.],\n",
       "         [11180., 14558.],\n",
       "         [3318. , 6478. ],\n",
       "         [6565. , 18131.],\n",
       "         [10693., 13031.],\n",
       "         [12070., 1148. ],\n",
       "         [9087. , 5070. ],\n",
       "         [3437. , 18640.],\n",
       "         [5363. , 3683. ],\n",
       "         [8482. , 6594. ],\n",
       "         [232.  , 13796.],\n",
       "         [6774. , 7343. ],\n",
       "         [6553. , 19434.],\n",
       "         [2270. , 3805. ],\n",
       "         [6874. , 1474. ],\n",
       "         [8294. , 2285. ],\n",
       "         [9273. , 6306. ],\n",
       "         [4300. , 13824.],\n",
       "         [9869. , 10934.],\n",
       "         [7423. , 10253.],\n",
       "         [1838. , 8105. ],\n",
       "         [5923. , 6445. ],\n",
       "         [11064., 4953. ],\n",
       "         [1333. , 7642. ],\n",
       "         [3351. , 3644. ],\n",
       "         [6938. , 14672.],\n",
       "         [9224. , 5993. ],\n",
       "         [1960. , 1545. ],\n",
       "         [865.  , 14014.],\n",
       "         [1912. , 4052. ],\n",
       "         [2903. , 4632. ],\n",
       "         [5963. , 9989. ],\n",
       "         [10838., 14935.],\n",
       "         [2622. , 21272.],\n",
       "         [9774. , 1432. ],\n",
       "         [9225. , 5757. ]]),\n",
       " Tensor(shape=[64], dtype=float64, place=Place(cpu), stop_gradient=True,\n",
       "        [0., 1., 0., 1., 1., 0., 1., 0., 0., 0., 0., 1., 0., 1., 1., 1., 0., 0.,\n",
       "         0., 1., 0., 0., 1., 0., 0., 1., 1., 0., 0., 0., 0., 0., 0., 1., 1., 0.,\n",
       "         0., 1., 0., 1., 0., 1., 1., 1., 0., 0., 1., 1., 1., 1., 1., 0., 1., 0.,\n",
       "         1., 1., 0., 0., 1., 1., 0., 0., 0., 0.])]"
      ]
     },
     "execution_count": 30,
     "metadata": {},
     "output_type": "execute_result"
    }
   ],
   "source": [
    "data"
   ]
  },
  {
   "cell_type": "code",
   "execution_count": 51,
   "id": "c98bfd46",
   "metadata": {},
   "outputs": [
    {
     "data": {
      "text/plain": [
       "Tensor(shape=[64], dtype=float64, place=Place(cpu), stop_gradient=True,\n",
       "       [1., 1., 1., 0., 1., 1., 1., 0., 0., 0., 0., 0., 0., 0., 1., 0., 0., 0.,\n",
       "        0., 0., 1., 0., 0., 0., 0., 1., 0., 1., 1., 0., 0., 0., 1., 0., 1., 0.,\n",
       "        0., 0., 1., 1., 0., 0., 0., 0., 0., 0., 1., 1., 0., 1., 0., 1., 1., 0.,\n",
       "        1., 0., 0., 0., 0., 0., 0., 0., 1., 1.])"
      ]
     },
     "execution_count": 51,
     "metadata": {},
     "output_type": "execute_result"
    }
   ],
   "source": [
    "y_data"
   ]
  },
  {
   "cell_type": "code",
   "execution_count": 45,
   "id": "5b19b309",
   "metadata": {},
   "outputs": [
    {
     "data": {
      "text/plain": [
       "Tensor(shape=[64], dtype=float32, place=Place(cpu), stop_gradient=False,\n",
       "       [-0.03624624,  0.09251690, -0.02924162, -0.03696593,  0.04947633,\n",
       "        -0.04739025,  0.02739131,  0.06242286, -0.05397279,  0.09485026,\n",
       "         0.12078779, -0.02650407, -0.01777668,  0.05751164,  0.07002698,\n",
       "        -0.07981928,  0.08102811, -0.07164367, -0.06135988, -0.00247602,\n",
       "         0.10192709,  0.07498968, -0.11466093, -0.03832404,  0.08107851,\n",
       "        -0.00783026, -0.02105457,  0.04965549, -0.03060984, -0.01571941,\n",
       "         0.04017977, -0.07176577, -0.01948790,  0.01310847,  0.07121481,\n",
       "        -0.00315862, -0.02790038,  0.10602467, -0.15124713, -0.10561380,\n",
       "         0.04842491, -0.13094470, -0.00558484, -0.02209545, -0.04983817,\n",
       "        -0.09771534,  0.08581641,  0.13174142, -0.01187345,  0.10064415,\n",
       "         0.16601695, -0.03741694, -0.00030887, -0.05058313,  0.00818057,\n",
       "         0.06957771,  0.01286996,  0.01521156, -0.03210000,  0.10589895,\n",
       "        -0.04387652,  0.04937097,  0.07548474,  0.00369448])"
      ]
     },
     "execution_count": 45,
     "metadata": {},
     "output_type": "execute_result"
    }
   ],
   "source": [
    "y_pred"
   ]
  },
  {
   "cell_type": "code",
   "execution_count": null,
   "id": "17889ae5",
   "metadata": {},
   "outputs": [],
   "source": [
    "y_"
   ]
  },
  {
   "cell_type": "code",
   "execution_count": 49,
   "id": "e53b03f8",
   "metadata": {},
   "outputs": [
    {
     "ename": "ValueError",
     "evalue": "(InvalidArgument) The type of data we are trying to retrieve does not match the type of data currently contained in the container.\n  [Hint: Expected dtype() == paddle::experimental::CppTypeToDataType<T>::Type(), but received dtype():5 != paddle::experimental::CppTypeToDataType<T>::Type():12.] (at C:\\home\\workspace\\Paddle_release\\paddle\\phi\\core\\dense_tensor.cc:137)\n  [operator < elementwise_sub > error]",
     "output_type": "error",
     "traceback": [
      "\u001b[1;31m---------------------------------------------------------------------------\u001b[0m",
      "\u001b[1;31mValueError\u001b[0m                                Traceback (most recent call last)",
      "Cell \u001b[1;32mIn[49], line 1\u001b[0m\n\u001b[1;32m----> 1\u001b[0m paddle\u001b[39m.\u001b[39;49mnn\u001b[39m.\u001b[39;49mfunctional\u001b[39m.\u001b[39;49mmse_loss(y_pred, y_data)\n",
      "File \u001b[1;32md:\\program files\\anaconda\\envs\\env_name\\lib\\site-packages\\paddle\\nn\\functional\\loss.py:1038\u001b[0m, in \u001b[0;36mmse_loss\u001b[1;34m(input, label, reduction, name)\u001b[0m\n\u001b[0;32m   1035\u001b[0m     \u001b[39mreturn\u001b[39;00m paddle\u001b[39m.\u001b[39msquare(paddle\u001b[39m.\u001b[39msubtract(\u001b[39minput\u001b[39m, label), name\u001b[39m=\u001b[39mname)\n\u001b[0;32m   1036\u001b[0m \u001b[39melif\u001b[39;00m reduction \u001b[39m==\u001b[39m \u001b[39m'\u001b[39m\u001b[39mmean\u001b[39m\u001b[39m'\u001b[39m:\n\u001b[0;32m   1037\u001b[0m     \u001b[39mreturn\u001b[39;00m paddle\u001b[39m.\u001b[39mmean(\n\u001b[1;32m-> 1038\u001b[0m         paddle\u001b[39m.\u001b[39msquare(paddle\u001b[39m.\u001b[39;49msubtract(\u001b[39minput\u001b[39;49m, label)), name\u001b[39m=\u001b[39mname)\n\u001b[0;32m   1039\u001b[0m \u001b[39melse\u001b[39;00m:\n\u001b[0;32m   1040\u001b[0m     \u001b[39mreturn\u001b[39;00m paddle\u001b[39m.\u001b[39msum(paddle\u001b[39m.\u001b[39msquare(paddle\u001b[39m.\u001b[39msubtract(\u001b[39minput\u001b[39m, label)),\n\u001b[0;32m   1041\u001b[0m                       name\u001b[39m=\u001b[39mname)\n",
      "File \u001b[1;32md:\\program files\\anaconda\\envs\\env_name\\lib\\site-packages\\paddle\\tensor\\math.py:360\u001b[0m, in \u001b[0;36msubtract\u001b[1;34m(x, y, name)\u001b[0m\n\u001b[0;32m    358\u001b[0m \u001b[39melse\u001b[39;00m:\n\u001b[0;32m    359\u001b[0m     \u001b[39mif\u001b[39;00m _in_legacy_dygraph():\n\u001b[1;32m--> 360\u001b[0m         \u001b[39mreturn\u001b[39;00m _elementwise_op_in_dygraph(\n\u001b[0;32m    361\u001b[0m             x, y, axis\u001b[39m=\u001b[39;49maxis, act\u001b[39m=\u001b[39;49mact, op_name\u001b[39m=\u001b[39;49mop_type)\n\u001b[0;32m    362\u001b[0m     \u001b[39melse\u001b[39;00m:\n\u001b[0;32m    363\u001b[0m         \u001b[39mreturn\u001b[39;00m _elementwise_op(LayerHelper(op_type, \u001b[39m*\u001b[39m\u001b[39m*\u001b[39m\u001b[39mlocals\u001b[39m()))\n",
      "File \u001b[1;32md:\\program files\\anaconda\\envs\\env_name\\lib\\site-packages\\decorator.py:232\u001b[0m, in \u001b[0;36mdecorate.<locals>.fun\u001b[1;34m(*args, **kw)\u001b[0m\n\u001b[0;32m    230\u001b[0m \u001b[39mif\u001b[39;00m \u001b[39mnot\u001b[39;00m kwsyntax:\n\u001b[0;32m    231\u001b[0m     args, kw \u001b[39m=\u001b[39m fix(args, kw, sig)\n\u001b[1;32m--> 232\u001b[0m \u001b[39mreturn\u001b[39;00m caller(func, \u001b[39m*\u001b[39m(extras \u001b[39m+\u001b[39m args), \u001b[39m*\u001b[39m\u001b[39m*\u001b[39mkw)\n",
      "File \u001b[1;32md:\\program files\\anaconda\\envs\\env_name\\lib\\site-packages\\paddle\\fluid\\wrapped_decorator.py:25\u001b[0m, in \u001b[0;36mwrap_decorator.<locals>.__impl__\u001b[1;34m(func, *args, **kwargs)\u001b[0m\n\u001b[0;32m     22\u001b[0m \u001b[39m@decorator\u001b[39m\u001b[39m.\u001b[39mdecorator\n\u001b[0;32m     23\u001b[0m \u001b[39mdef\u001b[39;00m \u001b[39m__impl__\u001b[39m(func, \u001b[39m*\u001b[39margs, \u001b[39m*\u001b[39m\u001b[39m*\u001b[39mkwargs):\n\u001b[0;32m     24\u001b[0m     wrapped_func \u001b[39m=\u001b[39m decorator_func(func)\n\u001b[1;32m---> 25\u001b[0m     \u001b[39mreturn\u001b[39;00m wrapped_func(\u001b[39m*\u001b[39margs, \u001b[39m*\u001b[39m\u001b[39m*\u001b[39mkwargs)\n",
      "File \u001b[1;32md:\\program files\\anaconda\\envs\\env_name\\lib\\site-packages\\paddle\\fluid\\framework.py:434\u001b[0m, in \u001b[0;36m_dygraph_only_.<locals>.__impl__\u001b[1;34m(*args, **kwargs)\u001b[0m\n\u001b[0;32m    431\u001b[0m \u001b[39mdef\u001b[39;00m \u001b[39m__impl__\u001b[39m(\u001b[39m*\u001b[39margs, \u001b[39m*\u001b[39m\u001b[39m*\u001b[39mkwargs):\n\u001b[0;32m    432\u001b[0m     \u001b[39massert\u001b[39;00m _non_static_mode(\n\u001b[0;32m    433\u001b[0m     ), \u001b[39m\"\u001b[39m\u001b[39mWe only support \u001b[39m\u001b[39m'\u001b[39m\u001b[39m%s\u001b[39;00m\u001b[39m()\u001b[39m\u001b[39m'\u001b[39m\u001b[39m in dynamic graph mode, please call \u001b[39m\u001b[39m'\u001b[39m\u001b[39mpaddle.disable_static()\u001b[39m\u001b[39m'\u001b[39m\u001b[39m to enter dynamic graph mode.\u001b[39m\u001b[39m\"\u001b[39m \u001b[39m%\u001b[39m func\u001b[39m.\u001b[39m\u001b[39m__name__\u001b[39m\n\u001b[1;32m--> 434\u001b[0m     \u001b[39mreturn\u001b[39;00m func(\u001b[39m*\u001b[39margs, \u001b[39m*\u001b[39m\u001b[39m*\u001b[39mkwargs)\n",
      "File \u001b[1;32md:\\program files\\anaconda\\envs\\env_name\\lib\\site-packages\\paddle\\tensor\\math.py:210\u001b[0m, in \u001b[0;36m_elementwise_op_in_dygraph\u001b[1;34m(x, y, axis, act, use_mkldnn, op_name)\u001b[0m\n\u001b[0;32m    208\u001b[0m \u001b[39mif\u001b[39;00m op_name \u001b[39mnot\u001b[39;00m \u001b[39min\u001b[39;00m OP_NAMEMAPPING\u001b[39m.\u001b[39mkeys():\n\u001b[0;32m    209\u001b[0m     op \u001b[39m=\u001b[39m \u001b[39mgetattr\u001b[39m(_C_ops, op_name)\n\u001b[1;32m--> 210\u001b[0m     out \u001b[39m=\u001b[39m op(x, y, \u001b[39m'\u001b[39;49m\u001b[39maxis\u001b[39;49m\u001b[39m'\u001b[39;49m, axis, \u001b[39m'\u001b[39;49m\u001b[39muse_mkldnn\u001b[39;49m\u001b[39m'\u001b[39;49m, use_mkldnn)\n\u001b[0;32m    211\u001b[0m \u001b[39melse\u001b[39;00m:\n\u001b[0;32m    212\u001b[0m     \u001b[39mif\u001b[39;00m in_dygraph_mode():\n",
      "\u001b[1;31mValueError\u001b[0m: (InvalidArgument) The type of data we are trying to retrieve does not match the type of data currently contained in the container.\n  [Hint: Expected dtype() == paddle::experimental::CppTypeToDataType<T>::Type(), but received dtype():5 != paddle::experimental::CppTypeToDataType<T>::Type():12.] (at C:\\home\\workspace\\Paddle_release\\paddle\\phi\\core\\dense_tensor.cc:137)\n  [operator < elementwise_sub > error]"
     ]
    }
   ],
   "source": [
    "paddle.nn.functional.mse_loss(y_pred, y_data)"
   ]
  }
 ],
 "metadata": {
  "kernelspec": {
   "display_name": "Python 3 (ipykernel)",
   "language": "python",
   "name": "python3"
  },
  "language_info": {
   "codemirror_mode": {
    "name": "ipython",
    "version": 3
   },
   "file_extension": ".py",
   "mimetype": "text/x-python",
   "name": "python",
   "nbconvert_exporter": "python",
   "pygments_lexer": "ipython3",
   "version": "3.9.7"
  }
 },
 "nbformat": 4,
 "nbformat_minor": 5
}
