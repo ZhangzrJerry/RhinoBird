{
 "cells": [
  {
   "cell_type": "code",
   "execution_count": 1,
   "id": "406f4bbe-990a-436e-9168-809e84983257",
   "metadata": {},
   "outputs": [],
   "source": [
    "import pickle, time\n",
    "import numpy as np\n",
    "import paddle\n",
    "import pandas as pd\n",
    "import paddle.nn as nn\n",
    "from tqdm import tqdm\n",
    "\n",
    "t_file = open('data/train_data.pkl', 'rb')\n",
    "train_data = pickle.load(t_file)\n",
    "v_file = open('data/eval_data.pkl', 'rb')\n",
    "eval_data = pickle.load(v_file)\n",
    "\n",
    "users_df = pd.read_csv('data/users.csv')\n",
    "items_df = pd.read_csv('data/items.csv')"
   ]
  },
  {
   "cell_type": "code",
   "execution_count": 16,
   "id": "051e3d83-4c2a-4b0f-8ee2-945235de9cb7",
   "metadata": {},
   "outputs": [],
   "source": [
    "emb_scale = 128\n",
    "batch_size = 2048\n",
    "len_users = len(users_df)\n",
    "len_items = len(items_df)"
   ]
  },
  {
   "cell_type": "code",
   "execution_count": 17,
   "id": "cd697ef3-0e7a-4436-9dd4-82a8d4e90311",
   "metadata": {},
   "outputs": [],
   "source": [
    "class Dataset(paddle.io.Dataset):\n",
    "    def __init__(self, data):\n",
    "        self.feature = data[:,0:2]\n",
    "        self.label = data[:,2]\n",
    "        pass\n",
    "    def __getitem__(self, idx):\n",
    "        return self.feature[idx], self.label[idx]\n",
    "    def __len__(self):\n",
    "        return len(self.feature)\n",
    "    pass\n",
    "\n",
    "train_dataset = paddle.io.DataLoader(Dataset(train_data),\n",
    "                               batch_size=batch_size,\n",
    "                               drop_last=True,\n",
    "                               shuffle=True)\n",
    "eval_dataset = paddle.io.DataLoader(Dataset(eval_data),\n",
    "                               batch_size=batch_size,\n",
    "                               drop_last=True,\n",
    "                               shuffle=True)                               "
   ]
  },
  {
   "cell_type": "code",
   "execution_count": 37,
   "id": "7cf4e82d-ab80-4829-804b-7769fb1af4a4",
   "metadata": {},
   "outputs": [],
   "source": [
    "class DSSM(nn.Layer):\n",
    "    def __init__(self):\n",
    "        super(DSSM,self).__init__()\n",
    "        self.users_emb = nn.Embedding(len_users+1, emb_scale)\n",
    "        self.items_emb = nn.Embedding(len_items+1, emb_scale)\n",
    "        self.users_fc1 = nn.Linear(emb_scale, 512)\n",
    "        self.users_fc2 = nn.Linear(512, 300)\n",
    "        self.users_fc3 = nn.Linear(300, 300)\n",
    "        self.users_fc4 = nn.Linear(300, 128)\n",
    "        self.items_fc1 = nn.Linear(emb_scale, 512)\n",
    "        self.items_fc2 = nn.Linear(512, 300)\n",
    "        self.items_fc3 = nn.Linear(300, 300)\n",
    "        self.items_fc4 = nn.Linear(300, 128)\n",
    "        pass\n",
    "    def forward(self, input):\n",
    "        # user tower\n",
    "        user = self.users_emb(input[:,0])\n",
    "        user = self.users_fc1(user)\n",
    "        user = nn.functional.relu(user)\n",
    "        user = self.users_fc2(user)\n",
    "        user = nn.functional.relu(user)\n",
    "        user = self.users_fc3(user)\n",
    "        user = nn.functional.relu(user)\n",
    "        user = self.users_fc4(user)\n",
    "        # item tower\n",
    "        item = self.items_emb(input[:,1])\n",
    "        item = self.items_fc1(item)\n",
    "        item = nn.functional.relu(item)\n",
    "        item = self.items_fc2(item)\n",
    "        item = nn.functional.relu(item)\n",
    "        item = self.items_fc3(item)\n",
    "        item = nn.functional.relu(item)\n",
    "        item = self.items_fc4(item)\n",
    "        # similarity\n",
    "        x = nn.functional.cosine_similarity(user, item, axis=1)\n",
    "        x = nn.functional.sigmoid(x)\n",
    "        return x\n",
    "    pass\n",
    "dssm = DSSM()\n",
    "optim = paddle.optimizer.Adam(parameters=dssm.parameters(), learning_rate=0.01)"
   ]
  },
  {
   "cell_type": "code",
   "execution_count": 38,
   "id": "9b9081bf",
   "metadata": {},
   "outputs": [
    {
     "name": "stderr",
     "output_type": "stream",
     "text": [
      "100%|██████████| 122/122 [00:58<00:00,  2.07it/s]\n"
     ]
    },
    {
     "name": "stdout",
     "output_type": "stream",
     "text": [
      "epoch:1, loss:0.15457591911156973, acc:0.4939778645833333\n"
     ]
    },
    {
     "name": "stderr",
     "output_type": "stream",
     "text": [
      "100%|██████████| 122/122 [00:56<00:00,  2.16it/s]\n"
     ]
    },
    {
     "name": "stdout",
     "output_type": "stream",
     "text": [
      "epoch:2, loss:0.14861618975798288, acc:0.492431640625\n"
     ]
    },
    {
     "name": "stderr",
     "output_type": "stream",
     "text": [
      "100%|██████████| 122/122 [00:56<00:00,  2.15it/s]\n"
     ]
    },
    {
     "name": "stdout",
     "output_type": "stream",
     "text": [
      "epoch:3, loss:0.14723734060923258, acc:0.4920247395833333\n"
     ]
    },
    {
     "name": "stderr",
     "output_type": "stream",
     "text": [
      "100%|██████████| 122/122 [00:56<00:00,  2.14it/s]\n"
     ]
    },
    {
     "name": "stdout",
     "output_type": "stream",
     "text": [
      "epoch:4, loss:0.14682750403881073, acc:0.4940592447916667\n"
     ]
    },
    {
     "name": "stderr",
     "output_type": "stream",
     "text": [
      "100%|██████████| 122/122 [00:58<00:00,  2.10it/s]\n"
     ]
    },
    {
     "name": "stdout",
     "output_type": "stream",
     "text": [
      "epoch:5, loss:0.14744037886460623, acc:0.4921061197916667\n"
     ]
    },
    {
     "name": "stderr",
     "output_type": "stream",
     "text": [
      "100%|██████████| 122/122 [00:55<00:00,  2.21it/s]\n"
     ]
    },
    {
     "name": "stdout",
     "output_type": "stream",
     "text": [
      "epoch:6, loss:0.14691203832626343, acc:0.495361328125\n"
     ]
    },
    {
     "name": "stderr",
     "output_type": "stream",
     "text": [
      "100%|██████████| 122/122 [01:01<00:00,  1.99it/s]\n"
     ]
    },
    {
     "name": "stdout",
     "output_type": "stream",
     "text": [
      "epoch:7, loss:0.14647282163302103, acc:0.4972330729166667\n"
     ]
    },
    {
     "name": "stderr",
     "output_type": "stream",
     "text": [
      "100%|██████████| 122/122 [01:05<00:00,  1.87it/s]\n"
     ]
    },
    {
     "name": "stdout",
     "output_type": "stream",
     "text": [
      "epoch:8, loss:0.14605757097403207, acc:0.492431640625\n"
     ]
    },
    {
     "name": "stderr",
     "output_type": "stream",
     "text": [
      "100%|██████████| 122/122 [01:06<00:00,  1.85it/s]\n"
     ]
    },
    {
     "name": "stdout",
     "output_type": "stream",
     "text": [
      "epoch:9, loss:0.1460950349768003, acc:0.4938151041666667\n"
     ]
    },
    {
     "name": "stderr",
     "output_type": "stream",
     "text": [
      "100%|██████████| 122/122 [01:04<00:00,  1.88it/s]\n"
     ]
    },
    {
     "name": "stdout",
     "output_type": "stream",
     "text": [
      "epoch:10, loss:0.14642977466185889, acc:0.4935709635416667\n"
     ]
    }
   ],
   "source": [
    "train_loss_, train_acc_, eval_loss_, eval_acc_ = [], [], [], []\n",
    "\n",
    "for epoch in range(10):\n",
    "\n",
    "    train_loss, train_acc, eval_loss, eval_acc = 0, 0, 0, 0\n",
    "    dssm.train()\n",
    "\n",
    "    for batch_id, data in enumerate(tqdm(train_dataset)):\n",
    "        x_data = data[0]\n",
    "        y_data = data[1]\n",
    "        x_data = paddle.cast(x_data, dtype='int32')\n",
    "\n",
    "        y_pred = dssm(x_data)\n",
    "        loss = nn.functional.mse_loss(y_pred, paddle.cast(y_data, dtype='float32'))\n",
    "        acc = paddle.static.accuracy(paddle.reshape(y_pred, (batch_size, 1)), paddle.reshape(paddle.cast(y_data, dtype='int64'), (batch_size, 1)))\n",
    "        loss.backward()\n",
    "\n",
    "        optim.step()\n",
    "        optim.clear_grad()\n",
    "        train_loss += loss.numpy()[0]\n",
    "        train_acc += acc.numpy()[0]\n",
    "    \n",
    "    train_loss /= (batch_id + 1)\n",
    "    train_acc /= (batch_id + 1)\n",
    "    train_loss_.append(train_loss)\n",
    "    train_acc_.append(train_acc)\n",
    "    path = 'DSSM/{}_epoch{}_loss{}_acc{}_model.pdparams'.format(int(time.time()), (epoch + 1), train_loss, train_acc)\n",
    "    dssm.eval()\n",
    "\n",
    "    for batch_id, data in enumerate(eval_dataset):\n",
    "        x_data = data[0]\n",
    "        y_data = data[1]\n",
    "        x_data = paddle.cast(x_data, dtype='int32')\n",
    "\n",
    "        y_pred = dssm(x_data)\n",
    "        loss = nn.functional.mse_loss(y_pred, paddle.cast(y_data, dtype='float32'))\n",
    "        acc = paddle.static.accuracy(paddle.reshape(y_pred, (batch_size, 1)), paddle.reshape(paddle.cast(y_data, dtype='int64'), (batch_size, 1)))\n",
    "        eval_loss += loss.numpy()[0]\n",
    "        eval_acc += acc.numpy()[0]\n",
    "\n",
    "    eval_loss /= (batch_id + 1)\n",
    "    eval_acc /= (batch_id + 1)\n",
    "    eval_loss_.append(eval_loss)\n",
    "    eval_acc_.append(eval_acc)\n",
    "    print('epoch:{}, loss:{}, acc:{}'.format((epoch + 1), eval_loss, eval_acc))\n",
    "\n",
    "    # obj = {'model': dssm.state_dict(), 'opt': optim.state_dict(), 'epoch': epoch}\n",
    "    # path = 'DSSM/{}_epoch{}_loss{}_acc{}_model.pdparams'.format(int(time.time()), (epoch + 1), eval_loss, eval_acc)\n",
    "    # paddle.save(obj, path)\n",
    "\n",
    "pd.DataFrame({\n",
    "    'train_loss':train_loss_,\n",
    "    'train_acc':train_acc_, \n",
    "    'eval_loss':eval_loss_,\n",
    "    'eval_acc':eval_acc_\n",
    "}).to_csv('DSSM/normal.csv')"
   ]
  },
  {
   "cell_type": "code",
   "execution_count": 39,
   "id": "21900ee9",
   "metadata": {},
   "outputs": [
    {
     "name": "stderr",
     "output_type": "stream",
     "text": [
      "100%|██████████| 122/122 [00:52<00:00,  2.33it/s]\n"
     ]
    },
    {
     "name": "stdout",
     "output_type": "stream",
     "text": [
      "epoch:1, loss:0.1177648976445198, acc:0.4918619791666667\n"
     ]
    },
    {
     "name": "stderr",
     "output_type": "stream",
     "text": [
      "100%|██████████| 122/122 [00:53<00:00,  2.30it/s]\n"
     ]
    },
    {
     "name": "stdout",
     "output_type": "stream",
     "text": [
      "epoch:2, loss:0.109431608269612, acc:0.49267578125\n"
     ]
    },
    {
     "name": "stderr",
     "output_type": "stream",
     "text": [
      "100%|██████████| 122/122 [00:52<00:00,  2.32it/s]\n"
     ]
    },
    {
     "name": "stdout",
     "output_type": "stream",
     "text": [
      "epoch:3, loss:0.10864504054188728, acc:0.49365234375\n"
     ]
    },
    {
     "name": "stderr",
     "output_type": "stream",
     "text": [
      "100%|██████████| 122/122 [00:56<00:00,  2.18it/s]\n"
     ]
    },
    {
     "name": "stdout",
     "output_type": "stream",
     "text": [
      "epoch:4, loss:0.10975036894281705, acc:0.4944661458333333\n"
     ]
    },
    {
     "name": "stderr",
     "output_type": "stream",
     "text": [
      "100%|██████████| 122/122 [01:06<00:00,  1.84it/s]\n"
     ]
    },
    {
     "name": "stdout",
     "output_type": "stream",
     "text": [
      "epoch:5, loss:0.10968084260821342, acc:0.4911295572916667\n"
     ]
    },
    {
     "name": "stderr",
     "output_type": "stream",
     "text": [
      "100%|██████████| 122/122 [01:09<00:00,  1.75it/s]\n"
     ]
    },
    {
     "name": "stdout",
     "output_type": "stream",
     "text": [
      "epoch:6, loss:0.11150561397274335, acc:0.493896484375\n"
     ]
    },
    {
     "name": "stderr",
     "output_type": "stream",
     "text": [
      "100%|██████████| 122/122 [01:16<00:00,  1.60it/s]\n"
     ]
    },
    {
     "name": "stdout",
     "output_type": "stream",
     "text": [
      "epoch:7, loss:0.11300800740718842, acc:0.493408203125\n"
     ]
    },
    {
     "name": "stderr",
     "output_type": "stream",
     "text": [
      "100%|██████████| 122/122 [01:24<00:00,  1.44it/s]\n"
     ]
    },
    {
     "name": "stdout",
     "output_type": "stream",
     "text": [
      "epoch:8, loss:0.11155947297811508, acc:0.4922688802083333\n"
     ]
    },
    {
     "name": "stderr",
     "output_type": "stream",
     "text": [
      "100%|██████████| 122/122 [01:10<00:00,  1.73it/s]\n"
     ]
    },
    {
     "name": "stdout",
     "output_type": "stream",
     "text": [
      "epoch:9, loss:0.11418220276633899, acc:0.4915364583333333\n"
     ]
    },
    {
     "name": "stderr",
     "output_type": "stream",
     "text": [
      "100%|██████████| 122/122 [01:14<00:00,  1.64it/s]\n"
     ]
    },
    {
     "name": "stdout",
     "output_type": "stream",
     "text": [
      "epoch:10, loss:0.11421835670868556, acc:0.491455078125\n"
     ]
    }
   ],
   "source": [
    "class DSSM(nn.Layer):\n",
    "    def __init__(self):\n",
    "        super(DSSM,self).__init__()\n",
    "        self.users_emb = nn.Embedding(len_users+1, emb_scale)\n",
    "        self.items_emb = nn.Embedding(len_items+1, emb_scale)\n",
    "        self.users_fc1 = nn.Linear(emb_scale, 512)\n",
    "        self.users_fc2 = nn.Linear(512, 300)\n",
    "        self.users_fc3 = nn.Linear(300, 300)\n",
    "        self.users_fc4 = nn.Linear(300, 128)\n",
    "        self.items_fc1 = nn.Linear(emb_scale, 512)\n",
    "        self.items_fc2 = nn.Linear(512, 300)\n",
    "        self.items_fc3 = nn.Linear(300, 300)\n",
    "        self.items_fc4 = nn.Linear(300, 128)\n",
    "        pass\n",
    "    def forward(self, input):\n",
    "        # user tower\n",
    "        user = self.users_emb(input[:,0])\n",
    "        user = self.users_fc1(user)\n",
    "        user = nn.functional.relu(user)\n",
    "        user = self.users_fc2(user)\n",
    "        user = nn.functional.relu(user)\n",
    "        user = self.users_fc3(user)\n",
    "        user = nn.functional.relu(user)\n",
    "        user = self.users_fc4(user)\n",
    "        # item tower\n",
    "        item = self.items_emb(input[:,1])\n",
    "        item = self.items_fc1(item)\n",
    "        item = nn.functional.relu(item)\n",
    "        item = self.items_fc2(item)\n",
    "        item = nn.functional.relu(item)\n",
    "        item = self.items_fc3(item)\n",
    "        item = nn.functional.relu(item)\n",
    "        item = self.items_fc4(item)\n",
    "        # similarity\n",
    "        x = nn.functional.cosine_similarity(user, item, axis=1)\n",
    "        # x = nn.functional.sigmoid(x)\n",
    "        return x\n",
    "    pass\n",
    "dssm = DSSM()\n",
    "optim = paddle.optimizer.Adam(parameters=dssm.parameters(), learning_rate=0.01)\n",
    "\n",
    "train_loss_, train_acc_, eval_loss_, eval_acc_ = [], [], [], []\n",
    "\n",
    "for epoch in range(10):\n",
    "\n",
    "    train_loss, train_acc, eval_loss, eval_acc = 0, 0, 0, 0\n",
    "    dssm.train()\n",
    "\n",
    "    for batch_id, data in enumerate(tqdm(train_dataset)):\n",
    "        x_data = data[0]\n",
    "        y_data = data[1]\n",
    "        x_data = paddle.cast(x_data, dtype='int32')\n",
    "\n",
    "        y_pred = dssm(x_data)\n",
    "        loss = nn.functional.mse_loss(y_pred, paddle.cast(y_data, dtype='float32'))\n",
    "        acc = paddle.static.accuracy(paddle.reshape(y_pred, (batch_size, 1)), paddle.reshape(paddle.cast(y_data, dtype='int64'), (batch_size, 1)))\n",
    "        loss.backward()\n",
    "\n",
    "        optim.step()\n",
    "        optim.clear_grad()\n",
    "        train_loss += loss.numpy()[0]\n",
    "        train_acc += acc.numpy()[0]\n",
    "    \n",
    "    train_loss /= (batch_id + 1)\n",
    "    train_acc /= (batch_id + 1)\n",
    "    train_loss_.append(train_loss)\n",
    "    train_acc_.append(train_acc)\n",
    "    path = 'DSSM/{}_epoch{}_loss{}_acc{}_model.pdparams'.format(int(time.time()), (epoch + 1), train_loss, train_acc)\n",
    "    dssm.eval()\n",
    "\n",
    "    for batch_id, data in enumerate(eval_dataset):\n",
    "        x_data = data[0]\n",
    "        y_data = data[1]\n",
    "        x_data = paddle.cast(x_data, dtype='int32')\n",
    "\n",
    "        y_pred = dssm(x_data)\n",
    "        loss = nn.functional.mse_loss(y_pred, paddle.cast(y_data, dtype='float32'))\n",
    "        acc = paddle.static.accuracy(paddle.reshape(y_pred, (batch_size, 1)), paddle.reshape(paddle.cast(y_data, dtype='int64'), (batch_size, 1)))\n",
    "        eval_loss += loss.numpy()[0]\n",
    "        eval_acc += acc.numpy()[0]\n",
    "\n",
    "    eval_loss /= (batch_id + 1)\n",
    "    eval_acc /= (batch_id + 1)\n",
    "    eval_loss_.append(eval_loss)\n",
    "    eval_acc_.append(eval_acc)\n",
    "    print('epoch:{}, loss:{}, acc:{}'.format((epoch + 1), eval_loss, eval_acc))\n",
    "\n",
    "    # obj = {'model': dssm.state_dict(), 'opt': optim.state_dict(), 'epoch': epoch}\n",
    "    # path = 'DSSM/{}_epoch{}_loss{}_acc{}_model.pdparams'.format(int(time.time()), (epoch + 1), eval_loss, eval_acc)\n",
    "    # paddle.save(obj, path)\n",
    "\n",
    "pd.DataFrame({\n",
    "    'train_loss':train_loss_,\n",
    "    'train_acc':train_acc_, \n",
    "    'eval_loss':eval_loss_,\n",
    "    'eval_acc':eval_acc_\n",
    "}).to_csv('DSSM/without_sigmoid.csv')"
   ]
  },
  {
   "cell_type": "code",
   "execution_count": 40,
   "id": "c5ca8c9a",
   "metadata": {},
   "outputs": [
    {
     "name": "stderr",
     "output_type": "stream",
     "text": [
      "100%|██████████| 122/122 [00:59<00:00,  2.05it/s]\n"
     ]
    },
    {
     "name": "stdout",
     "output_type": "stream",
     "text": [
      "epoch:1, loss:0.14743067572514215, acc:0.493408203125\n"
     ]
    },
    {
     "name": "stderr",
     "output_type": "stream",
     "text": [
      "100%|██████████| 122/122 [00:58<00:00,  2.10it/s]\n"
     ]
    },
    {
     "name": "stdout",
     "output_type": "stream",
     "text": [
      "epoch:2, loss:0.146359254916509, acc:0.4933268229166667\n"
     ]
    },
    {
     "name": "stderr",
     "output_type": "stream",
     "text": [
      "100%|██████████| 122/122 [01:05<00:00,  1.85it/s]\n"
     ]
    },
    {
     "name": "stdout",
     "output_type": "stream",
     "text": [
      "epoch:3, loss:0.14518695821364722, acc:0.4922688802083333\n"
     ]
    },
    {
     "name": "stderr",
     "output_type": "stream",
     "text": [
      "100%|██████████| 122/122 [01:00<00:00,  2.01it/s]\n"
     ]
    },
    {
     "name": "stdout",
     "output_type": "stream",
     "text": [
      "epoch:4, loss:0.14524018516143164, acc:0.494873046875\n"
     ]
    },
    {
     "name": "stderr",
     "output_type": "stream",
     "text": [
      "100%|██████████| 122/122 [01:00<00:00,  2.02it/s]\n"
     ]
    },
    {
     "name": "stdout",
     "output_type": "stream",
     "text": [
      "epoch:5, loss:0.14557377497355142, acc:0.494140625\n"
     ]
    },
    {
     "name": "stderr",
     "output_type": "stream",
     "text": [
      "100%|██████████| 122/122 [01:06<00:00,  1.85it/s]\n"
     ]
    },
    {
     "name": "stdout",
     "output_type": "stream",
     "text": [
      "epoch:6, loss:0.1449700469772021, acc:0.4940592447916667\n"
     ]
    },
    {
     "name": "stderr",
     "output_type": "stream",
     "text": [
      "100%|██████████| 122/122 [01:08<00:00,  1.78it/s]\n"
     ]
    },
    {
     "name": "stdout",
     "output_type": "stream",
     "text": [
      "epoch:7, loss:0.14533897240956625, acc:0.4913736979166667\n"
     ]
    },
    {
     "name": "stderr",
     "output_type": "stream",
     "text": [
      "100%|██████████| 122/122 [01:14<00:00,  1.64it/s]\n"
     ]
    },
    {
     "name": "stdout",
     "output_type": "stream",
     "text": [
      "epoch:8, loss:0.14603708187739053, acc:0.4951171875\n"
     ]
    },
    {
     "name": "stderr",
     "output_type": "stream",
     "text": [
      "100%|██████████| 122/122 [01:20<00:00,  1.52it/s]\n"
     ]
    },
    {
     "name": "stdout",
     "output_type": "stream",
     "text": [
      "epoch:9, loss:0.1457853987812996, acc:0.4925944010416667\n"
     ]
    },
    {
     "name": "stderr",
     "output_type": "stream",
     "text": [
      "100%|██████████| 122/122 [01:12<00:00,  1.69it/s]\n"
     ]
    },
    {
     "name": "stdout",
     "output_type": "stream",
     "text": [
      "epoch:10, loss:0.14626964430014291, acc:0.4940592447916667\n"
     ]
    }
   ],
   "source": [
    "class DSSM(nn.Layer):\n",
    "    def __init__(self):\n",
    "        super(DSSM,self).__init__()\n",
    "        self.users_emb = nn.Embedding(len_users+1, emb_scale)\n",
    "        self.items_emb = nn.Embedding(len_items+1, emb_scale)\n",
    "        self.users_fc1 = nn.Linear(emb_scale, 512)\n",
    "        self.users_fc2 = nn.Linear(512, 300)\n",
    "        self.users_fc3 = nn.Linear(300, 300)\n",
    "        self.users_fc4 = nn.Linear(300, 128)\n",
    "        self.items_fc1 = nn.Linear(emb_scale, 512)\n",
    "        self.items_fc2 = nn.Linear(512, 300)\n",
    "        self.items_fc3 = nn.Linear(300, 300)\n",
    "        self.items_fc4 = nn.Linear(300, 128)\n",
    "        pass\n",
    "    def forward(self, input):\n",
    "        # user tower\n",
    "        user = self.users_emb(input[:,0])\n",
    "        user = self.users_fc1(user)\n",
    "        user = nn.functional.relu(user)\n",
    "        user = self.users_fc2(user)\n",
    "        user = nn.functional.relu(user)\n",
    "        user = self.users_fc3(user)\n",
    "        user = nn.functional.relu(user)\n",
    "        user = self.users_fc4(user)\n",
    "        # item tower\n",
    "        item = self.items_emb(input[:,1])\n",
    "        item = self.items_fc1(item)\n",
    "        item = nn.functional.relu(item)\n",
    "        item = self.items_fc2(item)\n",
    "        item = nn.functional.relu(item)\n",
    "        item = self.items_fc3(item)\n",
    "        item = nn.functional.relu(item)\n",
    "        item = self.items_fc4(item)\n",
    "        # similarity\n",
    "        x = nn.functional.cosine_similarity(user, item, axis=1)\n",
    "        x = nn.functional.sigmoid(x)\n",
    "        return x\n",
    "    pass\n",
    "dssm = DSSM()\n",
    "optim = paddle.optimizer.Adam(parameters=dssm.parameters(), learning_rate=0.001)\n",
    "\n",
    "train_loss_, train_acc_, eval_loss_, eval_acc_ = [], [], [], []\n",
    "\n",
    "for epoch in range(10):\n",
    "\n",
    "    train_loss, train_acc, eval_loss, eval_acc = 0, 0, 0, 0\n",
    "    dssm.train()\n",
    "\n",
    "    for batch_id, data in enumerate(tqdm(train_dataset)):\n",
    "        x_data = data[0]\n",
    "        y_data = data[1]\n",
    "        x_data = paddle.cast(x_data, dtype='int32')\n",
    "\n",
    "        y_pred = dssm(x_data)\n",
    "        loss = nn.functional.mse_loss(y_pred, paddle.cast(y_data, dtype='float32'))\n",
    "        acc = paddle.static.accuracy(paddle.reshape(y_pred, (batch_size, 1)), paddle.reshape(paddle.cast(y_data, dtype='int64'), (batch_size, 1)))\n",
    "        loss.backward()\n",
    "\n",
    "        optim.step()\n",
    "        optim.clear_grad()\n",
    "        train_loss += loss.numpy()[0]\n",
    "        train_acc += acc.numpy()[0]\n",
    "    \n",
    "    train_loss /= (batch_id + 1)\n",
    "    train_acc /= (batch_id + 1)\n",
    "    train_loss_.append(train_loss)\n",
    "    train_acc_.append(train_acc)\n",
    "    path = 'DSSM/{}_epoch{}_loss{}_acc{}_model.pdparams'.format(int(time.time()), (epoch + 1), train_loss, train_acc)\n",
    "    dssm.eval()\n",
    "\n",
    "    for batch_id, data in enumerate(eval_dataset):\n",
    "        x_data = data[0]\n",
    "        y_data = data[1]\n",
    "        x_data = paddle.cast(x_data, dtype='int32')\n",
    "\n",
    "        y_pred = dssm(x_data)\n",
    "        loss = nn.functional.mse_loss(y_pred, paddle.cast(y_data, dtype='float32'))\n",
    "        acc = paddle.static.accuracy(paddle.reshape(y_pred, (batch_size, 1)), paddle.reshape(paddle.cast(y_data, dtype='int64'), (batch_size, 1)))\n",
    "        eval_loss += loss.numpy()[0]\n",
    "        eval_acc += acc.numpy()[0]\n",
    "\n",
    "    eval_loss /= (batch_id + 1)\n",
    "    eval_acc /= (batch_id + 1)\n",
    "    eval_loss_.append(eval_loss)\n",
    "    eval_acc_.append(eval_acc)\n",
    "    print('epoch:{}, loss:{}, acc:{}'.format((epoch + 1), eval_loss, eval_acc))\n",
    "\n",
    "    # obj = {'model': dssm.state_dict(), 'opt': optim.state_dict(), 'epoch': epoch}\n",
    "    # path = 'DSSM/{}_epoch{}_loss{}_acc{}_model.pdparams'.format(int(time.time()), (epoch + 1), eval_loss, eval_acc)\n",
    "    # paddle.save(obj, path)\n",
    "\n",
    "pd.DataFrame({\n",
    "    'train_loss':train_loss_,\n",
    "    'train_acc':train_acc_, \n",
    "    'eval_loss':eval_loss_,\n",
    "    'eval_acc':eval_acc_\n",
    "}).to_csv('DSSM/lower_lr.csv')"
   ]
  },
  {
   "cell_type": "code",
   "execution_count": 41,
   "id": "e951fc50",
   "metadata": {},
   "outputs": [
    {
     "name": "stderr",
     "output_type": "stream",
     "text": [
      "100%|██████████| 122/122 [00:33<00:00,  3.59it/s]\n"
     ]
    },
    {
     "name": "stdout",
     "output_type": "stream",
     "text": [
      "epoch:1, loss:0.14963758240143457, acc:0.4949544270833333\n"
     ]
    },
    {
     "name": "stderr",
     "output_type": "stream",
     "text": [
      "100%|██████████| 122/122 [00:34<00:00,  3.56it/s]\n"
     ]
    },
    {
     "name": "stdout",
     "output_type": "stream",
     "text": [
      "epoch:2, loss:0.14667517940203348, acc:0.496826171875\n"
     ]
    },
    {
     "name": "stderr",
     "output_type": "stream",
     "text": [
      "100%|██████████| 122/122 [00:29<00:00,  4.08it/s]\n"
     ]
    },
    {
     "name": "stdout",
     "output_type": "stream",
     "text": [
      "epoch:3, loss:0.1470512573917707, acc:0.4949544270833333\n"
     ]
    },
    {
     "name": "stderr",
     "output_type": "stream",
     "text": [
      "100%|██████████| 122/122 [00:25<00:00,  4.87it/s]\n"
     ]
    },
    {
     "name": "stdout",
     "output_type": "stream",
     "text": [
      "epoch:4, loss:0.14655507107575735, acc:0.4949544270833333\n"
     ]
    },
    {
     "name": "stderr",
     "output_type": "stream",
     "text": [
      "100%|██████████| 122/122 [00:31<00:00,  3.82it/s]\n"
     ]
    },
    {
     "name": "stdout",
     "output_type": "stream",
     "text": [
      "epoch:5, loss:0.14704072227080664, acc:0.4942220052083333\n"
     ]
    },
    {
     "name": "stderr",
     "output_type": "stream",
     "text": [
      "100%|██████████| 122/122 [00:31<00:00,  3.89it/s]\n"
     ]
    },
    {
     "name": "stdout",
     "output_type": "stream",
     "text": [
      "epoch:6, loss:0.14736505846182504, acc:0.494140625\n"
     ]
    },
    {
     "name": "stderr",
     "output_type": "stream",
     "text": [
      "100%|██████████| 122/122 [00:30<00:00,  3.99it/s]\n"
     ]
    },
    {
     "name": "stdout",
     "output_type": "stream",
     "text": [
      "epoch:7, loss:0.14717899511257806, acc:0.4930826822916667\n"
     ]
    },
    {
     "name": "stderr",
     "output_type": "stream",
     "text": [
      "100%|██████████| 122/122 [00:30<00:00,  3.98it/s]\n"
     ]
    },
    {
     "name": "stdout",
     "output_type": "stream",
     "text": [
      "epoch:8, loss:0.14668302734692892, acc:0.4943033854166667\n"
     ]
    },
    {
     "name": "stderr",
     "output_type": "stream",
     "text": [
      "100%|██████████| 122/122 [00:29<00:00,  4.20it/s]\n"
     ]
    },
    {
     "name": "stdout",
     "output_type": "stream",
     "text": [
      "epoch:9, loss:0.14700371523698172, acc:0.4942220052083333\n"
     ]
    },
    {
     "name": "stderr",
     "output_type": "stream",
     "text": [
      "100%|██████████| 122/122 [00:31<00:00,  3.93it/s]\n"
     ]
    },
    {
     "name": "stdout",
     "output_type": "stream",
     "text": [
      "epoch:10, loss:0.14699816207091013, acc:0.4927571614583333\n"
     ]
    }
   ],
   "source": [
    "class DSSM(nn.Layer):\n",
    "    def __init__(self):\n",
    "        super(DSSM,self).__init__()\n",
    "        self.users_emb = nn.Embedding(len_users+1, emb_scale)\n",
    "        self.items_emb = nn.Embedding(len_items+1, emb_scale)\n",
    "        self.users_fc1 = nn.Linear(emb_scale, 512)\n",
    "        self.users_fc2 = nn.Linear(512, 300)\n",
    "        self.users_fc3 = nn.Linear(300, 300)\n",
    "        self.users_fc4 = nn.Linear(300, 128)\n",
    "        self.items_fc1 = nn.Linear(emb_scale, 512)\n",
    "        self.items_fc2 = nn.Linear(512, 300)\n",
    "        self.items_fc3 = nn.Linear(300, 300)\n",
    "        self.items_fc4 = nn.Linear(300, 128)\n",
    "        pass\n",
    "    def forward(self, input):\n",
    "        # user tower\n",
    "        user = self.users_emb(input[:,0])\n",
    "        user = self.users_fc1(user)\n",
    "        # user = nn.functional.relu(user)\n",
    "        # user = self.users_fc2(user)\n",
    "        # user = nn.functional.relu(user)\n",
    "        # user = self.users_fc3(user)\n",
    "        # user = nn.functional.relu(user)\n",
    "        # user = self.users_fc4(user)\n",
    "        # item tower\n",
    "        item = self.items_emb(input[:,1])\n",
    "        item = self.items_fc1(item)\n",
    "        # item = nn.functional.relu(item)\n",
    "        # item = self.items_fc2(item)\n",
    "        # item = nn.functional.relu(item)\n",
    "        # item = self.items_fc3(item)\n",
    "        # item = nn.functional.relu(item)\n",
    "        # item = self.items_fc4(item)\n",
    "        # similarity\n",
    "        x = nn.functional.cosine_similarity(user, item, axis=1)\n",
    "        x = nn.functional.sigmoid(x)\n",
    "        return x\n",
    "    pass\n",
    "dssm = DSSM()\n",
    "optim = paddle.optimizer.Adam(parameters=dssm.parameters(), learning_rate=0.01)\n",
    "\n",
    "train_loss_, train_acc_, eval_loss_, eval_acc_ = [], [], [], []\n",
    "\n",
    "for epoch in range(10):\n",
    "\n",
    "    train_loss, train_acc, eval_loss, eval_acc = 0, 0, 0, 0\n",
    "    dssm.train()\n",
    "\n",
    "    for batch_id, data in enumerate(tqdm(train_dataset)):\n",
    "        x_data = data[0]\n",
    "        y_data = data[1]\n",
    "        x_data = paddle.cast(x_data, dtype='int32')\n",
    "\n",
    "        y_pred = dssm(x_data)\n",
    "        loss = nn.functional.mse_loss(y_pred, paddle.cast(y_data, dtype='float32'))\n",
    "        acc = paddle.static.accuracy(paddle.reshape(y_pred, (batch_size, 1)), paddle.reshape(paddle.cast(y_data, dtype='int64'), (batch_size, 1)))\n",
    "        loss.backward()\n",
    "\n",
    "        optim.step()\n",
    "        optim.clear_grad()\n",
    "        train_loss += loss.numpy()[0]\n",
    "        train_acc += acc.numpy()[0]\n",
    "    \n",
    "    train_loss /= (batch_id + 1)\n",
    "    train_acc /= (batch_id + 1)\n",
    "    train_loss_.append(train_loss)\n",
    "    train_acc_.append(train_acc)\n",
    "    path = 'DSSM/{}_epoch{}_loss{}_acc{}_model.pdparams'.format(int(time.time()), (epoch + 1), train_loss, train_acc)\n",
    "    dssm.eval()\n",
    "\n",
    "    for batch_id, data in enumerate(eval_dataset):\n",
    "        x_data = data[0]\n",
    "        y_data = data[1]\n",
    "        x_data = paddle.cast(x_data, dtype='int32')\n",
    "\n",
    "        y_pred = dssm(x_data)\n",
    "        loss = nn.functional.mse_loss(y_pred, paddle.cast(y_data, dtype='float32'))\n",
    "        acc = paddle.static.accuracy(paddle.reshape(y_pred, (batch_size, 1)), paddle.reshape(paddle.cast(y_data, dtype='int64'), (batch_size, 1)))\n",
    "        eval_loss += loss.numpy()[0]\n",
    "        eval_acc += acc.numpy()[0]\n",
    "\n",
    "    eval_loss /= (batch_id + 1)\n",
    "    eval_acc /= (batch_id + 1)\n",
    "    eval_loss_.append(eval_loss)\n",
    "    eval_acc_.append(eval_acc)\n",
    "    print('epoch:{}, loss:{}, acc:{}'.format((epoch + 1), eval_loss, eval_acc))\n",
    "\n",
    "    # obj = {'model': dssm.state_dict(), 'opt': optim.state_dict(), 'epoch': epoch}\n",
    "    # path = 'DSSM/{}_epoch{}_loss{}_acc{}_model.pdparams'.format(int(time.time()), (epoch + 1), eval_loss, eval_acc)\n",
    "    # paddle.save(obj, path)\n",
    "\n",
    "pd.DataFrame({\n",
    "    'train_loss':train_loss_,\n",
    "    'train_acc':train_acc_, \n",
    "    'eval_loss':eval_loss_,\n",
    "    'eval_acc':eval_acc_\n",
    "}).to_csv('DSSM/simplt_model.csv')"
   ]
  },
  {
   "cell_type": "code",
   "execution_count": 42,
   "id": "9d867c00",
   "metadata": {},
   "outputs": [
    {
     "name": "stderr",
     "output_type": "stream",
     "text": [
      "100%|██████████| 122/122 [00:28<00:00,  4.28it/s]\n"
     ]
    },
    {
     "name": "stdout",
     "output_type": "stream",
     "text": [
      "epoch:1, loss:0.11470021804173787, acc:0.493408203125\n"
     ]
    },
    {
     "name": "stderr",
     "output_type": "stream",
     "text": [
      "100%|██████████| 122/122 [00:23<00:00,  5.14it/s]\n"
     ]
    },
    {
     "name": "stdout",
     "output_type": "stream",
     "text": [
      "epoch:2, loss:0.11422337964177132, acc:0.4959309895833333\n"
     ]
    },
    {
     "name": "stderr",
     "output_type": "stream",
     "text": [
      "100%|██████████| 122/122 [00:23<00:00,  5.29it/s]\n"
     ]
    },
    {
     "name": "stdout",
     "output_type": "stream",
     "text": [
      "epoch:3, loss:0.11506436516841252, acc:0.493408203125\n"
     ]
    },
    {
     "name": "stderr",
     "output_type": "stream",
     "text": [
      "100%|██████████| 122/122 [00:22<00:00,  5.35it/s]\n"
     ]
    },
    {
     "name": "stdout",
     "output_type": "stream",
     "text": [
      "epoch:4, loss:0.11604759966333707, acc:0.4942220052083333\n"
     ]
    },
    {
     "name": "stderr",
     "output_type": "stream",
     "text": [
      "100%|██████████| 122/122 [00:22<00:00,  5.33it/s]\n"
     ]
    },
    {
     "name": "stdout",
     "output_type": "stream",
     "text": [
      "epoch:5, loss:0.11402905980745952, acc:0.4944661458333333\n"
     ]
    },
    {
     "name": "stderr",
     "output_type": "stream",
     "text": [
      "100%|██████████| 122/122 [00:21<00:00,  5.60it/s]\n"
     ]
    },
    {
     "name": "stdout",
     "output_type": "stream",
     "text": [
      "epoch:6, loss:0.11669735486308734, acc:0.4920247395833333\n"
     ]
    },
    {
     "name": "stderr",
     "output_type": "stream",
     "text": [
      "100%|██████████| 122/122 [00:10<00:00, 11.86it/s]\n"
     ]
    },
    {
     "name": "stdout",
     "output_type": "stream",
     "text": [
      "epoch:7, loss:0.11601769427458446, acc:0.4916178385416667\n"
     ]
    },
    {
     "name": "stderr",
     "output_type": "stream",
     "text": [
      "100%|██████████| 122/122 [00:21<00:00,  5.63it/s]\n"
     ]
    },
    {
     "name": "stdout",
     "output_type": "stream",
     "text": [
      "epoch:8, loss:0.11684250583251317, acc:0.4931640625\n"
     ]
    },
    {
     "name": "stderr",
     "output_type": "stream",
     "text": [
      "100%|██████████| 122/122 [00:23<00:00,  5.26it/s]\n"
     ]
    },
    {
     "name": "stdout",
     "output_type": "stream",
     "text": [
      "epoch:9, loss:0.11529900878667831, acc:0.4925130208333333\n"
     ]
    },
    {
     "name": "stderr",
     "output_type": "stream",
     "text": [
      "100%|██████████| 122/122 [00:22<00:00,  5.32it/s]\n"
     ]
    },
    {
     "name": "stdout",
     "output_type": "stream",
     "text": [
      "epoch:10, loss:0.11619672924280167, acc:0.4930013020833333\n"
     ]
    }
   ],
   "source": [
    "class DSSM(nn.Layer):\n",
    "    def __init__(self):\n",
    "        super(DSSM,self).__init__()\n",
    "        self.users_emb = nn.Embedding(len_users+1, emb_scale)\n",
    "        self.items_emb = nn.Embedding(len_items+1, emb_scale)\n",
    "        self.users_fc1 = nn.Linear(emb_scale, 512)\n",
    "        self.users_fc2 = nn.Linear(512, 300)\n",
    "        self.users_fc3 = nn.Linear(300, 300)\n",
    "        self.users_fc4 = nn.Linear(300, 128)\n",
    "        self.items_fc1 = nn.Linear(emb_scale, 512)\n",
    "        self.items_fc2 = nn.Linear(512, 300)\n",
    "        self.items_fc3 = nn.Linear(300, 300)\n",
    "        self.items_fc4 = nn.Linear(300, 128)\n",
    "        pass\n",
    "    def forward(self, input):\n",
    "        # user tower\n",
    "        user = self.users_emb(input[:,0])\n",
    "        user = self.users_fc1(user)\n",
    "        # user = nn.functional.relu(user)\n",
    "        # user = self.users_fc2(user)\n",
    "        # user = nn.functional.relu(user)\n",
    "        # user = self.users_fc3(user)\n",
    "        # user = nn.functional.relu(user)\n",
    "        # user = self.users_fc4(user)\n",
    "        # item tower\n",
    "        item = self.items_emb(input[:,1])\n",
    "        item = self.items_fc1(item)\n",
    "        # item = nn.functional.relu(item)\n",
    "        # item = self.items_fc2(item)\n",
    "        # item = nn.functional.relu(item)\n",
    "        # item = self.items_fc3(item)\n",
    "        # item = nn.functional.relu(item)\n",
    "        # item = self.items_fc4(item)\n",
    "        # similarity\n",
    "        x = nn.functional.cosine_similarity(user, item, axis=1)\n",
    "        # x = nn.functional.sigmoid(x)\n",
    "        return x\n",
    "    pass\n",
    "dssm = DSSM()\n",
    "optim = paddle.optimizer.Adam(parameters=dssm.parameters(), learning_rate=0.01)\n",
    "\n",
    "train_loss_, train_acc_, eval_loss_, eval_acc_ = [], [], [], []\n",
    "\n",
    "for epoch in range(10):\n",
    "\n",
    "    train_loss, train_acc, eval_loss, eval_acc = 0, 0, 0, 0\n",
    "    dssm.train()\n",
    "\n",
    "    for batch_id, data in enumerate(tqdm(train_dataset)):\n",
    "        x_data = data[0]\n",
    "        y_data = data[1]\n",
    "        x_data = paddle.cast(x_data, dtype='int32')\n",
    "\n",
    "        y_pred = dssm(x_data)\n",
    "        loss = nn.functional.mse_loss(y_pred, paddle.cast(y_data, dtype='float32'))\n",
    "        acc = paddle.static.accuracy(paddle.reshape(y_pred, (batch_size, 1)), paddle.reshape(paddle.cast(y_data, dtype='int64'), (batch_size, 1)))\n",
    "        loss.backward()\n",
    "\n",
    "        optim.step()\n",
    "        optim.clear_grad()\n",
    "        train_loss += loss.numpy()[0]\n",
    "        train_acc += acc.numpy()[0]\n",
    "    \n",
    "    train_loss /= (batch_id + 1)\n",
    "    train_acc /= (batch_id + 1)\n",
    "    train_loss_.append(train_loss)\n",
    "    train_acc_.append(train_acc)\n",
    "    path = 'DSSM/{}_epoch{}_loss{}_acc{}_model.pdparams'.format(int(time.time()), (epoch + 1), train_loss, train_acc)\n",
    "    dssm.eval()\n",
    "\n",
    "    for batch_id, data in enumerate(eval_dataset):\n",
    "        x_data = data[0]\n",
    "        y_data = data[1]\n",
    "        x_data = paddle.cast(x_data, dtype='int32')\n",
    "\n",
    "        y_pred = dssm(x_data)\n",
    "        loss = nn.functional.mse_loss(y_pred, paddle.cast(y_data, dtype='float32'))\n",
    "        acc = paddle.static.accuracy(paddle.reshape(y_pred, (batch_size, 1)), paddle.reshape(paddle.cast(y_data, dtype='int64'), (batch_size, 1)))\n",
    "        eval_loss += loss.numpy()[0]\n",
    "        eval_acc += acc.numpy()[0]\n",
    "\n",
    "    eval_loss /= (batch_id + 1)\n",
    "    eval_acc /= (batch_id + 1)\n",
    "    eval_loss_.append(eval_loss)\n",
    "    eval_acc_.append(eval_acc)\n",
    "    print('epoch:{}, loss:{}, acc:{}'.format((epoch + 1), eval_loss, eval_acc))\n",
    "\n",
    "    # obj = {'model': dssm.state_dict(), 'opt': optim.state_dict(), 'epoch': epoch}\n",
    "    # path = 'DSSM/{}_epoch{}_loss{}_acc{}_model.pdparams'.format(int(time.time()), (epoch + 1), eval_loss, eval_acc)\n",
    "    # paddle.save(obj, path)\n",
    "\n",
    "pd.DataFrame({\n",
    "    'train_loss':train_loss_,\n",
    "    'train_acc':train_acc_, \n",
    "    'eval_loss':eval_loss_,\n",
    "    'eval_acc':eval_acc_\n",
    "}).to_csv('DSSM/simply_model_without_sigmoid.csv')"
   ]
  },
  {
   "cell_type": "code",
   "execution_count": 43,
   "id": "1b25303f",
   "metadata": {},
   "outputs": [
    {
     "name": "stderr",
     "output_type": "stream",
     "text": [
      "100%|██████████| 122/122 [00:24<00:00,  4.95it/s]\n"
     ]
    },
    {
     "name": "stdout",
     "output_type": "stream",
     "text": [
      "epoch:1, loss:0.14715813348690668, acc:0.4928385416666667\n"
     ]
    },
    {
     "name": "stderr",
     "output_type": "stream",
     "text": [
      "100%|██████████| 122/122 [00:22<00:00,  5.46it/s]\n"
     ]
    },
    {
     "name": "stdout",
     "output_type": "stream",
     "text": [
      "epoch:2, loss:0.1463107317686081, acc:0.4925130208333333\n"
     ]
    },
    {
     "name": "stderr",
     "output_type": "stream",
     "text": [
      "100%|██████████| 122/122 [00:16<00:00,  7.55it/s]\n"
     ]
    },
    {
     "name": "stdout",
     "output_type": "stream",
     "text": [
      "epoch:3, loss:0.14535200347503027, acc:0.494384765625\n"
     ]
    },
    {
     "name": "stderr",
     "output_type": "stream",
     "text": [
      "100%|██████████| 122/122 [00:20<00:00,  5.90it/s]\n"
     ]
    },
    {
     "name": "stdout",
     "output_type": "stream",
     "text": [
      "epoch:4, loss:0.14561459670464197, acc:0.49267578125\n"
     ]
    },
    {
     "name": "stderr",
     "output_type": "stream",
     "text": [
      "100%|██████████| 122/122 [00:25<00:00,  4.71it/s]\n"
     ]
    },
    {
     "name": "stdout",
     "output_type": "stream",
     "text": [
      "epoch:5, loss:0.1452353075146675, acc:0.4917805989583333\n"
     ]
    },
    {
     "name": "stderr",
     "output_type": "stream",
     "text": [
      "100%|██████████| 122/122 [00:24<00:00,  4.88it/s]\n"
     ]
    },
    {
     "name": "stdout",
     "output_type": "stream",
     "text": [
      "epoch:6, loss:0.14577202747265497, acc:0.491455078125\n"
     ]
    },
    {
     "name": "stderr",
     "output_type": "stream",
     "text": [
      "100%|██████████| 122/122 [00:25<00:00,  4.71it/s]\n"
     ]
    },
    {
     "name": "stdout",
     "output_type": "stream",
     "text": [
      "epoch:7, loss:0.14611390978097916, acc:0.492431640625\n"
     ]
    },
    {
     "name": "stderr",
     "output_type": "stream",
     "text": [
      "100%|██████████| 122/122 [00:25<00:00,  4.82it/s]\n"
     ]
    },
    {
     "name": "stdout",
     "output_type": "stream",
     "text": [
      "epoch:8, loss:0.14622468004624048, acc:0.4917805989583333\n"
     ]
    },
    {
     "name": "stderr",
     "output_type": "stream",
     "text": [
      "100%|██████████| 122/122 [00:22<00:00,  5.39it/s]\n"
     ]
    },
    {
     "name": "stdout",
     "output_type": "stream",
     "text": [
      "epoch:9, loss:0.14637544751167297, acc:0.4947916666666667\n"
     ]
    },
    {
     "name": "stderr",
     "output_type": "stream",
     "text": [
      "100%|██████████| 122/122 [00:22<00:00,  5.49it/s]\n"
     ]
    },
    {
     "name": "stdout",
     "output_type": "stream",
     "text": [
      "epoch:10, loss:0.14580203841129938, acc:0.4918619791666667\n"
     ]
    }
   ],
   "source": [
    "class DSSM(nn.Layer):\n",
    "    def __init__(self):\n",
    "        super(DSSM,self).__init__()\n",
    "        self.users_emb = nn.Embedding(len_users+1, emb_scale)\n",
    "        self.items_emb = nn.Embedding(len_items+1, emb_scale)\n",
    "        self.users_fc1 = nn.Linear(emb_scale, 512)\n",
    "        self.users_fc2 = nn.Linear(512, 300)\n",
    "        self.users_fc3 = nn.Linear(300, 300)\n",
    "        self.users_fc4 = nn.Linear(300, 128)\n",
    "        self.items_fc1 = nn.Linear(emb_scale, 512)\n",
    "        self.items_fc2 = nn.Linear(512, 300)\n",
    "        self.items_fc3 = nn.Linear(300, 300)\n",
    "        self.items_fc4 = nn.Linear(300, 128)\n",
    "        pass\n",
    "    def forward(self, input):\n",
    "        # user tower\n",
    "        user = self.users_emb(input[:,0])\n",
    "        user = self.users_fc1(user)\n",
    "        # user = nn.functional.relu(user)\n",
    "        # user = self.users_fc2(user)\n",
    "        # user = nn.functional.relu(user)\n",
    "        # user = self.users_fc3(user)\n",
    "        # user = nn.functional.relu(user)\n",
    "        # user = self.users_fc4(user)\n",
    "        # item tower\n",
    "        item = self.items_emb(input[:,1])\n",
    "        item = self.items_fc1(item)\n",
    "        # item = nn.functional.relu(item)\n",
    "        # item = self.items_fc2(item)\n",
    "        # item = nn.functional.relu(item)\n",
    "        # item = self.items_fc3(item)\n",
    "        # item = nn.functional.relu(item)\n",
    "        # item = self.items_fc4(item)\n",
    "        # similarity\n",
    "        x = nn.functional.cosine_similarity(user, item, axis=1)\n",
    "        x = nn.functional.sigmoid(x)\n",
    "        return x\n",
    "    pass\n",
    "dssm = DSSM()\n",
    "optim = paddle.optimizer.Adam(parameters=dssm.parameters(), learning_rate=0.001)\n",
    "\n",
    "train_loss_, train_acc_, eval_loss_, eval_acc_ = [], [], [], []\n",
    "\n",
    "for epoch in range(10):\n",
    "\n",
    "    train_loss, train_acc, eval_loss, eval_acc = 0, 0, 0, 0\n",
    "    dssm.train()\n",
    "\n",
    "    for batch_id, data in enumerate(tqdm(train_dataset)):\n",
    "        x_data = data[0]\n",
    "        y_data = data[1]\n",
    "        x_data = paddle.cast(x_data, dtype='int32')\n",
    "\n",
    "        y_pred = dssm(x_data)\n",
    "        loss = nn.functional.mse_loss(y_pred, paddle.cast(y_data, dtype='float32'))\n",
    "        acc = paddle.static.accuracy(paddle.reshape(y_pred, (batch_size, 1)), paddle.reshape(paddle.cast(y_data, dtype='int64'), (batch_size, 1)))\n",
    "        loss.backward()\n",
    "\n",
    "        optim.step()\n",
    "        optim.clear_grad()\n",
    "        train_loss += loss.numpy()[0]\n",
    "        train_acc += acc.numpy()[0]\n",
    "    \n",
    "    train_loss /= (batch_id + 1)\n",
    "    train_acc /= (batch_id + 1)\n",
    "    train_loss_.append(train_loss)\n",
    "    train_acc_.append(train_acc)\n",
    "    path = 'DSSM/{}_epoch{}_loss{}_acc{}_model.pdparams'.format(int(time.time()), (epoch + 1), train_loss, train_acc)\n",
    "    dssm.eval()\n",
    "\n",
    "    for batch_id, data in enumerate(eval_dataset):\n",
    "        x_data = data[0]\n",
    "        y_data = data[1]\n",
    "        x_data = paddle.cast(x_data, dtype='int32')\n",
    "\n",
    "        y_pred = dssm(x_data)\n",
    "        loss = nn.functional.mse_loss(y_pred, paddle.cast(y_data, dtype='float32'))\n",
    "        acc = paddle.static.accuracy(paddle.reshape(y_pred, (batch_size, 1)), paddle.reshape(paddle.cast(y_data, dtype='int64'), (batch_size, 1)))\n",
    "        eval_loss += loss.numpy()[0]\n",
    "        eval_acc += acc.numpy()[0]\n",
    "\n",
    "    eval_loss /= (batch_id + 1)\n",
    "    eval_acc /= (batch_id + 1)\n",
    "    eval_loss_.append(eval_loss)\n",
    "    eval_acc_.append(eval_acc)\n",
    "    print('epoch:{}, loss:{}, acc:{}'.format((epoch + 1), eval_loss, eval_acc))\n",
    "\n",
    "    # obj = {'model': dssm.state_dict(), 'opt': optim.state_dict(), 'epoch': epoch}\n",
    "    # path = 'DSSM/{}_epoch{}_loss{}_acc{}_model.pdparams'.format(int(time.time()), (epoch + 1), eval_loss, eval_acc)\n",
    "    # paddle.save(obj, path)\n",
    "\n",
    "pd.DataFrame({\n",
    "    'train_loss':train_loss_,\n",
    "    'train_acc':train_acc_, \n",
    "    'eval_loss':eval_loss_,\n",
    "    'eval_acc':eval_acc_\n",
    "}).to_csv('DSSM/simply_model_lower_lr.csv')"
   ]
  },
  {
   "cell_type": "code",
   "execution_count": 44,
   "id": "83cf29b9",
   "metadata": {},
   "outputs": [
    {
     "name": "stderr",
     "output_type": "stream",
     "text": [
      "100%|██████████| 122/122 [00:23<00:00,  5.11it/s]\n"
     ]
    },
    {
     "name": "stdout",
     "output_type": "stream",
     "text": [
      "epoch:1, loss:0.1102434868613879, acc:0.4969889322916667\n"
     ]
    },
    {
     "name": "stderr",
     "output_type": "stream",
     "text": [
      "100%|██████████| 122/122 [00:23<00:00,  5.25it/s]\n"
     ]
    },
    {
     "name": "stdout",
     "output_type": "stream",
     "text": [
      "epoch:2, loss:0.10920329764485359, acc:0.4937337239583333\n"
     ]
    },
    {
     "name": "stderr",
     "output_type": "stream",
     "text": [
      "100%|██████████| 122/122 [00:23<00:00,  5.13it/s]\n"
     ]
    },
    {
     "name": "stdout",
     "output_type": "stream",
     "text": [
      "epoch:3, loss:0.11195488398273785, acc:0.4928385416666667\n"
     ]
    },
    {
     "name": "stderr",
     "output_type": "stream",
     "text": [
      "100%|██████████| 122/122 [00:23<00:00,  5.18it/s]\n"
     ]
    },
    {
     "name": "stdout",
     "output_type": "stream",
     "text": [
      "epoch:4, loss:0.11322545632719994, acc:0.4952799479166667\n"
     ]
    },
    {
     "name": "stderr",
     "output_type": "stream",
     "text": [
      "100%|██████████| 122/122 [00:23<00:00,  5.25it/s]\n"
     ]
    },
    {
     "name": "stdout",
     "output_type": "stream",
     "text": [
      "epoch:5, loss:0.11431621635953586, acc:0.4947102864583333\n"
     ]
    },
    {
     "name": "stderr",
     "output_type": "stream",
     "text": [
      "100%|██████████| 122/122 [00:20<00:00,  5.81it/s]\n"
     ]
    },
    {
     "name": "stdout",
     "output_type": "stream",
     "text": [
      "epoch:6, loss:0.11482669164737065, acc:0.4934895833333333\n"
     ]
    },
    {
     "name": "stderr",
     "output_type": "stream",
     "text": [
      "100%|██████████| 122/122 [00:10<00:00, 11.68it/s]\n"
     ]
    },
    {
     "name": "stdout",
     "output_type": "stream",
     "text": [
      "epoch:7, loss:0.11474791541695595, acc:0.4935709635416667\n"
     ]
    },
    {
     "name": "stderr",
     "output_type": "stream",
     "text": [
      "100%|██████████| 122/122 [00:17<00:00,  7.01it/s]\n"
     ]
    },
    {
     "name": "stdout",
     "output_type": "stream",
     "text": [
      "epoch:8, loss:0.11506962403655052, acc:0.4931640625\n"
     ]
    },
    {
     "name": "stderr",
     "output_type": "stream",
     "text": [
      "100%|██████████| 122/122 [00:23<00:00,  5.19it/s]\n"
     ]
    },
    {
     "name": "stdout",
     "output_type": "stream",
     "text": [
      "epoch:9, loss:0.11377445111672084, acc:0.49365234375\n"
     ]
    },
    {
     "name": "stderr",
     "output_type": "stream",
     "text": [
      "100%|██████████| 122/122 [00:24<00:00,  4.92it/s]\n"
     ]
    },
    {
     "name": "stdout",
     "output_type": "stream",
     "text": [
      "epoch:10, loss:0.11446983988086383, acc:0.4921875\n"
     ]
    }
   ],
   "source": [
    "class DSSM(nn.Layer):\n",
    "    def __init__(self):\n",
    "        super(DSSM,self).__init__()\n",
    "        self.users_emb = nn.Embedding(len_users+1, emb_scale)\n",
    "        self.items_emb = nn.Embedding(len_items+1, emb_scale)\n",
    "        self.users_fc1 = nn.Linear(emb_scale, 512)\n",
    "        self.users_fc2 = nn.Linear(512, 300)\n",
    "        self.users_fc3 = nn.Linear(300, 300)\n",
    "        self.users_fc4 = nn.Linear(300, 128)\n",
    "        self.items_fc1 = nn.Linear(emb_scale, 512)\n",
    "        self.items_fc2 = nn.Linear(512, 300)\n",
    "        self.items_fc3 = nn.Linear(300, 300)\n",
    "        self.items_fc4 = nn.Linear(300, 128)\n",
    "        pass\n",
    "    def forward(self, input):\n",
    "        # user tower\n",
    "        user = self.users_emb(input[:,0])\n",
    "        user = self.users_fc1(user)\n",
    "        # user = nn.functional.relu(user)\n",
    "        # user = self.users_fc2(user)\n",
    "        # user = nn.functional.relu(user)\n",
    "        # user = self.users_fc3(user)\n",
    "        # user = nn.functional.relu(user)\n",
    "        # user = self.users_fc4(user)\n",
    "        # item tower\n",
    "        item = self.items_emb(input[:,1])\n",
    "        item = self.items_fc1(item)\n",
    "        # item = nn.functional.relu(item)\n",
    "        # item = self.items_fc2(item)\n",
    "        # item = nn.functional.relu(item)\n",
    "        # item = self.items_fc3(item)\n",
    "        # item = nn.functional.relu(item)\n",
    "        # item = self.items_fc4(item)\n",
    "        # similarity\n",
    "        x = nn.functional.cosine_similarity(user, item, axis=1)\n",
    "        # x = nn.functional.sigmoid(x)\n",
    "        return x\n",
    "    pass\n",
    "dssm = DSSM()\n",
    "optim = paddle.optimizer.Adam(parameters=dssm.parameters(), learning_rate=0.001)\n",
    "\n",
    "train_loss_, train_acc_, eval_loss_, eval_acc_ = [], [], [], []\n",
    "\n",
    "for epoch in range(10):\n",
    "\n",
    "    train_loss, train_acc, eval_loss, eval_acc = 0, 0, 0, 0\n",
    "    dssm.train()\n",
    "\n",
    "    for batch_id, data in enumerate(tqdm(train_dataset)):\n",
    "        x_data = data[0]\n",
    "        y_data = data[1]\n",
    "        x_data = paddle.cast(x_data, dtype='int32')\n",
    "\n",
    "        y_pred = dssm(x_data)\n",
    "        loss = nn.functional.mse_loss(y_pred, paddle.cast(y_data, dtype='float32'))\n",
    "        acc = paddle.static.accuracy(paddle.reshape(y_pred, (batch_size, 1)), paddle.reshape(paddle.cast(y_data, dtype='int64'), (batch_size, 1)))\n",
    "        loss.backward()\n",
    "\n",
    "        optim.step()\n",
    "        optim.clear_grad()\n",
    "        train_loss += loss.numpy()[0]\n",
    "        train_acc += acc.numpy()[0]\n",
    "    \n",
    "    train_loss /= (batch_id + 1)\n",
    "    train_acc /= (batch_id + 1)\n",
    "    train_loss_.append(train_loss)\n",
    "    train_acc_.append(train_acc)\n",
    "    path = 'DSSM/{}_epoch{}_loss{}_acc{}_model.pdparams'.format(int(time.time()), (epoch + 1), train_loss, train_acc)\n",
    "    dssm.eval()\n",
    "\n",
    "    for batch_id, data in enumerate(eval_dataset):\n",
    "        x_data = data[0]\n",
    "        y_data = data[1]\n",
    "        x_data = paddle.cast(x_data, dtype='int32')\n",
    "\n",
    "        y_pred = dssm(x_data)\n",
    "        loss = nn.functional.mse_loss(y_pred, paddle.cast(y_data, dtype='float32'))\n",
    "        acc = paddle.static.accuracy(paddle.reshape(y_pred, (batch_size, 1)), paddle.reshape(paddle.cast(y_data, dtype='int64'), (batch_size, 1)))\n",
    "        eval_loss += loss.numpy()[0]\n",
    "        eval_acc += acc.numpy()[0]\n",
    "\n",
    "    eval_loss /= (batch_id + 1)\n",
    "    eval_acc /= (batch_id + 1)\n",
    "    eval_loss_.append(eval_loss)\n",
    "    eval_acc_.append(eval_acc)\n",
    "    print('epoch:{}, loss:{}, acc:{}'.format((epoch + 1), eval_loss, eval_acc))\n",
    "\n",
    "    # obj = {'model': dssm.state_dict(), 'opt': optim.state_dict(), 'epoch': epoch}\n",
    "    # path = 'DSSM/{}_epoch{}_loss{}_acc{}_model.pdparams'.format(int(time.time()), (epoch + 1), eval_loss, eval_acc)\n",
    "    # paddle.save(obj, path)\n",
    "\n",
    "pd.DataFrame({\n",
    "    'train_loss':train_loss_,\n",
    "    'train_acc':train_acc_, \n",
    "    'eval_loss':eval_loss_,\n",
    "    'eval_acc':eval_acc_\n",
    "}).to_csv('DSSM/simply_model_without_sigmoid_lower_lr.csv')"
   ]
  }
 ],
 "metadata": {
  "kernelspec": {
   "display_name": "Python 3 (ipykernel)",
   "language": "python",
   "name": "python3"
  },
  "language_info": {
   "codemirror_mode": {
    "name": "ipython",
    "version": 3
   },
   "file_extension": ".py",
   "mimetype": "text/x-python",
   "name": "python",
   "nbconvert_exporter": "python",
   "pygments_lexer": "ipython3",
   "version": "3.9.7"
  }
 },
 "nbformat": 4,
 "nbformat_minor": 5
}
