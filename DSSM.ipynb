{
 "cells": [
  {
   "cell_type": "code",
   "execution_count": 82,
   "id": "406f4bbe-990a-436e-9168-809e84983257",
   "metadata": {},
   "outputs": [],
   "source": [
    "import pickle, time\n",
    "import numpy as np\n",
    "import paddle\n",
    "import pandas as pd\n",
    "import paddle.nn as nn\n",
    "from tqdm import tqdm\n",
    "\n",
    "t_file = open('data/train_data.pkl', 'rb')\n",
    "train_data = pickle.load(t_file)\n",
    "v_file = open('data/eval_data.pkl', 'rb')\n",
    "eval_data = pickle.load(v_file)\n",
    "\n",
    "users_df = pd.read_csv('data/users.csv')\n",
    "items_df = pd.read_csv('data/items.csv')"
   ]
  },
  {
   "cell_type": "code",
   "execution_count": 105,
   "id": "051e3d83-4c2a-4b0f-8ee2-945235de9cb7",
   "metadata": {},
   "outputs": [],
   "source": [
    "emb_scale = 128\n",
    "batch_size = 64\n",
    "len_users = len(users_df)\n",
    "len_items = len(items_df)"
   ]
  },
  {
   "cell_type": "code",
   "execution_count": 108,
   "id": "cd697ef3-0e7a-4436-9dd4-82a8d4e90311",
   "metadata": {},
   "outputs": [],
   "source": [
    "class Dataset(paddle.io.Dataset):\n",
    "    def __init__(self, data):\n",
    "        self.feature = data[:,0:2]\n",
    "        self.label = data[:,2]\n",
    "        pass\n",
    "    def __getitem__(self, idx):\n",
    "        return self.feature[idx], self.label[idx]\n",
    "    def __len__(self):\n",
    "        return len(self.feature)\n",
    "    pass\n",
    "\n",
    "train_dataset = paddle.io.DataLoader(Dataset(train_data),\n",
    "                               batch_size=batch_size,\n",
    "                               drop_last=True,\n",
    "                               shuffle=True)\n",
    "eval_dataset = paddle.io.DataLoader(Dataset(eval_data),\n",
    "                               batch_size=batch_size*16,\n",
    "                               drop_last=True,\n",
    "                               shuffle=True)                               "
   ]
  },
  {
   "cell_type": "code",
   "execution_count": 106,
   "id": "7cf4e82d-ab80-4829-804b-7769fb1af4a4",
   "metadata": {},
   "outputs": [],
   "source": [
    "class DSSM(nn.Layer):\n",
    "    def __init__(self):\n",
    "        super(DSSM,self).__init__()\n",
    "        self.users_emb = nn.Embedding(len_users+1, emb_scale)\n",
    "        self.items_emb = nn.Embedding(len_items+1, emb_scale)\n",
    "        self.users_fc1 = nn.Linear(emb_scale, 512)\n",
    "        self.users_fc2 = nn.Linear(512, 256)\n",
    "        self.users_fc3 = nn.Linear(256, 128)\n",
    "        self.items_fc1 = nn.Linear(emb_scale, 512)\n",
    "        self.items_fc2 = nn.Linear(512, 256)\n",
    "        self.items_fc3 = nn.Linear(256, 128)\n",
    "        pass\n",
    "    def forward(self, input):\n",
    "        # user tower\n",
    "        user = self.users_emb(input[:,0])\n",
    "        # user = self.users_fc1(user)\n",
    "        # user = nn.functional.relu(user)\n",
    "        # user = self.users_fc2(user)\n",
    "        # user = nn.functional.relu(user)\n",
    "        # user = self.users_fc3(user)\n",
    "        # item tower\n",
    "        item = self.items_emb(input[:,1])\n",
    "        # item = self.items_fc1(item)\n",
    "        # item = nn.functional.relu(item)\n",
    "        # item = self.items_fc2(item)\n",
    "        # item = nn.functional.relu(item)\n",
    "        # item = self.items_fc3(item)\n",
    "        # similarity\n",
    "        x = nn.functional.cosine_similarity(user, item, axis=1)\n",
    "        x = nn.functional.sigmoid(x)\n",
    "        return x\n",
    "    pass\n",
    "dssm = DSSM()\n",
    "optim = paddle.optimizer.Adam(parameters=dssm.parameters(), learning_rate=0.01)"
   ]
  },
  {
   "cell_type": "code",
   "execution_count": 109,
   "id": "9b9081bf",
   "metadata": {},
   "outputs": [
    {
     "name": "stderr",
     "output_type": "stream",
     "text": [
      "  0%|          | 0/3931 [00:00<?, ?it/s]"
     ]
    },
    {
     "name": "stderr",
     "output_type": "stream",
     "text": [
      "100%|██████████| 3931/3931 [14:20<00:00,  4.57it/s]\n"
     ]
    },
    {
     "name": "stdout",
     "output_type": "stream",
     "text": [
      "epoch:1, loss:0.21143418550491333, acc:0.49332523345947266\n"
     ]
    },
    {
     "name": "stderr",
     "output_type": "stream",
     "text": [
      "  1%|          | 25/3931 [00:10<26:55,  2.42it/s]\n"
     ]
    },
    {
     "ename": "KeyboardInterrupt",
     "evalue": "",
     "output_type": "error",
     "traceback": [
      "\u001b[1;31m---------------------------------------------------------------------------\u001b[0m",
      "\u001b[1;31mKeyboardInterrupt\u001b[0m                         Traceback (most recent call last)",
      "Cell \u001b[1;32mIn[109], line 18\u001b[0m\n\u001b[0;32m     15\u001b[0m acc \u001b[39m=\u001b[39m paddle\u001b[39m.\u001b[39mstatic\u001b[39m.\u001b[39maccuracy(paddle\u001b[39m.\u001b[39mreshape(y_pred, (batch_size, \u001b[39m1\u001b[39m)), paddle\u001b[39m.\u001b[39mreshape(paddle\u001b[39m.\u001b[39mcast(y_data, dtype\u001b[39m=\u001b[39m\u001b[39m'\u001b[39m\u001b[39mint64\u001b[39m\u001b[39m'\u001b[39m), (batch_size, \u001b[39m1\u001b[39m)))\n\u001b[0;32m     16\u001b[0m loss\u001b[39m.\u001b[39mbackward()\n\u001b[1;32m---> 18\u001b[0m optim\u001b[39m.\u001b[39;49mstep()\n\u001b[0;32m     19\u001b[0m optim\u001b[39m.\u001b[39mclear_grad()\n\u001b[0;32m     20\u001b[0m train_loss \u001b[39m+\u001b[39m\u001b[39m=\u001b[39m loss\n",
      "File \u001b[1;32md:\\program files\\anaconda\\envs\\env_name\\lib\\site-packages\\decorator.py:232\u001b[0m, in \u001b[0;36mdecorate.<locals>.fun\u001b[1;34m(*args, **kw)\u001b[0m\n\u001b[0;32m    230\u001b[0m \u001b[39mif\u001b[39;00m \u001b[39mnot\u001b[39;00m kwsyntax:\n\u001b[0;32m    231\u001b[0m     args, kw \u001b[39m=\u001b[39m fix(args, kw, sig)\n\u001b[1;32m--> 232\u001b[0m \u001b[39mreturn\u001b[39;00m caller(func, \u001b[39m*\u001b[39m(extras \u001b[39m+\u001b[39m args), \u001b[39m*\u001b[39m\u001b[39m*\u001b[39mkw)\n",
      "File \u001b[1;32md:\\program files\\anaconda\\envs\\env_name\\lib\\site-packages\\paddle\\fluid\\dygraph\\base.py:299\u001b[0m, in \u001b[0;36mno_grad.<locals>.__impl__\u001b[1;34m(func, *args, **kwargs)\u001b[0m\n\u001b[0;32m    296\u001b[0m \u001b[39m@decorator\u001b[39m\u001b[39m.\u001b[39mdecorator\n\u001b[0;32m    297\u001b[0m \u001b[39mdef\u001b[39;00m \u001b[39m__impl__\u001b[39m(func, \u001b[39m*\u001b[39margs, \u001b[39m*\u001b[39m\u001b[39m*\u001b[39mkwargs):\n\u001b[0;32m    298\u001b[0m     \u001b[39mwith\u001b[39;00m _switch_tracer_mode_guard_(is_train\u001b[39m=\u001b[39m\u001b[39mFalse\u001b[39;00m):\n\u001b[1;32m--> 299\u001b[0m         \u001b[39mreturn\u001b[39;00m func(\u001b[39m*\u001b[39margs, \u001b[39m*\u001b[39m\u001b[39m*\u001b[39mkwargs)\n",
      "File \u001b[1;32md:\\program files\\anaconda\\envs\\env_name\\lib\\site-packages\\decorator.py:232\u001b[0m, in \u001b[0;36mdecorate.<locals>.fun\u001b[1;34m(*args, **kw)\u001b[0m\n\u001b[0;32m    230\u001b[0m \u001b[39mif\u001b[39;00m \u001b[39mnot\u001b[39;00m kwsyntax:\n\u001b[0;32m    231\u001b[0m     args, kw \u001b[39m=\u001b[39m fix(args, kw, sig)\n\u001b[1;32m--> 232\u001b[0m \u001b[39mreturn\u001b[39;00m caller(func, \u001b[39m*\u001b[39m(extras \u001b[39m+\u001b[39m args), \u001b[39m*\u001b[39m\u001b[39m*\u001b[39mkw)\n",
      "File \u001b[1;32md:\\program files\\anaconda\\envs\\env_name\\lib\\site-packages\\paddle\\fluid\\wrapped_decorator.py:25\u001b[0m, in \u001b[0;36mwrap_decorator.<locals>.__impl__\u001b[1;34m(func, *args, **kwargs)\u001b[0m\n\u001b[0;32m     22\u001b[0m \u001b[39m@decorator\u001b[39m\u001b[39m.\u001b[39mdecorator\n\u001b[0;32m     23\u001b[0m \u001b[39mdef\u001b[39;00m \u001b[39m__impl__\u001b[39m(func, \u001b[39m*\u001b[39margs, \u001b[39m*\u001b[39m\u001b[39m*\u001b[39mkwargs):\n\u001b[0;32m     24\u001b[0m     wrapped_func \u001b[39m=\u001b[39m decorator_func(func)\n\u001b[1;32m---> 25\u001b[0m     \u001b[39mreturn\u001b[39;00m wrapped_func(\u001b[39m*\u001b[39margs, \u001b[39m*\u001b[39m\u001b[39m*\u001b[39mkwargs)\n",
      "File \u001b[1;32md:\\program files\\anaconda\\envs\\env_name\\lib\\site-packages\\paddle\\fluid\\framework.py:434\u001b[0m, in \u001b[0;36m_dygraph_only_.<locals>.__impl__\u001b[1;34m(*args, **kwargs)\u001b[0m\n\u001b[0;32m    431\u001b[0m \u001b[39mdef\u001b[39;00m \u001b[39m__impl__\u001b[39m(\u001b[39m*\u001b[39margs, \u001b[39m*\u001b[39m\u001b[39m*\u001b[39mkwargs):\n\u001b[0;32m    432\u001b[0m     \u001b[39massert\u001b[39;00m _non_static_mode(\n\u001b[0;32m    433\u001b[0m     ), \u001b[39m\"\u001b[39m\u001b[39mWe only support \u001b[39m\u001b[39m'\u001b[39m\u001b[39m%s\u001b[39;00m\u001b[39m()\u001b[39m\u001b[39m'\u001b[39m\u001b[39m in dynamic graph mode, please call \u001b[39m\u001b[39m'\u001b[39m\u001b[39mpaddle.disable_static()\u001b[39m\u001b[39m'\u001b[39m\u001b[39m to enter dynamic graph mode.\u001b[39m\u001b[39m\"\u001b[39m \u001b[39m%\u001b[39m func\u001b[39m.\u001b[39m\u001b[39m__name__\u001b[39m\n\u001b[1;32m--> 434\u001b[0m     \u001b[39mreturn\u001b[39;00m func(\u001b[39m*\u001b[39margs, \u001b[39m*\u001b[39m\u001b[39m*\u001b[39mkwargs)\n",
      "File \u001b[1;32md:\\program files\\anaconda\\envs\\env_name\\lib\\site-packages\\paddle\\optimizer\\adam.py:450\u001b[0m, in \u001b[0;36mAdam.step\u001b[1;34m(self)\u001b[0m\n\u001b[0;32m    445\u001b[0m                     \u001b[39mraise\u001b[39;00m \u001b[39mRuntimeError\u001b[39;00m(\n\u001b[0;32m    446\u001b[0m                         \u001b[39m\"\u001b[39m\u001b[39mAdam don\u001b[39m\u001b[39m'\u001b[39m\u001b[39mt support weight_decay with sparse parameters, please set it to None.\u001b[39m\u001b[39m\"\u001b[39m\n\u001b[0;32m    447\u001b[0m                     )\n\u001b[0;32m    448\u001b[0m             params_grads\u001b[39m.\u001b[39mappend((param, grad_var))\n\u001b[1;32m--> 450\u001b[0m     optimize_ops \u001b[39m=\u001b[39m \u001b[39mself\u001b[39;49m\u001b[39m.\u001b[39;49m_apply_optimize(\n\u001b[0;32m    451\u001b[0m         loss\u001b[39m=\u001b[39;49m\u001b[39mNone\u001b[39;49;00m, startup_program\u001b[39m=\u001b[39;49m\u001b[39mNone\u001b[39;49;00m, params_grads\u001b[39m=\u001b[39;49mparams_grads)\n\u001b[0;32m    452\u001b[0m \u001b[39melse\u001b[39;00m:\n\u001b[0;32m    453\u001b[0m     \u001b[39m# optimize parameters in groups\u001b[39;00m\n\u001b[0;32m    454\u001b[0m     \u001b[39mfor\u001b[39;00m param_group \u001b[39min\u001b[39;00m \u001b[39mself\u001b[39m\u001b[39m.\u001b[39m_param_groups:\n",
      "File \u001b[1;32md:\\program files\\anaconda\\envs\\env_name\\lib\\site-packages\\paddle\\optimizer\\optimizer.py:963\u001b[0m, in \u001b[0;36mOptimizer._apply_optimize\u001b[1;34m(self, loss, startup_program, params_grads)\u001b[0m\n\u001b[0;32m    958\u001b[0m                 params_grads[\u001b[39m'\u001b[39m\u001b[39mparams\u001b[39m\u001b[39m'\u001b[39m] \u001b[39m=\u001b[39m grad_clip(params_grads[\n\u001b[0;32m    959\u001b[0m                     \u001b[39m'\u001b[39m\u001b[39mparams\u001b[39m\u001b[39m'\u001b[39m])\n\u001b[0;32m    961\u001b[0m             params_grads[\u001b[39m'\u001b[39m\u001b[39mparams\u001b[39m\u001b[39m'\u001b[39m] \u001b[39m=\u001b[39m \u001b[39mself\u001b[39m\u001b[39m.\u001b[39mappend_regularization_ops(\n\u001b[0;32m    962\u001b[0m                 params_grads[\u001b[39m'\u001b[39m\u001b[39mparams\u001b[39m\u001b[39m'\u001b[39m], \u001b[39mself\u001b[39m\u001b[39m.\u001b[39mregularization)\n\u001b[1;32m--> 963\u001b[0m         optimize_ops \u001b[39m=\u001b[39m \u001b[39mself\u001b[39;49m\u001b[39m.\u001b[39;49m_create_optimization_pass(params_grads)\n\u001b[0;32m    964\u001b[0m \u001b[39melse\u001b[39;00m:\n\u001b[0;32m    965\u001b[0m     program \u001b[39m=\u001b[39m loss\u001b[39m.\u001b[39mblock\u001b[39m.\u001b[39mprogram\n",
      "File \u001b[1;32md:\\program files\\anaconda\\envs\\env_name\\lib\\site-packages\\paddle\\optimizer\\optimizer.py:766\u001b[0m, in \u001b[0;36mOptimizer._create_optimization_pass\u001b[1;34m(self, parameters_and_grads)\u001b[0m\n\u001b[0;32m    764\u001b[0m             \u001b[39mcontinue\u001b[39;00m\n\u001b[0;32m    765\u001b[0m         \u001b[39mif\u001b[39;00m param_and_grad[\u001b[39m0\u001b[39m]\u001b[39m.\u001b[39mstop_gradient \u001b[39mis\u001b[39;00m \u001b[39mFalse\u001b[39;00m:\n\u001b[1;32m--> 766\u001b[0m             \u001b[39mself\u001b[39;49m\u001b[39m.\u001b[39;49m_append_optimize_op(target_block,\n\u001b[0;32m    767\u001b[0m                                      param_and_grad)\n\u001b[0;32m    768\u001b[0m \u001b[39melse\u001b[39;00m:\n\u001b[0;32m    769\u001b[0m     \u001b[39mfor\u001b[39;00m param_and_grad \u001b[39min\u001b[39;00m parameters_and_grads[\u001b[39m'\u001b[39m\u001b[39mparams\u001b[39m\u001b[39m'\u001b[39m]:\n",
      "File \u001b[1;32md:\\program files\\anaconda\\envs\\env_name\\lib\\site-packages\\paddle\\optimizer\\adam.py:345\u001b[0m, in \u001b[0;36mAdam._append_optimize_op\u001b[1;34m(self, block, param_and_grad)\u001b[0m\n\u001b[0;32m    341\u001b[0m     _beta1 \u001b[39m=\u001b[39m \u001b[39mself\u001b[39m\u001b[39m.\u001b[39m_beta1 \u001b[39mif\u001b[39;00m \u001b[39mnot\u001b[39;00m \u001b[39misinstance\u001b[39m(\n\u001b[0;32m    342\u001b[0m         \u001b[39mself\u001b[39m\u001b[39m.\u001b[39m_beta1, Variable) \u001b[39melse\u001b[39;00m \u001b[39mself\u001b[39m\u001b[39m.\u001b[39m_beta1\u001b[39m.\u001b[39mnumpy()\u001b[39m.\u001b[39mitem(\u001b[39m0\u001b[39m)\n\u001b[0;32m    343\u001b[0m     _beta2 \u001b[39m=\u001b[39m \u001b[39mself\u001b[39m\u001b[39m.\u001b[39m_beta2 \u001b[39mif\u001b[39;00m \u001b[39mnot\u001b[39;00m \u001b[39misinstance\u001b[39m(\n\u001b[0;32m    344\u001b[0m         \u001b[39mself\u001b[39m\u001b[39m.\u001b[39m_beta2, Variable) \u001b[39melse\u001b[39;00m \u001b[39mself\u001b[39m\u001b[39m.\u001b[39m_beta2\u001b[39m.\u001b[39mnumpy()\u001b[39m.\u001b[39mitem(\u001b[39m0\u001b[39m)\n\u001b[1;32m--> 345\u001b[0m     _, _, _, _, _, _ \u001b[39m=\u001b[39m _C_ops\u001b[39m.\u001b[39;49madam(\n\u001b[0;32m    346\u001b[0m         param_and_grad[\u001b[39m0\u001b[39;49m], param_and_grad[\u001b[39m1\u001b[39;49m], lr, moment1, moment2,\n\u001b[0;32m    347\u001b[0m         beta1_pow_acc, beta2_pow_acc, master_weight, param_and_grad[\u001b[39m0\u001b[39;49m],\n\u001b[0;32m    348\u001b[0m         moment1, moment2, beta1_pow_acc, beta2_pow_acc, master_weight,\n\u001b[0;32m    349\u001b[0m         \u001b[39m'\u001b[39;49m\u001b[39mepsilon\u001b[39;49m\u001b[39m'\u001b[39;49m, \u001b[39mself\u001b[39;49m\u001b[39m.\u001b[39;49m_epsilon, \u001b[39m'\u001b[39;49m\u001b[39mlazy_mode\u001b[39;49m\u001b[39m'\u001b[39;49m, \u001b[39mself\u001b[39;49m\u001b[39m.\u001b[39;49m_lazy_mode,\n\u001b[0;32m    350\u001b[0m         \u001b[39m'\u001b[39;49m\u001b[39mmin_row_size_to_use_multithread\u001b[39;49m\u001b[39m'\u001b[39;49m, \u001b[39m1000\u001b[39;49m, \u001b[39m'\u001b[39;49m\u001b[39mbeta1\u001b[39;49m\u001b[39m'\u001b[39;49m, _beta1,\n\u001b[0;32m    351\u001b[0m         \u001b[39m'\u001b[39;49m\u001b[39mbeta2\u001b[39;49m\u001b[39m'\u001b[39;49m, _beta2, \u001b[39m'\u001b[39;49m\u001b[39mmulti_precision\u001b[39;49m\u001b[39m'\u001b[39;49m, find_master)\n\u001b[0;32m    353\u001b[0m     \u001b[39mreturn\u001b[39;00m \u001b[39mNone\u001b[39;00m\n\u001b[0;32m    355\u001b[0m inputs \u001b[39m=\u001b[39m {\n\u001b[0;32m    356\u001b[0m     \u001b[39m\"\u001b[39m\u001b[39mParam\u001b[39m\u001b[39m\"\u001b[39m: [param_and_grad[\u001b[39m0\u001b[39m]],\n\u001b[0;32m    357\u001b[0m     \u001b[39m\"\u001b[39m\u001b[39mGrad\u001b[39m\u001b[39m\"\u001b[39m: [param_and_grad[\u001b[39m1\u001b[39m]],\n\u001b[1;32m   (...)\u001b[0m\n\u001b[0;32m    362\u001b[0m     \u001b[39m\"\u001b[39m\u001b[39mBeta2Pow\u001b[39m\u001b[39m\"\u001b[39m: [beta2_pow_acc]\n\u001b[0;32m    363\u001b[0m }\n",
      "\u001b[1;31mKeyboardInterrupt\u001b[0m: "
     ]
    }
   ],
   "source": [
    "train_loss_, train_acc_, eval_loss_, eval_acc_ = [], [], [], []\n",
    "\n",
    "for epoch in range(100):\n",
    "\n",
    "    train_loss, train_acc, eval_loss, eval_acc = 0, 0, 0, 0\n",
    "    dssm.train()\n",
    "\n",
    "    for batch_id, data in enumerate(tqdm(train_dataset)):\n",
    "        x_data = data[0]\n",
    "        y_data = data[1]\n",
    "        x_data = paddle.cast(x_data, dtype='int32')\n",
    "\n",
    "        y_pred = dssm(x_data)\n",
    "        loss = nn.functional.mse_loss(y_pred, paddle.cast(y_data, dtype='float32'))\n",
    "        acc = paddle.static.accuracy(paddle.reshape(y_pred, (batch_size, 1)), paddle.reshape(paddle.cast(y_data, dtype='int64'), (batch_size, 1)))\n",
    "        loss.backward()\n",
    "\n",
    "        optim.step()\n",
    "        optim.clear_grad()\n",
    "        train_loss += loss\n",
    "        train_acc += acc\n",
    "    \n",
    "    train_loss /= (batch_id + 1)\n",
    "    train_acc /= (batch_id + 1)\n",
    "    train_loss_.append(train_loss)\n",
    "    train_acc_.append(train_acc)\n",
    "    path = 'DSSM/{}_epoch{}_loss{}_acc{}_model.pdparams'.format(int(time.time()), (epoch + 1), train_loss.numpy()[0], train_acc.numpy()[0])\n",
    "    dssm.eval()\n",
    "\n",
    "    for batch_id, data in enumerate(eval_dataset):\n",
    "        x_data = data[0]\n",
    "        y_data = data[1]\n",
    "        x_data = paddle.cast(x_data, dtype='int32')\n",
    "\n",
    "        y_pred = dssm(x_data)\n",
    "        loss = nn.functional.mse_loss(y_pred, paddle.cast(y_data, dtype='float32'))\n",
    "        acc = paddle.static.accuracy(paddle.reshape(y_pred, (batch_size, 1)), paddle.reshape(paddle.cast(y_data, dtype='int64'), (batch_size, 1)))\n",
    "\n",
    "        eval_loss += loss\n",
    "        eval_acc += acc\n",
    "\n",
    "    eval_loss /= (batch_id + 1)\n",
    "    eval_acc /= (batch_id + 1)\n",
    "    eval_loss_.append(eval_loss)\n",
    "    eval_acc_.append(eval_acc)\n",
    "    print('epoch:{}, loss:{}, acc:{}'.format((epoch + 1), eval_loss.numpy()[0], eval_acc.numpy()[0]))\n",
    "\n",
    "    obj = {'model': dssm.state_dict(), 'opt': optim.state_dict(), 'epoch': epoch}\n",
    "    path = 'DSSM/{}_epoch{}_loss{}_acc{}_model.pdparams'.format(int(time.time()), (epoch + 1), eval_loss.numpy()[0], eval_acc.numpy()[0])\n",
    "    paddle.save(obj, path)"
   ]
  }
 ],
 "metadata": {
  "kernelspec": {
   "display_name": "Python 3 (ipykernel)",
   "language": "python",
   "name": "python3"
  },
  "language_info": {
   "codemirror_mode": {
    "name": "ipython",
    "version": 3
   },
   "file_extension": ".py",
   "mimetype": "text/x-python",
   "name": "python",
   "nbconvert_exporter": "python",
   "pygments_lexer": "ipython3",
   "version": "3.9.7"
  }
 },
 "nbformat": 4,
 "nbformat_minor": 5
}
