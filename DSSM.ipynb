{
 "cells": [
  {
   "cell_type": "code",
   "execution_count": 1,
   "id": "406f4bbe-990a-436e-9168-809e84983257",
   "metadata": {},
   "outputs": [],
   "source": [
    "import pickle\n",
    "import numpy as np\n",
    "import paddle\n",
    "import pandas as pd\n",
    "import paddle.nn as nn\n",
    "\n",
    "file = open('data/list.pkl', 'rb')\n",
    "data = pickle.load(file)\n",
    "users_df = pd.read_csv('data/users.csv')\n",
    "items_df = pd.read_csv('data/items.csv')"
   ]
  },
  {
   "cell_type": "code",
   "execution_count": 18,
   "id": "051e3d83-4c2a-4b0f-8ee2-945235de9cb7",
   "metadata": {},
   "outputs": [],
   "source": [
    "emb_scale = 1024\n",
    "batch_size = 64\n",
    "len_users = len(users_df)\n",
    "len_items = len(items_df)"
   ]
  },
  {
   "cell_type": "code",
   "execution_count": 3,
   "id": "cd697ef3-0e7a-4436-9dd4-82a8d4e90311",
   "metadata": {},
   "outputs": [],
   "source": [
    "class Dataset(paddle.io.Dataset):\n",
    "    def __init__(self, data):\n",
    "        self.feature = data[:,0:2]\n",
    "        self.label = data[:,2]\n",
    "        pass\n",
    "    def __getitem__(self, idx):\n",
    "        return self.feature[idx], self.label[idx]\n",
    "    def __len__(self):\n",
    "        return len(self.feature)\n",
    "    pass\n",
    "\n",
    "dataset = paddle.io.DataLoader(Dataset(data),\n",
    "                               batch_size=batch_size,\n",
    "                               shuffle=True)"
   ]
  },
  {
   "cell_type": "code",
   "execution_count": 38,
   "id": "7cf4e82d-ab80-4829-804b-7769fb1af4a4",
   "metadata": {},
   "outputs": [],
   "source": [
    "class DSSM(nn.Layer):\n",
    "    def __init__(self):\n",
    "        super(DSSM,self).__init__()\n",
    "        self.users_emb = nn.Embedding(len_users, emb_scale)\n",
    "        self.items_emb = nn.Embedding(len_items, emb_scale)\n",
    "        self.users_fc1 = nn.Linear(emb_scale, 512)\n",
    "        self.users_fc2 = nn.Linear(512, 300)\n",
    "        self.users_fc3 = nn.Linear(300, 300)\n",
    "        self.users_fc4 = nn.Linear(300, 128)\n",
    "        self.items_fc1 = nn.Linear(emb_scale, 512)\n",
    "        self.items_fc1 = nn.Linear(512, 300)\n",
    "        self.items_fc1 = nn.Linear(300, 300)\n",
    "        self.items_fc1 = nn.Linear(300, 128)\n",
    "        pass\n",
    "    def forward(self, input):\n",
    "        user = self.users_emb(input[:,0])\n",
    "        user = self.users_fc1(user)\n",
    "        user = nn.functional.relu(user)\n",
    "        user = self.users_fc2(user)\n",
    "        user = nn.functional.relu(user)\n",
    "        user = self.users_fc3(user)\n",
    "        user = nn.functional.relu(user)\n",
    "        user = self.users_fc4(user)\n",
    "\n",
    "        item = self.items_emb(input[:,1])\n",
    "        item = self.items_fc1(item)\n",
    "        return item\n",
    "        item = nn.functional.relu(item)\n",
    "        item = self.items_fc2(item)\n",
    "        item = nn.functional.relu(item)\n",
    "        item = self.items_fc3(item)\n",
    "        item = nn.functional.relu(item)\n",
    "        item = self.items_fc4(item)\n",
    "        x = nn.functional.cosine_similarity(user, item, axis=0)\n",
    "\n",
    "        return x\n",
    "    pass"
   ]
  },
  {
   "cell_type": "code",
   "execution_count": 6,
   "id": "9475a5cf-4150-4bca-9d3a-077112ac0b89",
   "metadata": {
    "scrolled": true
   },
   "outputs": [],
   "source": [
    "x = paddle.to_tensor(np.random.randint(0,len_users,size=(64,2)))"
   ]
  },
  {
   "cell_type": "code",
   "execution_count": 39,
   "id": "e60d720f-722e-4046-8cee-8854a1bcbfc6",
   "metadata": {
    "scrolled": true
   },
   "outputs": [
    {
     "ename": "ValueError",
     "evalue": "(InvalidArgument) Input(Y) has error dim.Y'dims[0] must be equal to 1024But received Y'dims[0] is 300\n  [Hint: Expected y_dims[y_ndim - 2] == K, but received y_dims[y_ndim - 2]:300 != K:1024.] (at C:\\home\\workspace\\Paddle_release\\paddle/phi/kernels/impl/matmul_kernel_impl.h:315)\n  [operator < matmul_v2 > error]",
     "output_type": "error",
     "traceback": [
      "\u001b[1;31m---------------------------------------------------------------------------\u001b[0m",
      "\u001b[1;31mValueError\u001b[0m                                Traceback (most recent call last)",
      "Cell \u001b[1;32mIn[39], line 1\u001b[0m\n\u001b[1;32m----> 1\u001b[0m DSSM()(x)\n",
      "File \u001b[1;32md:\\program files\\anaconda\\envs\\env_name\\lib\\site-packages\\paddle\\fluid\\dygraph\\layers.py:930\u001b[0m, in \u001b[0;36mLayer.__call__\u001b[1;34m(self, *inputs, **kwargs)\u001b[0m\n\u001b[0;32m    928\u001b[0m     \u001b[39mreturn\u001b[39;00m \u001b[39mself\u001b[39m\u001b[39m.\u001b[39mforward(\u001b[39m*\u001b[39minputs, \u001b[39m*\u001b[39m\u001b[39m*\u001b[39mkwargs)\n\u001b[0;32m    929\u001b[0m \u001b[39melse\u001b[39;00m:\n\u001b[1;32m--> 930\u001b[0m     \u001b[39mreturn\u001b[39;00m \u001b[39mself\u001b[39m\u001b[39m.\u001b[39m_dygraph_call_func(\u001b[39m*\u001b[39minputs, \u001b[39m*\u001b[39m\u001b[39m*\u001b[39mkwargs)\n",
      "File \u001b[1;32md:\\program files\\anaconda\\envs\\env_name\\lib\\site-packages\\paddle\\fluid\\dygraph\\layers.py:915\u001b[0m, in \u001b[0;36mLayer._dygraph_call_func\u001b[1;34m(self, *inputs, **kwargs)\u001b[0m\n\u001b[0;32m    913\u001b[0m         outputs \u001b[39m=\u001b[39m \u001b[39mself\u001b[39m\u001b[39m.\u001b[39mforward(\u001b[39m*\u001b[39minputs, \u001b[39m*\u001b[39m\u001b[39m*\u001b[39mkwargs)\n\u001b[0;32m    914\u001b[0m \u001b[39melse\u001b[39;00m:\n\u001b[1;32m--> 915\u001b[0m     outputs \u001b[39m=\u001b[39m \u001b[39mself\u001b[39m\u001b[39m.\u001b[39mforward(\u001b[39m*\u001b[39minputs, \u001b[39m*\u001b[39m\u001b[39m*\u001b[39mkwargs)\n\u001b[0;32m    917\u001b[0m \u001b[39mfor\u001b[39;00m forward_post_hook \u001b[39min\u001b[39;00m \u001b[39mself\u001b[39m\u001b[39m.\u001b[39m_forward_post_hooks\u001b[39m.\u001b[39mvalues():\n\u001b[0;32m    918\u001b[0m     hook_result \u001b[39m=\u001b[39m forward_post_hook(\u001b[39mself\u001b[39m, inputs, outputs)\n",
      "Cell \u001b[1;32mIn[38], line 26\u001b[0m, in \u001b[0;36mDSSM.forward\u001b[1;34m(self, input)\u001b[0m\n\u001b[0;32m     23\u001b[0m user \u001b[39m=\u001b[39m \u001b[39mself\u001b[39m\u001b[39m.\u001b[39musers_fc4(user)\n\u001b[0;32m     25\u001b[0m item \u001b[39m=\u001b[39m \u001b[39mself\u001b[39m\u001b[39m.\u001b[39mitems_emb(\u001b[39minput\u001b[39m[:,\u001b[39m1\u001b[39m])\n\u001b[1;32m---> 26\u001b[0m item \u001b[39m=\u001b[39m \u001b[39mself\u001b[39;49m\u001b[39m.\u001b[39;49mitems_fc1(item)\n\u001b[0;32m     27\u001b[0m \u001b[39mreturn\u001b[39;00m item\n\u001b[0;32m     28\u001b[0m item \u001b[39m=\u001b[39m nn\u001b[39m.\u001b[39mfunctional\u001b[39m.\u001b[39mrelu(item)\n",
      "File \u001b[1;32md:\\program files\\anaconda\\envs\\env_name\\lib\\site-packages\\paddle\\fluid\\dygraph\\layers.py:930\u001b[0m, in \u001b[0;36mLayer.__call__\u001b[1;34m(self, *inputs, **kwargs)\u001b[0m\n\u001b[0;32m    928\u001b[0m     \u001b[39mreturn\u001b[39;00m \u001b[39mself\u001b[39m\u001b[39m.\u001b[39mforward(\u001b[39m*\u001b[39minputs, \u001b[39m*\u001b[39m\u001b[39m*\u001b[39mkwargs)\n\u001b[0;32m    929\u001b[0m \u001b[39melse\u001b[39;00m:\n\u001b[1;32m--> 930\u001b[0m     \u001b[39mreturn\u001b[39;00m \u001b[39mself\u001b[39m\u001b[39m.\u001b[39m_dygraph_call_func(\u001b[39m*\u001b[39minputs, \u001b[39m*\u001b[39m\u001b[39m*\u001b[39mkwargs)\n",
      "File \u001b[1;32md:\\program files\\anaconda\\envs\\env_name\\lib\\site-packages\\paddle\\fluid\\dygraph\\layers.py:915\u001b[0m, in \u001b[0;36mLayer._dygraph_call_func\u001b[1;34m(self, *inputs, **kwargs)\u001b[0m\n\u001b[0;32m    913\u001b[0m         outputs \u001b[39m=\u001b[39m \u001b[39mself\u001b[39m\u001b[39m.\u001b[39mforward(\u001b[39m*\u001b[39minputs, \u001b[39m*\u001b[39m\u001b[39m*\u001b[39mkwargs)\n\u001b[0;32m    914\u001b[0m \u001b[39melse\u001b[39;00m:\n\u001b[1;32m--> 915\u001b[0m     outputs \u001b[39m=\u001b[39m \u001b[39mself\u001b[39m\u001b[39m.\u001b[39mforward(\u001b[39m*\u001b[39minputs, \u001b[39m*\u001b[39m\u001b[39m*\u001b[39mkwargs)\n\u001b[0;32m    917\u001b[0m \u001b[39mfor\u001b[39;00m forward_post_hook \u001b[39min\u001b[39;00m \u001b[39mself\u001b[39m\u001b[39m.\u001b[39m_forward_post_hooks\u001b[39m.\u001b[39mvalues():\n\u001b[0;32m    918\u001b[0m     hook_result \u001b[39m=\u001b[39m forward_post_hook(\u001b[39mself\u001b[39m, inputs, outputs)\n",
      "File \u001b[1;32md:\\program files\\anaconda\\envs\\env_name\\lib\\site-packages\\paddle\\nn\\layer\\common.py:171\u001b[0m, in \u001b[0;36mLinear.forward\u001b[1;34m(self, input)\u001b[0m\n\u001b[0;32m    170\u001b[0m \u001b[39mdef\u001b[39;00m \u001b[39mforward\u001b[39m(\u001b[39mself\u001b[39m, \u001b[39minput\u001b[39m):\n\u001b[1;32m--> 171\u001b[0m     out \u001b[39m=\u001b[39m F\u001b[39m.\u001b[39;49mlinear(\n\u001b[0;32m    172\u001b[0m         x\u001b[39m=\u001b[39;49m\u001b[39minput\u001b[39;49m, weight\u001b[39m=\u001b[39;49m\u001b[39mself\u001b[39;49m\u001b[39m.\u001b[39;49mweight, bias\u001b[39m=\u001b[39;49m\u001b[39mself\u001b[39;49m\u001b[39m.\u001b[39;49mbias, name\u001b[39m=\u001b[39;49m\u001b[39mself\u001b[39;49m\u001b[39m.\u001b[39;49mname)\n\u001b[0;32m    173\u001b[0m     \u001b[39mreturn\u001b[39;00m out\n",
      "File \u001b[1;32md:\\program files\\anaconda\\envs\\env_name\\lib\\site-packages\\paddle\\nn\\functional\\common.py:1541\u001b[0m, in \u001b[0;36mlinear\u001b[1;34m(x, weight, bias, name)\u001b[0m\n\u001b[0;32m   1539\u001b[0m \u001b[39melse\u001b[39;00m:\n\u001b[0;32m   1540\u001b[0m     \u001b[39mif\u001b[39;00m _in_legacy_dygraph():\n\u001b[1;32m-> 1541\u001b[0m         pre_bias \u001b[39m=\u001b[39m _C_ops\u001b[39m.\u001b[39;49mmatmul_v2(x, weight, \u001b[39m'\u001b[39;49m\u001b[39mtrans_x\u001b[39;49m\u001b[39m'\u001b[39;49m, \u001b[39mFalse\u001b[39;49;00m, \u001b[39m'\u001b[39;49m\u001b[39mtrans_y\u001b[39;49m\u001b[39m'\u001b[39;49m,\n\u001b[0;32m   1542\u001b[0m                                     \u001b[39mFalse\u001b[39;49;00m)\n\u001b[0;32m   1544\u001b[0m         \u001b[39mif\u001b[39;00m bias \u001b[39mis\u001b[39;00m \u001b[39mNone\u001b[39;00m:\n\u001b[0;32m   1545\u001b[0m             \u001b[39mreturn\u001b[39;00m pre_bias\n",
      "\u001b[1;31mValueError\u001b[0m: (InvalidArgument) Input(Y) has error dim.Y'dims[0] must be equal to 1024But received Y'dims[0] is 300\n  [Hint: Expected y_dims[y_ndim - 2] == K, but received y_dims[y_ndim - 2]:300 != K:1024.] (at C:\\home\\workspace\\Paddle_release\\paddle/phi/kernels/impl/matmul_kernel_impl.h:315)\n  [operator < matmul_v2 > error]"
     ]
    }
   ],
   "source": [
    "DSSM()(x)\n"
   ]
  },
  {
   "cell_type": "code",
   "execution_count": null,
   "id": "b5cdd6fb",
   "metadata": {},
   "outputs": [],
   "source": []
  }
 ],
 "metadata": {
  "kernelspec": {
   "display_name": "Python 3 (ipykernel)",
   "language": "python",
   "name": "python3"
  },
  "language_info": {
   "codemirror_mode": {
    "name": "ipython",
    "version": 3
   },
   "file_extension": ".py",
   "mimetype": "text/x-python",
   "name": "python",
   "nbconvert_exporter": "python",
   "pygments_lexer": "ipython3",
   "version": "3.9.7"
  }
 },
 "nbformat": 4,
 "nbformat_minor": 5
}
