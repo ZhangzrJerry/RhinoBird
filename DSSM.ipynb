{
 "cells": [
  {
   "cell_type": "code",
   "execution_count": 3,
   "id": "406f4bbe-990a-436e-9168-809e84983257",
   "metadata": {},
   "outputs": [
    {
     "ename": "EOFError",
     "evalue": "Ran out of input",
     "output_type": "error",
     "traceback": [
      "\u001b[1;31m---------------------------------------------------------------------------\u001b[0m",
      "\u001b[1;31mEOFError\u001b[0m                                  Traceback (most recent call last)",
      "Cell \u001b[1;32mIn[3], line 11\u001b[0m\n\u001b[0;32m      9\u001b[0m np\u001b[39m.\u001b[39mrandom\u001b[39m.\u001b[39mshuffle(train_data)\n\u001b[0;32m     10\u001b[0m v_file \u001b[39m=\u001b[39m \u001b[39mopen\u001b[39m(\u001b[39m'\u001b[39m\u001b[39mdata/verify_data.pkl\u001b[39m\u001b[39m'\u001b[39m, \u001b[39m'\u001b[39m\u001b[39mrb\u001b[39m\u001b[39m'\u001b[39m)\n\u001b[1;32m---> 11\u001b[0m verify_data \u001b[39m=\u001b[39m pickle\u001b[39m.\u001b[39;49mload(v_file)\n\u001b[0;32m     12\u001b[0m users_df \u001b[39m=\u001b[39m pd\u001b[39m.\u001b[39mread_csv(\u001b[39m'\u001b[39m\u001b[39mdata/users.csv\u001b[39m\u001b[39m'\u001b[39m)\n\u001b[0;32m     13\u001b[0m items_df \u001b[39m=\u001b[39m pd\u001b[39m.\u001b[39mread_csv(\u001b[39m'\u001b[39m\u001b[39mdata/items.csv\u001b[39m\u001b[39m'\u001b[39m)\n",
      "\u001b[1;31mEOFError\u001b[0m: Ran out of input"
     ]
    }
   ],
   "source": [
    "import pickle\n",
    "import numpy as np\n",
    "import paddle\n",
    "import pandas as pd\n",
    "import paddle.nn as nn\n",
    "\n",
    "t_file = open('data/train_data.pkl', 'rb')\n",
    "train_data = pickle.load(t_file)\n",
    "np.random.shuffle(train_data)\n",
    "v_file = open('data/verify_data.pkl', 'rb')\n",
    "verify_data = pickle.load(v_file)\n",
    "users_df = pd.read_csv('data/users.csv')\n",
    "items_df = pd.read_csv('data/items.csv')"
   ]
  },
  {
   "cell_type": "code",
   "execution_count": null,
   "id": "051e3d83-4c2a-4b0f-8ee2-945235de9cb7",
   "metadata": {},
   "outputs": [],
   "source": [
    "emb_scale = 1024\n",
    "batch_size = 64\n",
    "len_users = len(users_df)\n",
    "len_items = len(items_df)"
   ]
  },
  {
   "cell_type": "code",
   "execution_count": null,
   "id": "cd697ef3-0e7a-4436-9dd4-82a8d4e90311",
   "metadata": {},
   "outputs": [],
   "source": [
    "class Dataset(paddle.io.Dataset):\n",
    "    def __init__(self, data):\n",
    "        self.feature = data[:,0:2]\n",
    "        self.label = data[:,2]\n",
    "        pass\n",
    "    def __getitem__(self, idx):\n",
    "        return self.feature[idx], self.label[idx]\n",
    "    def __len__(self):\n",
    "        return len(self.feature)\n",
    "    pass\n",
    "\n",
    "train_dataset = paddle.io.DataLoader(Dataset(train_data),\n",
    "                               batch_size=batch_size,\n",
    "                               shuffle=True)\n",
    "                               "
   ]
  },
  {
   "cell_type": "code",
   "execution_count": 4,
   "id": "7cf4e82d-ab80-4829-804b-7769fb1af4a4",
   "metadata": {},
   "outputs": [],
   "source": [
    "class DSSM(nn.Layer):\n",
    "    def __init__(self):\n",
    "        super(DSSM,self).__init__()\n",
    "        self.users_emb = nn.Embedding(len_users, emb_scale)\n",
    "        self.items_emb = nn.Embedding(len_items, emb_scale)\n",
    "        self.users_fc1 = nn.Linear(emb_scale, 512)\n",
    "        self.users_fc2 = nn.Linear(512, 300)\n",
    "        self.users_fc3 = nn.Linear(300, 300)\n",
    "        self.users_fc4 = nn.Linear(300, 128)\n",
    "        self.items_fc1 = nn.Linear(emb_scale, 512)\n",
    "        self.items_fc2 = nn.Linear(512, 300)\n",
    "        self.items_fc3 = nn.Linear(300, 300)\n",
    "        self.items_fc4 = nn.Linear(300, 128)\n",
    "        pass\n",
    "    def forward(self, input):\n",
    "        # user tower\n",
    "        user = self.users_emb(input[:,0])\n",
    "        user = self.users_fc1(user)\n",
    "        user = nn.functional.relu(user)\n",
    "        user = self.users_fc2(user)\n",
    "        user = nn.functional.relu(user)\n",
    "        user = self.users_fc3(user)\n",
    "        user = nn.functional.relu(user)\n",
    "        user = self.users_fc4(user)\n",
    "        # item tower\n",
    "        item = self.items_emb(input[:,1])\n",
    "        item = self.items_fc1(item)\n",
    "        item = nn.functional.relu(item)\n",
    "        item = self.items_fc2(item)\n",
    "        item = nn.functional.relu(item)\n",
    "        item = self.items_fc3(item)\n",
    "        item = nn.functional.relu(item)\n",
    "        item = self.items_fc4(item)\n",
    "        # similarity\n",
    "        x = nn.functional.cosine_similarity(user, item, axis=0)\n",
    "        x = nn.functional.sigmoid(x)\n",
    "        return x\n",
    "    pass"
   ]
  },
  {
   "cell_type": "code",
   "execution_count": null,
   "id": "9b9081bf",
   "metadata": {},
   "outputs": [],
   "source": []
  }
 ],
 "metadata": {
  "kernelspec": {
   "display_name": "Python 3 (ipykernel)",
   "language": "python",
   "name": "python3"
  },
  "language_info": {
   "codemirror_mode": {
    "name": "ipython",
    "version": 3
   },
   "file_extension": ".py",
   "mimetype": "text/x-python",
   "name": "python",
   "nbconvert_exporter": "python",
   "pygments_lexer": "ipython3",
   "version": "3.9.7"
  }
 },
 "nbformat": 4,
 "nbformat_minor": 5
}
