{
 "cells": [
  {
   "cell_type": "code",
   "execution_count": 1,
   "id": "406f4bbe-990a-436e-9168-809e84983257",
   "metadata": {},
   "outputs": [],
   "source": [
    "import pickle, time\n",
    "import numpy as np\n",
    "import paddle\n",
    "import pandas as pd\n",
    "import paddle.nn as nn\n",
    "from tqdm import tqdm\n",
    "\n",
    "t_file = open('data/train_data.pkl', 'rb')\n",
    "train_data = pickle.load(t_file)\n",
    "v_file = open('data/eval_data.pkl', 'rb')\n",
    "eval_data = pickle.load(v_file)\n",
    "\n",
    "users_df = pd.read_csv('data/users.csv')\n",
    "items_df = pd.read_csv('data/items.csv')"
   ]
  },
  {
   "cell_type": "code",
   "execution_count": 12,
   "id": "051e3d83-4c2a-4b0f-8ee2-945235de9cb7",
   "metadata": {},
   "outputs": [],
   "source": [
    "emb_scale = 64\n",
    "batch_size = 4096\n",
    "len_users = len(users_df)\n",
    "len_items = len(items_df)"
   ]
  },
  {
   "cell_type": "code",
   "execution_count": 13,
   "id": "cd697ef3-0e7a-4436-9dd4-82a8d4e90311",
   "metadata": {},
   "outputs": [],
   "source": [
    "class Dataset(paddle.io.Dataset):\n",
    "    def __init__(self, data):\n",
    "        self.feature = data[:,0:2]\n",
    "        self.label = data[:,2]\n",
    "        pass\n",
    "    def __getitem__(self, idx):\n",
    "        return self.feature[idx], self.label[idx]\n",
    "    def __len__(self):\n",
    "        return len(self.feature)\n",
    "    pass\n",
    "\n",
    "train_dataset = paddle.io.DataLoader(Dataset(train_data),\n",
    "                               batch_size=batch_size,\n",
    "                               drop_last=True,\n",
    "                               shuffle=True)\n",
    "eval_dataset = paddle.io.DataLoader(Dataset(eval_data),\n",
    "                               batch_size=batch_size,\n",
    "                               drop_last=True,\n",
    "                               shuffle=True)                               "
   ]
  },
  {
   "cell_type": "code",
   "execution_count": 20,
   "id": "7cf4e82d-ab80-4829-804b-7769fb1af4a4",
   "metadata": {},
   "outputs": [],
   "source": [
    "class DSSM(nn.Layer):\n",
    "    def __init__(self):\n",
    "        super(DSSM,self).__init__()\n",
    "        self.users_emb = nn.Embedding(len_users+1, emb_scale)\n",
    "        self.items_emb = nn.Embedding(len_items+1, emb_scale)\n",
    "        self.users_fc1 = nn.Linear(emb_scale, 512)\n",
    "        self.users_fc2 = nn.Linear(512, 300)\n",
    "        self.users_fc3 = nn.Linear(300, 300)\n",
    "        self.users_fc4 = nn.Linear(300, 128)\n",
    "        self.items_fc1 = nn.Linear(emb_scale, 512)\n",
    "        self.items_fc2 = nn.Linear(512, 300)\n",
    "        self.items_fc3 = nn.Linear(300, 300)\n",
    "        self.items_fc4 = nn.Linear(300, 128)\n",
    "        pass\n",
    "    def forward(self, input):\n",
    "        # user tower\n",
    "        user = self.users_emb(input[:,0])\n",
    "        user = self.users_fc1(user)\n",
    "        # user = nn.functional.relu(user)\n",
    "        # user = self.users_fc2(user)\n",
    "        # user = nn.functional.relu(user)\n",
    "        # user = self.users_fc3(user)\n",
    "        # user = nn.functional.relu(user)\n",
    "        # user = self.users_fc4(user)\n",
    "        # item tower\n",
    "        item = self.items_emb(input[:,1])\n",
    "        item = self.items_fc1(item)\n",
    "        # item = nn.functional.relu(item)\n",
    "        # item = self.items_fc2(item)\n",
    "        # item = nn.functional.relu(item)\n",
    "        # item = self.items_fc3(item)\n",
    "        # item = nn.functional.relu(item)\n",
    "        # item = self.items_fc4(item)\n",
    "        # similarity\n",
    "        x = nn.functional.cosine_similarity(user, item, axis=1)\n",
    "        x = nn.functional.sigmoid(x)\n",
    "        return x\n",
    "    pass\n",
    "dssm = DSSM()\n",
    "optim = paddle.optimizer.Adam(parameters=dssm.parameters(), learning_rate=0.005)"
   ]
  },
  {
   "cell_type": "code",
   "execution_count": 21,
   "id": "26e1da61",
   "metadata": {},
   "outputs": [
    {
     "name": "stderr",
     "output_type": "stream",
     "text": [
      "  0%|          | 0/104 [00:00<?, ?it/s]"
     ]
    },
    {
     "name": "stderr",
     "output_type": "stream",
     "text": [
      "100%|██████████| 104/104 [00:28<00:00,  3.70it/s]\n"
     ]
    },
    {
     "name": "stdout",
     "output_type": "stream",
     "text": [
      "epoch:1, loss:0.2502777775128682, acc:0.4935709635416667\n"
     ]
    },
    {
     "name": "stderr",
     "output_type": "stream",
     "text": [
      "100%|██████████| 104/104 [00:30<00:00,  3.38it/s]\n"
     ]
    },
    {
     "name": "stdout",
     "output_type": "stream",
     "text": [
      "epoch:2, loss:0.23651070396105447, acc:0.4951985677083333\n"
     ]
    },
    {
     "name": "stderr",
     "output_type": "stream",
     "text": [
      "100%|██████████| 104/104 [00:31<00:00,  3.32it/s]\n"
     ]
    },
    {
     "name": "stdout",
     "output_type": "stream",
     "text": [
      "epoch:3, loss:0.23098802069822946, acc:0.4925130208333333\n"
     ]
    },
    {
     "name": "stderr",
     "output_type": "stream",
     "text": [
      "100%|██████████| 104/104 [00:30<00:00,  3.43it/s]\n"
     ]
    },
    {
     "name": "stdout",
     "output_type": "stream",
     "text": [
      "epoch:4, loss:0.22836575408776602, acc:0.4939778645833333\n"
     ]
    },
    {
     "name": "stderr",
     "output_type": "stream",
     "text": [
      "100%|██████████| 104/104 [00:30<00:00,  3.43it/s]\n"
     ]
    },
    {
     "name": "stdout",
     "output_type": "stream",
     "text": [
      "epoch:5, loss:0.22681891918182373, acc:0.4944661458333333\n"
     ]
    },
    {
     "name": "stderr",
     "output_type": "stream",
     "text": [
      "100%|██████████| 104/104 [00:27<00:00,  3.78it/s]\n"
     ]
    },
    {
     "name": "stdout",
     "output_type": "stream",
     "text": [
      "epoch:6, loss:0.22543895741303763, acc:0.4920247395833333\n"
     ]
    },
    {
     "name": "stderr",
     "output_type": "stream",
     "text": [
      "100%|██████████| 104/104 [00:27<00:00,  3.77it/s]\n"
     ]
    },
    {
     "name": "stdout",
     "output_type": "stream",
     "text": [
      "epoch:7, loss:0.22501560052235922, acc:0.4912923177083333\n"
     ]
    },
    {
     "name": "stderr",
     "output_type": "stream",
     "text": [
      "100%|██████████| 104/104 [00:33<00:00,  3.10it/s]\n"
     ]
    },
    {
     "name": "stdout",
     "output_type": "stream",
     "text": [
      "epoch:8, loss:0.22489322225252786, acc:0.492431640625\n"
     ]
    },
    {
     "name": "stderr",
     "output_type": "stream",
     "text": [
      " 75%|███████▌  | 78/104 [00:23<00:07,  3.35it/s]\n"
     ]
    },
    {
     "ename": "KeyboardInterrupt",
     "evalue": "",
     "output_type": "error",
     "traceback": [
      "\u001b[1;31m---------------------------------------------------------------------------\u001b[0m",
      "\u001b[1;31mKeyboardInterrupt\u001b[0m                         Traceback (most recent call last)",
      "Cell \u001b[1;32mIn[21], line 16\u001b[0m\n\u001b[0;32m     14\u001b[0m loss \u001b[39m=\u001b[39m nn\u001b[39m.\u001b[39mfunctional\u001b[39m.\u001b[39mmse_loss(y_pred, paddle\u001b[39m.\u001b[39mcast(y_data, dtype\u001b[39m=\u001b[39m\u001b[39m'\u001b[39m\u001b[39mfloat32\u001b[39m\u001b[39m'\u001b[39m))\n\u001b[0;32m     15\u001b[0m acc \u001b[39m=\u001b[39m paddle\u001b[39m.\u001b[39mstatic\u001b[39m.\u001b[39maccuracy(paddle\u001b[39m.\u001b[39mreshape(y_pred, (batch_size, \u001b[39m1\u001b[39m)), paddle\u001b[39m.\u001b[39mreshape(paddle\u001b[39m.\u001b[39mcast(y_data, dtype\u001b[39m=\u001b[39m\u001b[39m'\u001b[39m\u001b[39mint64\u001b[39m\u001b[39m'\u001b[39m), (batch_size, \u001b[39m1\u001b[39m)))\n\u001b[1;32m---> 16\u001b[0m loss\u001b[39m.\u001b[39;49mbackward()\n\u001b[0;32m     18\u001b[0m optim\u001b[39m.\u001b[39mstep()\n\u001b[0;32m     19\u001b[0m optim\u001b[39m.\u001b[39mclear_grad()\n",
      "File \u001b[1;32md:\\program files\\anaconda\\envs\\env_name\\lib\\site-packages\\decorator.py:232\u001b[0m, in \u001b[0;36mdecorate.<locals>.fun\u001b[1;34m(*args, **kw)\u001b[0m\n\u001b[0;32m    230\u001b[0m \u001b[39mif\u001b[39;00m \u001b[39mnot\u001b[39;00m kwsyntax:\n\u001b[0;32m    231\u001b[0m     args, kw \u001b[39m=\u001b[39m fix(args, kw, sig)\n\u001b[1;32m--> 232\u001b[0m \u001b[39mreturn\u001b[39;00m caller(func, \u001b[39m*\u001b[39m(extras \u001b[39m+\u001b[39m args), \u001b[39m*\u001b[39m\u001b[39m*\u001b[39mkw)\n",
      "File \u001b[1;32md:\\program files\\anaconda\\envs\\env_name\\lib\\site-packages\\paddle\\fluid\\wrapped_decorator.py:25\u001b[0m, in \u001b[0;36mwrap_decorator.<locals>.__impl__\u001b[1;34m(func, *args, **kwargs)\u001b[0m\n\u001b[0;32m     22\u001b[0m \u001b[39m@decorator\u001b[39m\u001b[39m.\u001b[39mdecorator\n\u001b[0;32m     23\u001b[0m \u001b[39mdef\u001b[39;00m \u001b[39m__impl__\u001b[39m(func, \u001b[39m*\u001b[39margs, \u001b[39m*\u001b[39m\u001b[39m*\u001b[39mkwargs):\n\u001b[0;32m     24\u001b[0m     wrapped_func \u001b[39m=\u001b[39m decorator_func(func)\n\u001b[1;32m---> 25\u001b[0m     \u001b[39mreturn\u001b[39;00m wrapped_func(\u001b[39m*\u001b[39margs, \u001b[39m*\u001b[39m\u001b[39m*\u001b[39mkwargs)\n",
      "File \u001b[1;32md:\\program files\\anaconda\\envs\\env_name\\lib\\site-packages\\paddle\\fluid\\framework.py:434\u001b[0m, in \u001b[0;36m_dygraph_only_.<locals>.__impl__\u001b[1;34m(*args, **kwargs)\u001b[0m\n\u001b[0;32m    431\u001b[0m \u001b[39mdef\u001b[39;00m \u001b[39m__impl__\u001b[39m(\u001b[39m*\u001b[39margs, \u001b[39m*\u001b[39m\u001b[39m*\u001b[39mkwargs):\n\u001b[0;32m    432\u001b[0m     \u001b[39massert\u001b[39;00m _non_static_mode(\n\u001b[0;32m    433\u001b[0m     ), \u001b[39m\"\u001b[39m\u001b[39mWe only support \u001b[39m\u001b[39m'\u001b[39m\u001b[39m%s\u001b[39;00m\u001b[39m()\u001b[39m\u001b[39m'\u001b[39m\u001b[39m in dynamic graph mode, please call \u001b[39m\u001b[39m'\u001b[39m\u001b[39mpaddle.disable_static()\u001b[39m\u001b[39m'\u001b[39m\u001b[39m to enter dynamic graph mode.\u001b[39m\u001b[39m\"\u001b[39m \u001b[39m%\u001b[39m func\u001b[39m.\u001b[39m\u001b[39m__name__\u001b[39m\n\u001b[1;32m--> 434\u001b[0m     \u001b[39mreturn\u001b[39;00m func(\u001b[39m*\u001b[39margs, \u001b[39m*\u001b[39m\u001b[39m*\u001b[39mkwargs)\n",
      "File \u001b[1;32md:\\program files\\anaconda\\envs\\env_name\\lib\\site-packages\\paddle\\fluid\\dygraph\\varbase_patch_methods.py:291\u001b[0m, in \u001b[0;36mmonkey_patch_varbase.<locals>.backward\u001b[1;34m(self, grad_tensor, retain_graph)\u001b[0m\n\u001b[0;32m    289\u001b[0m         core\u001b[39m.\u001b[39meager\u001b[39m.\u001b[39mrun_backward([\u001b[39mself\u001b[39m], grad_tensor, retain_graph)\n\u001b[0;32m    290\u001b[0m     \u001b[39melse\u001b[39;00m:\n\u001b[1;32m--> 291\u001b[0m         core\u001b[39m.\u001b[39;49mdygraph_run_backward([\u001b[39mself\u001b[39;49m], [grad_tensor],\n\u001b[0;32m    292\u001b[0m                                   retain_graph,\n\u001b[0;32m    293\u001b[0m                                   framework\u001b[39m.\u001b[39;49m_dygraph_tracer())\n\u001b[0;32m    294\u001b[0m \u001b[39mif\u001b[39;00m in_profiler_mode():\n\u001b[0;32m    295\u001b[0m     record_event\u001b[39m.\u001b[39mend()\n",
      "\u001b[1;31mKeyboardInterrupt\u001b[0m: "
     ]
    }
   ],
   "source": [
    "train_loss_, train_acc_, eval_loss_, eval_acc_ = [], [], [], []\n",
    "\n",
    "for epoch in range(10):\n",
    "\n",
    "    train_loss, train_acc, eval_loss, eval_acc = 0, 0, 0, 0\n",
    "    dssm.train()\n",
    "\n",
    "    for batch_id, data in enumerate(tqdm(train_dataset)):\n",
    "        x_data = data[0]\n",
    "        y_data = data[1]\n",
    "        x_data = paddle.cast(x_data, dtype='int32')\n",
    "\n",
    "        y_pred = dssm(x_data)\n",
    "        loss = nn.functional.mse_loss(y_pred, paddle.cast(y_data, dtype='float32'))\n",
    "        acc = paddle.static.accuracy(paddle.reshape(y_pred, (batch_size, 1)), paddle.reshape(paddle.cast(y_data, dtype='int64'), (batch_size, 1)))\n",
    "        loss.backward()\n",
    "\n",
    "        optim.step()\n",
    "        optim.clear_grad()\n",
    "        train_loss += loss.numpy()[0]\n",
    "        train_acc += acc.numpy()[0]\n",
    "    \n",
    "    train_loss /= (batch_id + 1)\n",
    "    train_acc /= (batch_id + 1)\n",
    "    train_loss_.append(train_loss)\n",
    "    train_acc_.append(train_acc)\n",
    "    path = 'DSSM/{}_epoch{}_loss{}_acc{}_model.pdparams'.format(int(time.time()), (epoch + 1), train_loss, train_acc)\n",
    "    dssm.eval()\n",
    "\n",
    "    for batch_id, data in enumerate(eval_dataset):\n",
    "        x_data = data[0]\n",
    "        y_data = data[1]\n",
    "        x_data = paddle.cast(x_data, dtype='int32')\n",
    "\n",
    "        y_pred = dssm(x_data)\n",
    "        loss = nn.functional.mse_loss(y_pred, paddle.cast(y_data, dtype='float32'))\n",
    "        acc = paddle.static.accuracy(paddle.reshape(y_pred, (batch_size, 1)), paddle.reshape(paddle.cast(y_data, dtype='int64'), (batch_size, 1)))\n",
    "        eval_loss += loss.numpy()[0]\n",
    "        eval_acc += acc.numpy()[0]\n",
    "\n",
    "    eval_loss /= (batch_id + 1)\n",
    "    eval_acc /= (batch_id + 1)\n",
    "    eval_loss_.append(eval_loss)\n",
    "    eval_acc_.append(eval_acc)\n",
    "    print('epoch:{}, loss:{}, acc:{}'.format((epoch + 1), eval_loss, eval_acc))\n",
    "\n",
    "    obj = {'model': dssm.state_dict(), 'opt': optim.state_dict(), 'epoch': epoch}\n",
    "    path = 'DSSM/{}_epoch{}_loss{}_acc{}_model.pdparams'.format(int(time.time()), (epoch + 1), eval_loss, eval_acc)\n",
    "    paddle.save(obj, path)\n",
    "\n",
    "# pd.DataFrame({\n",
    "#     'train_loss':train_loss_,\n",
    "#     'train_acc':train_acc_, \n",
    "#     'eval_loss':eval_loss_,\n",
    "#     'eval_acc':eval_acc_\n",
    "# }).to_csv('DSSM/normal.csv')"
   ]
  }
 ],
 "metadata": {
  "kernelspec": {
   "display_name": "Python 3 (ipykernel)",
   "language": "python",
   "name": "python3"
  },
  "language_info": {
   "codemirror_mode": {
    "name": "ipython",
    "version": 3
   },
   "file_extension": ".py",
   "mimetype": "text/x-python",
   "name": "python",
   "nbconvert_exporter": "python",
   "pygments_lexer": "ipython3",
   "version": "3.9.7"
  }
 },
 "nbformat": 4,
 "nbformat_minor": 5
}
