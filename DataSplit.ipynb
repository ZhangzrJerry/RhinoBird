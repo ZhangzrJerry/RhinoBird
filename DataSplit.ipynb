{
 "cells": [
  {
   "cell_type": "code",
   "execution_count": 108,
   "metadata": {},
   "outputs": [],
   "source": [
    "# 把出现次数多的用户和物品的一部分借阅数据遮住作为验证集\n",
    "import pandas as pd\n",
    "import numpy as np\n",
    "from tqdm import tqdm\n",
    "import pickle\n",
    "\n",
    "file = open('data/data.pkl', 'rb')\n",
    "data = pickle.load(file).astype('int32')\n",
    "file.close()\n",
    "user = pd.read_csv('data/users.csv', header=None)\n",
    "item = pd.read_csv('data/items.csv', header=None)"
   ]
  },
  {
   "cell_type": "code",
   "execution_count": 103,
   "metadata": {},
   "outputs": [
    {
     "name": "stderr",
     "output_type": "stream",
     "text": [
      "  0%|          | 0/12119 [00:00<?, ?it/s]"
     ]
    },
    {
     "name": "stderr",
     "output_type": "stream",
     "text": [
      "100%|██████████| 12119/12119 [00:07<00:00, 1690.21it/s]\n",
      "100%|██████████| 24017/24017 [00:12<00:00, 1890.25it/s]\n"
     ]
    }
   ],
   "source": [
    "user_count = []\n",
    "item_count = []\n",
    "for x in tqdm(data):\n",
    "    user_count.append(np.sum(x==1))\n",
    "for x in tqdm(data.T):\n",
    "    item_count.append(np.sum(x==1))\n",
    "user_count = np.array(user_count, dtype='int32')\n",
    "item_count = np.array(item_count, dtype='int32')"
   ]
  },
  {
   "cell_type": "code",
   "execution_count": 122,
   "metadata": {},
   "outputs": [
    {
     "name": "stderr",
     "output_type": "stream",
     "text": [
      "100%|██████████| 12119/12119 [19:32<00:00, 10.34it/s] \n"
     ]
    }
   ],
   "source": [
    "pick_data = []\n",
    "item_mark = np.zeros(len(data[0]))\n",
    "for i in tqdm(range(len(data))):\n",
    "    user_mark = 0\n",
    "    for j in range(len(data[0])):\n",
    "        if data[i][j] == 1:\n",
    "            pick_data.append([i, j, data[i][j]])\n",
    "        elif item_mark[j] < item_count[j] and user_mark < user_count[i]:\n",
    "            pick_data.append([i, j, 0])\n",
    "            item_mark[j] += 1\n",
    "            user_mark += 1"
   ]
  },
  {
   "cell_type": "code",
   "execution_count": 140,
   "metadata": {},
   "outputs": [],
   "source": [
    "data = np.array(pick_data, dtype='int32')\n",
    "np.random.shuffle(data)\n",
    "file = open('data/strategy_sample.pkl', 'wb')\n",
    "pickle.dump(data, file)\n",
    "file.close()"
   ]
  },
  {
   "cell_type": "code",
   "execution_count": 143,
   "metadata": {},
   "outputs": [],
   "source": [
    "offset = int(0.8 * len(data))\n",
    "file = open('data/train_data.pkl', 'wb')\n",
    "pickle.dump(data[:offset], file)\n",
    "file.close()\n",
    "file = open('data/verify_data.pkl', 'wb')\n",
    "pickle.dump(data[offset:], file)\n",
    "file.close()"
   ]
  }
 ],
 "metadata": {
  "kernelspec": {
   "display_name": "env_name",
   "language": "python",
   "name": "python3"
  },
  "language_info": {
   "codemirror_mode": {
    "name": "ipython",
    "version": 3
   },
   "file_extension": ".py",
   "mimetype": "text/x-python",
   "name": "python",
   "nbconvert_exporter": "python",
   "pygments_lexer": "ipython3",
   "version": "3.9.7"
  },
  "orig_nbformat": 4
 },
 "nbformat": 4,
 "nbformat_minor": 2
}
