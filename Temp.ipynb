{
 "cells": [
  {
   "cell_type": "code",
   "execution_count": 16,
   "metadata": {},
   "outputs": [
    {
     "name": "stderr",
     "output_type": "stream",
     "text": [
      "C:\\Users\\Administer\\AppData\\Local\\Temp\\ipykernel_19812\\1918133550.py:2: DtypeWarning: Columns (9,10,11) have mixed types. Specify dtype option on import or set low_memory=False.\n",
      "  df = pd.read_csv('data/读者借阅数据.csv', encoding='gbk')\n"
     ]
    }
   ],
   "source": [
    "import pandas as pd\n",
    "df = pd.read_csv('data/读者借阅数据.csv', encoding='gbk')\n",
    "users = pd.read_csv('data/users.csv')"
   ]
  },
  {
   "cell_type": "code",
   "execution_count": 5,
   "metadata": {},
   "outputs": [
    {
     "data": {
      "text/html": [
       "<div>\n",
       "<style scoped>\n",
       "    .dataframe tbody tr th:only-of-type {\n",
       "        vertical-align: middle;\n",
       "    }\n",
       "\n",
       "    .dataframe tbody tr th {\n",
       "        vertical-align: top;\n",
       "    }\n",
       "\n",
       "    .dataframe thead th {\n",
       "        text-align: right;\n",
       "    }\n",
       "</style>\n",
       "<table border=\"1\" class=\"dataframe\">\n",
       "  <thead>\n",
       "    <tr style=\"text-align: right;\">\n",
       "      <th></th>\n",
       "      <th>借书证号</th>\n",
       "      <th>条形码</th>\n",
       "      <th>标志</th>\n",
       "      <th>过期</th>\n",
       "      <th>借出日期</th>\n",
       "      <th>还书日期</th>\n",
       "      <th>索书号</th>\n",
       "      <th>书名</th>\n",
       "      <th>借出操作员</th>\n",
       "      <th>读者姓名</th>\n",
       "      <th>读者单位</th>\n",
       "      <th>一卡通卡号</th>\n",
       "      <th>还回操作员</th>\n",
       "    </tr>\n",
       "  </thead>\n",
       "  <tbody>\n",
       "    <tr>\n",
       "      <th>0</th>\n",
       "      <td>00000186</td>\n",
       "      <td>=\"0207739\"</td>\n",
       "      <td>借</td>\n",
       "      <td>NaN</td>\n",
       "      <td>2023-05-09</td>\n",
       "      <td>2023-08-07</td>\n",
       "      <td>B84/45</td>\n",
       "      <td>心理学与工作</td>\n",
       "      <td>ZZYH01</td>\n",
       "      <td>刘洋</td>\n",
       "      <td>数学科教师</td>\n",
       "      <td>2411669142</td>\n",
       "      <td>NaN</td>\n",
       "    </tr>\n",
       "    <tr>\n",
       "      <th>1</th>\n",
       "      <td>20000000</td>\n",
       "      <td>=\"0242845\"</td>\n",
       "      <td>还</td>\n",
       "      <td>NaN</td>\n",
       "      <td>2018-09-04</td>\n",
       "      <td>2018-09-04</td>\n",
       "      <td>B-49/15</td>\n",
       "      <td>你的第一本哲学书</td>\n",
       "      <td>ZZYH01</td>\n",
       "      <td>NaN</td>\n",
       "      <td>NaN</td>\n",
       "      <td>NaN</td>\n",
       "      <td>ZZYH01</td>\n",
       "    </tr>\n",
       "    <tr>\n",
       "      <th>2</th>\n",
       "      <td>20000000</td>\n",
       "      <td>=\"0244432\"</td>\n",
       "      <td>还</td>\n",
       "      <td>NaN</td>\n",
       "      <td>2018-09-04</td>\n",
       "      <td>2018-09-04</td>\n",
       "      <td>I106/58</td>\n",
       "      <td>巨匠与杰作</td>\n",
       "      <td>ZZYH01</td>\n",
       "      <td>NaN</td>\n",
       "      <td>NaN</td>\n",
       "      <td>NaN</td>\n",
       "      <td>ZZYH01</td>\n",
       "    </tr>\n",
       "    <tr>\n",
       "      <th>3</th>\n",
       "      <td>20000000</td>\n",
       "      <td>=\"0242845\"</td>\n",
       "      <td>还</td>\n",
       "      <td>NaN</td>\n",
       "      <td>2018-09-04</td>\n",
       "      <td>2018-09-04</td>\n",
       "      <td>B-49/15</td>\n",
       "      <td>你的第一本哲学书</td>\n",
       "      <td>ZZYH01</td>\n",
       "      <td>NaN</td>\n",
       "      <td>NaN</td>\n",
       "      <td>NaN</td>\n",
       "      <td>ZZYH01</td>\n",
       "    </tr>\n",
       "    <tr>\n",
       "      <th>4</th>\n",
       "      <td>20000000</td>\n",
       "      <td>=\"0244432\"</td>\n",
       "      <td>还</td>\n",
       "      <td>NaN</td>\n",
       "      <td>2018-09-04</td>\n",
       "      <td>2018-09-04</td>\n",
       "      <td>I106/58</td>\n",
       "      <td>巨匠与杰作</td>\n",
       "      <td>ZZYH01</td>\n",
       "      <td>NaN</td>\n",
       "      <td>NaN</td>\n",
       "      <td>NaN</td>\n",
       "      <td>ZZYH01</td>\n",
       "    </tr>\n",
       "  </tbody>\n",
       "</table>\n",
       "</div>"
      ],
      "text/plain": [
       "       借书证号         条形码 标志   过期        借出日期        还书日期      索书号        书名  \\\n",
       "0  00000186  =\"0207739\"  借  NaN  2023-05-09  2023-08-07   B84/45    心理学与工作   \n",
       "1  20000000  =\"0242845\"  还  NaN  2018-09-04  2018-09-04  B-49/15  你的第一本哲学书   \n",
       "2  20000000  =\"0244432\"  还  NaN  2018-09-04  2018-09-04  I106/58     巨匠与杰作   \n",
       "3  20000000  =\"0242845\"  还  NaN  2018-09-04  2018-09-04  B-49/15  你的第一本哲学书   \n",
       "4  20000000  =\"0244432\"  还  NaN  2018-09-04  2018-09-04  I106/58     巨匠与杰作   \n",
       "\n",
       "    借出操作员 读者姓名   读者单位       一卡通卡号   还回操作员  \n",
       "0  ZZYH01   刘洋  数学科教师  2411669142     NaN  \n",
       "1  ZZYH01  NaN    NaN         NaN  ZZYH01  \n",
       "2  ZZYH01  NaN    NaN         NaN  ZZYH01  \n",
       "3  ZZYH01  NaN    NaN         NaN  ZZYH01  \n",
       "4  ZZYH01  NaN    NaN         NaN  ZZYH01  "
      ]
     },
     "execution_count": 5,
     "metadata": {},
     "output_type": "execute_result"
    }
   ],
   "source": [
    "df.head()"
   ]
  },
  {
   "cell_type": "code",
   "execution_count": 114,
   "metadata": {},
   "outputs": [
    {
     "name": "stderr",
     "output_type": "stream",
     "text": [
      "100%|██████████| 12118/12118 [15:53<00:00, 12.70it/s]\n"
     ]
    }
   ],
   "source": [
    "from tqdm import tqdm\n",
    "import json\n",
    "from datetime import datetime,date,time\n",
    "\n",
    "for user in tqdm(users.values):\n",
    "    data = []\n",
    "    for item in df[(df['借书证号']==user[0])].values:\n",
    "        dura = datetime(int(item[5][0:4]),int(item[5][5:7]),int(item[5][8:10])) - datetime(int(item[4][0:4]),int(item[4][5:7]),int(item[4][8:10]))\n",
    "        data.append(\n",
    "            {\n",
    "                \"name\": item[7],\n",
    "                \"date\": item[4],\n",
    "                \"time\": dura.days\n",
    "            }\n",
    "        )\n",
    "    file = open('out/'+user[0]+'.json', 'w', encoding='UTF-8')\n",
    "    json.dump(data, file, ensure_ascii=False, indent=4)\n",
    "    file.close()"
   ]
  }
 ],
 "metadata": {
  "kernelspec": {
   "display_name": "env_name",
   "language": "python",
   "name": "python3"
  },
  "language_info": {
   "codemirror_mode": {
    "name": "ipython",
    "version": 3
   },
   "file_extension": ".py",
   "mimetype": "text/x-python",
   "name": "python",
   "nbconvert_exporter": "python",
   "pygments_lexer": "ipython3",
   "version": "3.9.7"
  },
  "orig_nbformat": 4
 },
 "nbformat": 4,
 "nbformat_minor": 2
}
