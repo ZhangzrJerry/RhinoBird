{
 "cells": [
  {
   "cell_type": "code",
   "execution_count": 29,
   "metadata": {},
   "outputs": [],
   "source": [
    "# load dataset\n",
    "import numpy as np\n",
    "import pandas as pd\n",
    "import pickle\n",
    "from tqdm import tqdm\n",
    "\n",
    "file = open('data/data.pkl', 'rb')\n",
    "data = pickle.load(file)"
   ]
  },
  {
   "cell_type": "code",
   "execution_count": 32,
   "metadata": {},
   "outputs": [],
   "source": [
    "eta = 0.003     # learning rate\n",
    "iters = 50     # training times\n",
    "scale = 3      # factor scale\n",
    "lamda = 0.004\n",
    "cost_ = []\n",
    "\n",
    "users_df = pd.read_csv(\"data/users.csv\", header=None)\n",
    "users_emb = np.random.random((len(users_df),scale)).astype('float32')\n",
    "items_df = pd.read_csv(\"data/items.csv\", header=None)\n",
    "items_emb = np.random.random((scale,len(items_df))).astype('float32')"
   ]
  },
  {
   "cell_type": "code",
   "execution_count": null,
   "metadata": {},
   "outputs": [
    {
     "name": "stderr",
     "output_type": "stream",
     "text": [
      "100%|██████████| 12119/12119 [11:29<00:00, 17.58it/s]\n",
      "100%|██████████| 12119/12119 [11:18<00:00, 17.85it/s]\n"
     ]
    },
    {
     "name": "stdout",
     "output_type": "stream",
     "text": [
      "epoch:0, cost:38425.273418038414\n"
     ]
    },
    {
     "name": "stderr",
     "output_type": "stream",
     "text": [
      "100%|██████████| 12119/12119 [11:26<00:00, 17.64it/s]\n",
      "100%|██████████| 12119/12119 [11:18<00:00, 17.85it/s]\n"
     ]
    },
    {
     "name": "stdout",
     "output_type": "stream",
     "text": [
      "epoch:1, cost:29108.68145813106\n"
     ]
    },
    {
     "name": "stderr",
     "output_type": "stream",
     "text": [
      "100%|██████████| 12119/12119 [11:27<00:00, 17.64it/s]\n",
      "100%|██████████| 12119/12119 [11:18<00:00, 17.85it/s]\n"
     ]
    },
    {
     "name": "stdout",
     "output_type": "stream",
     "text": [
      "epoch:2, cost:23538.11638452149\n"
     ]
    },
    {
     "name": "stderr",
     "output_type": "stream",
     "text": [
      "100%|██████████| 12119/12119 [11:27<00:00, 17.63it/s]\n",
      "100%|██████████| 12119/12119 [11:17<00:00, 17.88it/s]\n"
     ]
    },
    {
     "name": "stdout",
     "output_type": "stream",
     "text": [
      "epoch:3, cost:19822.1563710131\n"
     ]
    },
    {
     "name": "stderr",
     "output_type": "stream",
     "text": [
      "100%|██████████| 12119/12119 [11:27<00:00, 17.63it/s]\n",
      "100%|██████████| 12119/12119 [11:18<00:00, 17.85it/s]\n"
     ]
    },
    {
     "name": "stdout",
     "output_type": "stream",
     "text": [
      "epoch:4, cost:17164.044348480482\n"
     ]
    },
    {
     "name": "stderr",
     "output_type": "stream",
     "text": [
      "100%|██████████| 12119/12119 [11:27<00:00, 17.63it/s]\n",
      "100%|██████████| 12119/12119 [11:17<00:00, 17.88it/s]\n"
     ]
    },
    {
     "name": "stdout",
     "output_type": "stream",
     "text": [
      "epoch:5, cost:15168.052459556819\n"
     ]
    },
    {
     "name": "stderr",
     "output_type": "stream",
     "text": [
      "100%|██████████| 12119/12119 [11:27<00:00, 17.63it/s]\n",
      "100%|██████████| 12119/12119 [11:17<00:00, 17.88it/s]\n"
     ]
    },
    {
     "name": "stdout",
     "output_type": "stream",
     "text": [
      "epoch:6, cost:13614.624151760529\n"
     ]
    },
    {
     "name": "stderr",
     "output_type": "stream",
     "text": [
      "100%|██████████| 12119/12119 [11:26<00:00, 17.65it/s]\n",
      "100%|██████████| 12119/12119 [11:17<00:00, 17.89it/s]\n"
     ]
    },
    {
     "name": "stdout",
     "output_type": "stream",
     "text": [
      "epoch:7, cost:12371.802865807473\n"
     ]
    },
    {
     "name": "stderr",
     "output_type": "stream",
     "text": [
      "100%|██████████| 12119/12119 [11:26<00:00, 17.65it/s]\n",
      "100%|██████████| 12119/12119 [11:17<00:00, 17.88it/s]\n"
     ]
    },
    {
     "name": "stdout",
     "output_type": "stream",
     "text": [
      "epoch:8, cost:11355.370092955949\n"
     ]
    },
    {
     "name": "stderr",
     "output_type": "stream",
     "text": [
      "  3%|▎         | 320/12119 [00:17<10:57, 17.94it/s]"
     ]
    }
   ],
   "source": [
    "# for iter in tqdm(range(iters)):\n",
    "for epoch in range(iters):\n",
    "    for u in tqdm(range(len(users_df))):\n",
    "        for i in range(len(items_df)):\n",
    "            if data[u][i] > 0:\n",
    "                eui = np.dot(users_emb[u, :], items_emb[:, i]) - data[u][i]\n",
    "                for k in range(scale):\n",
    "                    users_emb[u][k] = users_emb[u][k] - eta * (2 * eui * items_emb[k][i] + 2 * lamda * users_emb[u][k])\n",
    "                    items_emb[k][i] = items_emb[k][i] - eta * (2 * eui * users_emb[u][k] + 2 * lamda * items_emb[k][i])\n",
    "    pred = np.dot(users_emb, items_emb)\n",
    "    cost = 0\n",
    "    for u in tqdm(range(len(users_df))):\n",
    "        for i in range(len(items_df)):\n",
    "            if data[u][i] > 0:\n",
    "                cost += (pred[u][i] - data[u][i]) ** 2\n",
    "                for k in range(scale):\n",
    "                    cost += lamda * (users_emb[u][k] ** 2 + items_emb[k][i] ** 2)\n",
    "    users_emb_file = open('LatentFactorModel/users_emb_epoch{}_cost{}.pkl'.format(epoch, cost), 'wb')\n",
    "    items_emb_file = open('LatentFactorModel/items_emb_epoch{}_cost{}.pkl'.format(epoch, cost), 'wb')\n",
    "    pickle.dump(users_emb, users_emb_file)\n",
    "    pickle.dump(items_emb, items_emb_file)\n",
    "    cost_.append(cost)\n",
    "    print('epoch:{}, cost:{}'.format(epoch, cost))\n",
    "    if cost < 0.001:\n",
    "        break"
   ]
  },
  {
   "cell_type": "code",
   "execution_count": 19,
   "metadata": {},
   "outputs": [],
   "source": [
    "# save embedding para\n",
    "users_emb_file = open('users_emb.pkl', 'wb')\n",
    "items_emb_file = open('items_emb.pkl', 'wb')\n",
    "pickle.dump(users_emb, users_emb_file)\n",
    "pickle.dump(items_emb, items_emb_file)"
   ]
  }
 ],
 "metadata": {
  "kernelspec": {
   "display_name": "Python 3 (ipykernel)",
   "language": "python",
   "name": "python3"
  },
  "language_info": {
   "codemirror_mode": {
    "name": "ipython",
    "version": 3
   },
   "file_extension": ".py",
   "mimetype": "text/x-python",
   "name": "python",
   "nbconvert_exporter": "python",
   "pygments_lexer": "ipython3",
   "version": "3.10.12"
  }
 },
 "nbformat": 4,
 "nbformat_minor": 4
}
