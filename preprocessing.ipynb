{
 "cells": [
  {
   "cell_type": "code",
   "execution_count": 24,
   "id": "c90355e2-55ac-43b2-bff8-e60795466fb8",
   "metadata": {},
   "outputs": [],
   "source": [
    "import pickle\n",
    "import numpy as np\n",
    "from tqdm import tqdm\n",
    "\n",
    "file = open('data.pkl', 'rb')\n",
    "data = pickle.load(file)"
   ]
  },
  {
   "cell_type": "code",
   "execution_count": 37,
   "id": "114d290a-313d-4874-8d9f-c869ae61c60c",
   "metadata": {},
   "outputs": [],
   "source": [
    "list = np.empty((0,3)).astype('int32')"
   ]
  },
  {
   "cell_type": "code",
   "execution_count": 38,
   "id": "43644fb4-8a49-4acc-98f2-23a1fea1167d",
   "metadata": {},
   "outputs": [
    {
     "name": "stderr",
     "output_type": "stream",
     "text": [
      "100%|██████████| 12119/12119 [05:50<00:00, 34.54it/s]\n"
     ]
    }
   ],
   "source": [
    "for i in tqdm(range(len(data))):\n",
    "    for j in range(len(data[:,])):\n",
    "        if data[i][j] > 0:\n",
    "            list = np.row_stack((list,np.array([i,j,1])))"
   ]
  },
  {
   "cell_type": "code",
   "execution_count": 39,
   "id": "a25c76ef-6954-48c8-9ad5-57e87c5edeee",
   "metadata": {},
   "outputs": [
    {
     "data": {
      "text/plain": [
       "131632"
      ]
     },
     "execution_count": 39,
     "metadata": {},
     "output_type": "execute_result"
    }
   ],
   "source": [
    "len(list)"
   ]
  },
  {
   "cell_type": "code",
   "execution_count": 40,
   "id": "0cde3bac-5899-4a04-9128-08a918d255dc",
   "metadata": {},
   "outputs": [
    {
     "data": {
      "text/plain": [
       "266518.0024914893"
      ]
     },
     "execution_count": 40,
     "metadata": {},
     "output_type": "execute_result"
    }
   ],
   "source": [
    "len(data[0]) * len(data) * np.mean(data)"
   ]
  },
  {
   "cell_type": "code",
   "execution_count": 41,
   "id": "9bbaa68d-731d-4ea1-aeb7-7cf9b4f48eb6",
   "metadata": {},
   "outputs": [
    {
     "name": "stderr",
     "output_type": "stream",
     "text": [
      "100%|██████████| 133259/133259 [00:39<00:00, 3392.44it/s]\n"
     ]
    }
   ],
   "source": [
    "from tqdm.contrib import tzip\n",
    "x = np.random.randint(low=0,high=len(data),size=133259)\n",
    "y = np.random.randint(low=0,high=len(data[0]),size=133259)\n",
    "\n",
    "for i,j in tzip(x, y):\n",
    "    list = np.row_stack((list, np.array([i, j, data[i][j]])))"
   ]
  },
  {
   "cell_type": "code",
   "execution_count": 42,
   "id": "421767b9-9452-4728-bac6-325c917bd565",
   "metadata": {},
   "outputs": [
    {
     "data": {
      "text/plain": [
       "264891"
      ]
     },
     "execution_count": 42,
     "metadata": {},
     "output_type": "execute_result"
    }
   ],
   "source": [
    "len(list)"
   ]
  },
  {
   "cell_type": "code",
   "execution_count": 43,
   "id": "c95a08cf-7c08-41c6-a4eb-c631fa59558a",
   "metadata": {},
   "outputs": [
    {
     "data": {
      "text/plain": [
       "0.4973706165932402"
      ]
     },
     "execution_count": 43,
     "metadata": {},
     "output_type": "execute_result"
    }
   ],
   "source": [
    "np.mean(list[:,2])"
   ]
  },
  {
   "cell_type": "code",
   "execution_count": 46,
   "id": "b511a4c2-d6dc-4d4d-83d9-ebc9e6125629",
   "metadata": {},
   "outputs": [
    {
     "data": {
      "text/plain": [
       "array([[ 9595, 11724,     1],\n",
       "       [ 6640,  6905,     1],\n",
       "       [10943,  2909,     1],\n",
       "       ...,\n",
       "       [ 7626,    11,     0],\n",
       "       [   87,  9968,     0],\n",
       "       [ 7219,  2751,     0]], dtype=int32)"
      ]
     },
     "execution_count": 46,
     "metadata": {},
     "output_type": "execute_result"
    }
   ],
   "source": [
    "np.random.shuffle(list)\n",
    "list.astype('int32')"
   ]
  },
  {
   "cell_type": "code",
   "execution_count": 47,
   "id": "00bbc7a5-0cfa-4384-8deb-1102362691ce",
   "metadata": {},
   "outputs": [],
   "source": [
    "file = open('list.pkl', 'wb')\n",
    "pickle.dump(list, file)"
   ]
  }
 ],
 "metadata": {
  "kernelspec": {
   "display_name": "Python 3 (ipykernel)",
   "language": "python",
   "name": "python3"
  },
  "language_info": {
   "codemirror_mode": {
    "name": "ipython",
    "version": 3
   },
   "file_extension": ".py",
   "mimetype": "text/x-python",
   "name": "python",
   "nbconvert_exporter": "python",
   "pygments_lexer": "ipython3",
   "version": "3.10.12"
  }
 },
 "nbformat": 4,
 "nbformat_minor": 5
}
