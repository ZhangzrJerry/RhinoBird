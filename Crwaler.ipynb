{
 "cells": [
  {
   "cell_type": "code",
   "execution_count": 27,
   "metadata": {},
   "outputs": [],
   "source": [
    "import paddle\n",
    "data = paddle.load('data/net/model.pdparams')['items_emb.weight'].numpy()"
   ]
  },
  {
   "cell_type": "code",
   "execution_count": 26,
   "metadata": {},
   "outputs": [],
   "source": [
    "from sklearn.cluster import KMeans\n",
    "kmeans = KMeans(20)"
   ]
  },
  {
   "cell_type": "code",
   "execution_count": 28,
   "metadata": {},
   "outputs": [
    {
     "name": "stderr",
     "output_type": "stream",
     "text": [
      "d:\\program files\\anaconda\\envs\\recommendation-service\\Lib\\site-packages\\sklearn\\cluster\\_kmeans.py:1412: FutureWarning: The default value of `n_init` will change from 10 to 'auto' in 1.4. Set the value of `n_init` explicitly to suppress the warning\n",
      "  super()._check_params_vs_input(X, default_n_init=10)\n"
     ]
    },
    {
     "data": {
      "text/html": [
       "<style>#sk-container-id-1 {color: black;}#sk-container-id-1 pre{padding: 0;}#sk-container-id-1 div.sk-toggleable {background-color: white;}#sk-container-id-1 label.sk-toggleable__label {cursor: pointer;display: block;width: 100%;margin-bottom: 0;padding: 0.3em;box-sizing: border-box;text-align: center;}#sk-container-id-1 label.sk-toggleable__label-arrow:before {content: \"▸\";float: left;margin-right: 0.25em;color: #696969;}#sk-container-id-1 label.sk-toggleable__label-arrow:hover:before {color: black;}#sk-container-id-1 div.sk-estimator:hover label.sk-toggleable__label-arrow:before {color: black;}#sk-container-id-1 div.sk-toggleable__content {max-height: 0;max-width: 0;overflow: hidden;text-align: left;background-color: #f0f8ff;}#sk-container-id-1 div.sk-toggleable__content pre {margin: 0.2em;color: black;border-radius: 0.25em;background-color: #f0f8ff;}#sk-container-id-1 input.sk-toggleable__control:checked~div.sk-toggleable__content {max-height: 200px;max-width: 100%;overflow: auto;}#sk-container-id-1 input.sk-toggleable__control:checked~label.sk-toggleable__label-arrow:before {content: \"▾\";}#sk-container-id-1 div.sk-estimator input.sk-toggleable__control:checked~label.sk-toggleable__label {background-color: #d4ebff;}#sk-container-id-1 div.sk-label input.sk-toggleable__control:checked~label.sk-toggleable__label {background-color: #d4ebff;}#sk-container-id-1 input.sk-hidden--visually {border: 0;clip: rect(1px 1px 1px 1px);clip: rect(1px, 1px, 1px, 1px);height: 1px;margin: -1px;overflow: hidden;padding: 0;position: absolute;width: 1px;}#sk-container-id-1 div.sk-estimator {font-family: monospace;background-color: #f0f8ff;border: 1px dotted black;border-radius: 0.25em;box-sizing: border-box;margin-bottom: 0.5em;}#sk-container-id-1 div.sk-estimator:hover {background-color: #d4ebff;}#sk-container-id-1 div.sk-parallel-item::after {content: \"\";width: 100%;border-bottom: 1px solid gray;flex-grow: 1;}#sk-container-id-1 div.sk-label:hover label.sk-toggleable__label {background-color: #d4ebff;}#sk-container-id-1 div.sk-serial::before {content: \"\";position: absolute;border-left: 1px solid gray;box-sizing: border-box;top: 0;bottom: 0;left: 50%;z-index: 0;}#sk-container-id-1 div.sk-serial {display: flex;flex-direction: column;align-items: center;background-color: white;padding-right: 0.2em;padding-left: 0.2em;position: relative;}#sk-container-id-1 div.sk-item {position: relative;z-index: 1;}#sk-container-id-1 div.sk-parallel {display: flex;align-items: stretch;justify-content: center;background-color: white;position: relative;}#sk-container-id-1 div.sk-item::before, #sk-container-id-1 div.sk-parallel-item::before {content: \"\";position: absolute;border-left: 1px solid gray;box-sizing: border-box;top: 0;bottom: 0;left: 50%;z-index: -1;}#sk-container-id-1 div.sk-parallel-item {display: flex;flex-direction: column;z-index: 1;position: relative;background-color: white;}#sk-container-id-1 div.sk-parallel-item:first-child::after {align-self: flex-end;width: 50%;}#sk-container-id-1 div.sk-parallel-item:last-child::after {align-self: flex-start;width: 50%;}#sk-container-id-1 div.sk-parallel-item:only-child::after {width: 0;}#sk-container-id-1 div.sk-dashed-wrapped {border: 1px dashed gray;margin: 0 0.4em 0.5em 0.4em;box-sizing: border-box;padding-bottom: 0.4em;background-color: white;}#sk-container-id-1 div.sk-label label {font-family: monospace;font-weight: bold;display: inline-block;line-height: 1.2em;}#sk-container-id-1 div.sk-label-container {text-align: center;}#sk-container-id-1 div.sk-container {/* jupyter's `normalize.less` sets `[hidden] { display: none; }` but bootstrap.min.css set `[hidden] { display: none !important; }` so we also need the `!important` here to be able to override the default hidden behavior on the sphinx rendered scikit-learn.org. See: https://github.com/scikit-learn/scikit-learn/issues/21755 */display: inline-block !important;position: relative;}#sk-container-id-1 div.sk-text-repr-fallback {display: none;}</style><div id=\"sk-container-id-1\" class=\"sk-top-container\"><div class=\"sk-text-repr-fallback\"><pre>KMeans(n_clusters=20)</pre><b>In a Jupyter environment, please rerun this cell to show the HTML representation or trust the notebook. <br />On GitHub, the HTML representation is unable to render, please try loading this page with nbviewer.org.</b></div><div class=\"sk-container\" hidden><div class=\"sk-item\"><div class=\"sk-estimator sk-toggleable\"><input class=\"sk-toggleable__control sk-hidden--visually\" id=\"sk-estimator-id-1\" type=\"checkbox\" checked><label for=\"sk-estimator-id-1\" class=\"sk-toggleable__label sk-toggleable__label-arrow\">KMeans</label><div class=\"sk-toggleable__content\"><pre>KMeans(n_clusters=20)</pre></div></div></div></div></div>"
      ],
      "text/plain": [
       "KMeans(n_clusters=20)"
      ]
     },
     "execution_count": 28,
     "metadata": {},
     "output_type": "execute_result"
    }
   ],
   "source": [
    "kmeans.fit(data)"
   ]
  },
  {
   "cell_type": "code",
   "execution_count": 30,
   "metadata": {},
   "outputs": [
    {
     "data": {
      "text/plain": [
       "array([10, 16, 16, ..., 19, 19,  9])"
      ]
     },
     "execution_count": 30,
     "metadata": {},
     "output_type": "execute_result"
    }
   ],
   "source": [
    "kmeans.predict(data)"
   ]
  },
  {
   "cell_type": "code",
   "execution_count": 32,
   "metadata": {},
   "outputs": [],
   "source": [
    "import pandas as pd"
   ]
  },
  {
   "cell_type": "code",
   "execution_count": 36,
   "metadata": {},
   "outputs": [],
   "source": [
    "df = pd.read_csv('data/csv/items.csv', header=None)"
   ]
  },
  {
   "cell_type": "code",
   "execution_count": 37,
   "metadata": {},
   "outputs": [],
   "source": [
    "df['class'] = kmeans.predict(data)"
   ]
  },
  {
   "cell_type": "code",
   "execution_count": 41,
   "metadata": {},
   "outputs": [
    {
     "data": {
      "text/html": [
       "<div>\n",
       "<style scoped>\n",
       "    .dataframe tbody tr th:only-of-type {\n",
       "        vertical-align: middle;\n",
       "    }\n",
       "\n",
       "    .dataframe tbody tr th {\n",
       "        vertical-align: top;\n",
       "    }\n",
       "\n",
       "    .dataframe thead th {\n",
       "        text-align: right;\n",
       "    }\n",
       "</style>\n",
       "<table border=\"1\" class=\"dataframe\">\n",
       "  <thead>\n",
       "    <tr style=\"text-align: right;\">\n",
       "      <th></th>\n",
       "      <th>0</th>\n",
       "      <th>class</th>\n",
       "    </tr>\n",
       "  </thead>\n",
       "  <tbody>\n",
       "    <tr>\n",
       "      <th>4</th>\n",
       "      <td>0201871沈从文别集  月下小景</td>\n",
       "      <td>15</td>\n",
       "    </tr>\n",
       "    <tr>\n",
       "      <th>40</th>\n",
       "      <td>1000个思维游戏·上</td>\n",
       "      <td>15</td>\n",
       "    </tr>\n",
       "    <tr>\n",
       "      <th>116</th>\n",
       "      <td>1978-2018中国优秀短篇小说</td>\n",
       "      <td>15</td>\n",
       "    </tr>\n",
       "    <tr>\n",
       "      <th>117</th>\n",
       "      <td>1978～2009中国文化地图</td>\n",
       "      <td>15</td>\n",
       "    </tr>\n",
       "    <tr>\n",
       "      <th>139</th>\n",
       "      <td>20,000 leagues under the sea</td>\n",
       "      <td>15</td>\n",
       "    </tr>\n",
       "    <tr>\n",
       "      <th>...</th>\n",
       "      <td>...</td>\n",
       "      <td>...</td>\n",
       "    </tr>\n",
       "    <tr>\n",
       "      <th>23929</th>\n",
       "      <td>黑暗的心:[英文版]</td>\n",
       "      <td>15</td>\n",
       "    </tr>\n",
       "    <tr>\n",
       "      <th>23942</th>\n",
       "      <td>黑猩猩、鸭嘴兽</td>\n",
       "      <td>15</td>\n",
       "    </tr>\n",
       "    <tr>\n",
       "      <th>23964</th>\n",
       "      <td>黑血:小说版</td>\n",
       "      <td>15</td>\n",
       "    </tr>\n",
       "    <tr>\n",
       "      <th>23990</th>\n",
       "      <td>鼹鼠的故事·鼹鼠进城历险记:经典版</td>\n",
       "      <td>15</td>\n",
       "    </tr>\n",
       "    <tr>\n",
       "      <th>24013</th>\n",
       "      <td>龙门专题：高中生物·生物实验与探究</td>\n",
       "      <td>15</td>\n",
       "    </tr>\n",
       "  </tbody>\n",
       "</table>\n",
       "<p>1221 rows × 2 columns</p>\n",
       "</div>"
      ],
      "text/plain": [
       "                                  0  class\n",
       "4                0201871沈从文别集  月下小景     15\n",
       "40                      1000个思维游戏·上     15\n",
       "116               1978-2018中国优秀短篇小说     15\n",
       "117                 1978～2009中国文化地图     15\n",
       "139    20,000 leagues under the sea     15\n",
       "...                             ...    ...\n",
       "23929                    黑暗的心:[英文版]     15\n",
       "23942                       黑猩猩、鸭嘴兽     15\n",
       "23964                        黑血:小说版     15\n",
       "23990             鼹鼠的故事·鼹鼠进城历险记:经典版     15\n",
       "24013             龙门专题：高中生物·生物实验与探究     15\n",
       "\n",
       "[1221 rows x 2 columns]"
      ]
     },
     "execution_count": 41,
     "metadata": {},
     "output_type": "execute_result"
    }
   ],
   "source": [
    "df[df['class']==15]"
   ]
  },
  {
   "cell_type": "code",
   "execution_count": 43,
   "metadata": {},
   "outputs": [],
   "source": [
    "import pickle\n",
    "file = open('data/pkl/dist.pkl', 'rb')\n",
    "data = pickle.load(file)\n",
    "file.close()"
   ]
  },
  {
   "cell_type": "code",
   "execution_count": 48,
   "metadata": {},
   "outputs": [],
   "source": [
    "import numpy as np\n",
    "data = np.array(data)"
   ]
  },
  {
   "cell_type": "code",
   "execution_count": 50,
   "metadata": {},
   "outputs": [
    {
     "data": {
      "text/plain": [
       "24017"
      ]
     },
     "execution_count": 50,
     "metadata": {},
     "output_type": "execute_result"
    }
   ],
   "source": [
    "data = data.T\n",
    "len(data)"
   ]
  },
  {
   "cell_type": "code",
   "execution_count": 52,
   "metadata": {},
   "outputs": [
    {
     "name": "stderr",
     "output_type": "stream",
     "text": [
      "d:\\program files\\anaconda\\envs\\recommendation-service\\Lib\\site-packages\\sklearn\\cluster\\_kmeans.py:1412: FutureWarning: The default value of `n_init` will change from 10 to 'auto' in 1.4. Set the value of `n_init` explicitly to suppress the warning\n",
      "  super()._check_params_vs_input(X, default_n_init=10)\n"
     ]
    },
    {
     "data": {
      "text/html": [
       "<style>#sk-container-id-2 {color: black;}#sk-container-id-2 pre{padding: 0;}#sk-container-id-2 div.sk-toggleable {background-color: white;}#sk-container-id-2 label.sk-toggleable__label {cursor: pointer;display: block;width: 100%;margin-bottom: 0;padding: 0.3em;box-sizing: border-box;text-align: center;}#sk-container-id-2 label.sk-toggleable__label-arrow:before {content: \"▸\";float: left;margin-right: 0.25em;color: #696969;}#sk-container-id-2 label.sk-toggleable__label-arrow:hover:before {color: black;}#sk-container-id-2 div.sk-estimator:hover label.sk-toggleable__label-arrow:before {color: black;}#sk-container-id-2 div.sk-toggleable__content {max-height: 0;max-width: 0;overflow: hidden;text-align: left;background-color: #f0f8ff;}#sk-container-id-2 div.sk-toggleable__content pre {margin: 0.2em;color: black;border-radius: 0.25em;background-color: #f0f8ff;}#sk-container-id-2 input.sk-toggleable__control:checked~div.sk-toggleable__content {max-height: 200px;max-width: 100%;overflow: auto;}#sk-container-id-2 input.sk-toggleable__control:checked~label.sk-toggleable__label-arrow:before {content: \"▾\";}#sk-container-id-2 div.sk-estimator input.sk-toggleable__control:checked~label.sk-toggleable__label {background-color: #d4ebff;}#sk-container-id-2 div.sk-label input.sk-toggleable__control:checked~label.sk-toggleable__label {background-color: #d4ebff;}#sk-container-id-2 input.sk-hidden--visually {border: 0;clip: rect(1px 1px 1px 1px);clip: rect(1px, 1px, 1px, 1px);height: 1px;margin: -1px;overflow: hidden;padding: 0;position: absolute;width: 1px;}#sk-container-id-2 div.sk-estimator {font-family: monospace;background-color: #f0f8ff;border: 1px dotted black;border-radius: 0.25em;box-sizing: border-box;margin-bottom: 0.5em;}#sk-container-id-2 div.sk-estimator:hover {background-color: #d4ebff;}#sk-container-id-2 div.sk-parallel-item::after {content: \"\";width: 100%;border-bottom: 1px solid gray;flex-grow: 1;}#sk-container-id-2 div.sk-label:hover label.sk-toggleable__label {background-color: #d4ebff;}#sk-container-id-2 div.sk-serial::before {content: \"\";position: absolute;border-left: 1px solid gray;box-sizing: border-box;top: 0;bottom: 0;left: 50%;z-index: 0;}#sk-container-id-2 div.sk-serial {display: flex;flex-direction: column;align-items: center;background-color: white;padding-right: 0.2em;padding-left: 0.2em;position: relative;}#sk-container-id-2 div.sk-item {position: relative;z-index: 1;}#sk-container-id-2 div.sk-parallel {display: flex;align-items: stretch;justify-content: center;background-color: white;position: relative;}#sk-container-id-2 div.sk-item::before, #sk-container-id-2 div.sk-parallel-item::before {content: \"\";position: absolute;border-left: 1px solid gray;box-sizing: border-box;top: 0;bottom: 0;left: 50%;z-index: -1;}#sk-container-id-2 div.sk-parallel-item {display: flex;flex-direction: column;z-index: 1;position: relative;background-color: white;}#sk-container-id-2 div.sk-parallel-item:first-child::after {align-self: flex-end;width: 50%;}#sk-container-id-2 div.sk-parallel-item:last-child::after {align-self: flex-start;width: 50%;}#sk-container-id-2 div.sk-parallel-item:only-child::after {width: 0;}#sk-container-id-2 div.sk-dashed-wrapped {border: 1px dashed gray;margin: 0 0.4em 0.5em 0.4em;box-sizing: border-box;padding-bottom: 0.4em;background-color: white;}#sk-container-id-2 div.sk-label label {font-family: monospace;font-weight: bold;display: inline-block;line-height: 1.2em;}#sk-container-id-2 div.sk-label-container {text-align: center;}#sk-container-id-2 div.sk-container {/* jupyter's `normalize.less` sets `[hidden] { display: none; }` but bootstrap.min.css set `[hidden] { display: none !important; }` so we also need the `!important` here to be able to override the default hidden behavior on the sphinx rendered scikit-learn.org. See: https://github.com/scikit-learn/scikit-learn/issues/21755 */display: inline-block !important;position: relative;}#sk-container-id-2 div.sk-text-repr-fallback {display: none;}</style><div id=\"sk-container-id-2\" class=\"sk-top-container\"><div class=\"sk-text-repr-fallback\"><pre>KMeans(n_clusters=25)</pre><b>In a Jupyter environment, please rerun this cell to show the HTML representation or trust the notebook. <br />On GitHub, the HTML representation is unable to render, please try loading this page with nbviewer.org.</b></div><div class=\"sk-container\" hidden><div class=\"sk-item\"><div class=\"sk-estimator sk-toggleable\"><input class=\"sk-toggleable__control sk-hidden--visually\" id=\"sk-estimator-id-2\" type=\"checkbox\" checked><label for=\"sk-estimator-id-2\" class=\"sk-toggleable__label sk-toggleable__label-arrow\">KMeans</label><div class=\"sk-toggleable__content\"><pre>KMeans(n_clusters=25)</pre></div></div></div></div></div>"
      ],
      "text/plain": [
       "KMeans(n_clusters=25)"
      ]
     },
     "execution_count": 52,
     "metadata": {},
     "output_type": "execute_result"
    }
   ],
   "source": [
    "kmeans = KMeans(25)\n",
    "kmeans.fit(data)"
   ]
  },
  {
   "cell_type": "code",
   "execution_count": 54,
   "metadata": {},
   "outputs": [],
   "source": [
    "df['class1'] = kmeans.predict(data)"
   ]
  },
  {
   "cell_type": "code",
   "execution_count": 58,
   "metadata": {},
   "outputs": [
    {
     "data": {
      "text/html": [
       "<div>\n",
       "<style scoped>\n",
       "    .dataframe tbody tr th:only-of-type {\n",
       "        vertical-align: middle;\n",
       "    }\n",
       "\n",
       "    .dataframe tbody tr th {\n",
       "        vertical-align: top;\n",
       "    }\n",
       "\n",
       "    .dataframe thead th {\n",
       "        text-align: right;\n",
       "    }\n",
       "</style>\n",
       "<table border=\"1\" class=\"dataframe\">\n",
       "  <thead>\n",
       "    <tr style=\"text-align: right;\">\n",
       "      <th></th>\n",
       "      <th>0</th>\n",
       "      <th>class</th>\n",
       "      <th>class1</th>\n",
       "    </tr>\n",
       "  </thead>\n",
       "  <tbody>\n",
       "    <tr>\n",
       "      <th>11923</th>\n",
       "      <td>排队的人</td>\n",
       "      <td>2</td>\n",
       "      <td>3</td>\n",
       "    </tr>\n",
       "  </tbody>\n",
       "</table>\n",
       "</div>"
      ],
      "text/plain": [
       "          0  class  class1\n",
       "11923  排队的人      2       3"
      ]
     },
     "execution_count": 58,
     "metadata": {},
     "output_type": "execute_result"
    }
   ],
   "source": [
    "df[df['class1']==3]"
   ]
  },
  {
   "cell_type": "code",
   "execution_count": 76,
   "metadata": {},
   "outputs": [],
   "source": [
    "giao = pd.read_csv('data/csv/dataset.csv')"
   ]
  },
  {
   "cell_type": "code",
   "execution_count": 74,
   "metadata": {},
   "outputs": [
    {
     "data": {
      "text/html": [
       "<div>\n",
       "<style scoped>\n",
       "    .dataframe tbody tr th:only-of-type {\n",
       "        vertical-align: middle;\n",
       "    }\n",
       "\n",
       "    .dataframe tbody tr th {\n",
       "        vertical-align: top;\n",
       "    }\n",
       "\n",
       "    .dataframe thead th {\n",
       "        text-align: right;\n",
       "    }\n",
       "</style>\n",
       "<table border=\"1\" class=\"dataframe\">\n",
       "  <thead>\n",
       "    <tr style=\"text-align: right;\">\n",
       "      <th></th>\n",
       "      <th>书名</th>\n",
       "      <th>作者</th>\n",
       "      <th>出版社</th>\n",
       "      <th>关键词</th>\n",
       "      <th>摘要</th>\n",
       "      <th>中国图书分类号</th>\n",
       "      <th>出版年月</th>\n",
       "    </tr>\n",
       "  </thead>\n",
       "  <tbody>\n",
       "    <tr>\n",
       "      <th>0</th>\n",
       "      <td>道家文化与中医学</td>\n",
       "      <td>江幼，李原撰</td>\n",
       "      <td>北京中国中医药出版社</td>\n",
       "      <td>道家文化研究中医学医学史研究</td>\n",
       "      <td>本书以充足的史料和严密的逻辑证明了道家思想是中医理论的基石回顾了中华文明发展史概括了阴阳五行...</td>\n",
       "      <td>R-092</td>\n",
       "      <td>2017.07</td>\n",
       "    </tr>\n",
       "    <tr>\n",
       "      <th>1</th>\n",
       "      <td>古典艺术与中医学</td>\n",
       "      <td>刘懿，蔡艺芳，张煜编著</td>\n",
       "      <td>北京中国中医药出版社</td>\n",
       "      <td>中国医药学研究艺术史研究中国古代</td>\n",
       "      <td>本书从中国古典艺术的源流、传世作品及其与中医的渊源讲起通过阐述中医与古典艺术特殊的中医文化现...</td>\n",
       "      <td>R-092</td>\n",
       "      <td>2017.07</td>\n",
       "    </tr>\n",
       "    <tr>\n",
       "      <th>2</th>\n",
       "      <td>甲骨文化与中医学</td>\n",
       "      <td>李良松，刘学春著</td>\n",
       "      <td>北京中国中医药出版社</td>\n",
       "      <td>中国医药学</td>\n",
       "      <td>本书共章分别从甲骨文化概述、甲骨文中的医学基础知识、甲骨医学的历史背景、甲骨文中的诊疗方法、...</td>\n",
       "      <td>R-092</td>\n",
       "      <td>2017.07</td>\n",
       "    </tr>\n",
       "    <tr>\n",
       "      <th>3</th>\n",
       "      <td>中国中医文化传播史</td>\n",
       "      <td>王明强，张稚鲲，高雨著</td>\n",
       "      <td>北京中国中医药出版社</td>\n",
       "      <td>中国医药学文化传播医学史中国古代</td>\n",
       "      <td>本书共分为十章主要内容包括中国原始社会卫生文明及其传播、夏商时期中医文明及其传播、两周时期中...</td>\n",
       "      <td>R-092</td>\n",
       "      <td>2015.12</td>\n",
       "    </tr>\n",
       "    <tr>\n",
       "      <th>4</th>\n",
       "      <td>第三次医学革命与理论思维</td>\n",
       "      <td>何兆雄著</td>\n",
       "      <td>成都电子科技大学出版社</td>\n",
       "      <td>医学伦理学研究</td>\n",
       "      <td>本书共分为医学历史学、医学哲学、医学伦理学、生命伦理学共四篇，主要内容包括台湾名医杜聪明、医...</td>\n",
       "      <td>R-052</td>\n",
       "      <td>2014.03</td>\n",
       "    </tr>\n",
       "    <tr>\n",
       "      <th>...</th>\n",
       "      <td>...</td>\n",
       "      <td>...</td>\n",
       "      <td>...</td>\n",
       "      <td>...</td>\n",
       "      <td>...</td>\n",
       "      <td>...</td>\n",
       "      <td>...</td>\n",
       "    </tr>\n",
       "    <tr>\n",
       "      <th>133420</th>\n",
       "      <td>全国注册安全工程师执业资格考试红宝书安全生产管理知识</td>\n",
       "      <td>作者建筑考试培训研究中心组织编写</td>\n",
       "      <td>北京中国铁道出版社</td>\n",
       "      <td>安全生产生产管理安全工程师资格考试自学参考资料</td>\n",
       "      <td>本书紧扣考试大纲，对安全生产管理知识中的重点、难点及高频考点进行了提炼和精选，在精细剖析知识...</td>\n",
       "      <td>X93;X92</td>\n",
       "      <td>2014.03</td>\n",
       "    </tr>\n",
       "    <tr>\n",
       "      <th>133421</th>\n",
       "      <td>安全知识我知道户外安全</td>\n",
       "      <td>作者童茗主编</td>\n",
       "      <td>青岛青岛出版社</td>\n",
       "      <td>安全教育儿童读物</td>\n",
       "      <td>本书主要内容包括不要在铁轨上玩、不要在马路上踢球、十字路口打冲锋、车窗旁的危险等。</td>\n",
       "      <td>X956-49</td>\n",
       "      <td>2014.07</td>\n",
       "    </tr>\n",
       "    <tr>\n",
       "      <th>133422</th>\n",
       "      <td>二十一世纪安全科学与技术的发展趋势</td>\n",
       "      <td>作者白春华等主编</td>\n",
       "      <td>北京科学出版社</td>\n",
       "      <td>安全科学学科文集</td>\n",
       "      <td>本书是中国科协第次青年科学家论坛报告论文集。本书共收论文篇，反映了近年来我国安全科学与技术青...</td>\n",
       "      <td>X9-53</td>\n",
       "      <td>2000.06</td>\n",
       "    </tr>\n",
       "    <tr>\n",
       "      <th>133423</th>\n",
       "      <td>事故调查与分析技术</td>\n",
       "      <td>作者蒋军成编著</td>\n",
       "      <td>化学工业出版社教材出版中心</td>\n",
       "      <td>事故学科调查学科高等学校事故分析学科高等学校</td>\n",
       "      <td>本教材阐述了事故机理及致因理论、事故分析方法、火灾与爆炸事故技术分析、重大事故后果模拟分析技...</td>\n",
       "      <td>X928-43</td>\n",
       "      <td>2014.08</td>\n",
       "    </tr>\n",
       "    <tr>\n",
       "      <th>133424</th>\n",
       "      <td>安全系统工程第版</td>\n",
       "      <td>作者张景林主编</td>\n",
       "      <td>北京煤炭工业出版社</td>\n",
       "      <td>安全系统工程高等学校教材</td>\n",
       "      <td>本书是煤炭工业出版社十二五规划教材安全专业教材之一。本次修订在大的章节内容上保留了原教材的格...</td>\n",
       "      <td>X913.4</td>\n",
       "      <td>2014.01</td>\n",
       "    </tr>\n",
       "  </tbody>\n",
       "</table>\n",
       "<p>133425 rows × 7 columns</p>\n",
       "</div>"
      ],
      "text/plain": [
       "                                书名                作者            出版社  \\\n",
       "0                         道家文化与中医学            江幼，李原撰     北京中国中医药出版社   \n",
       "1                         古典艺术与中医学       刘懿，蔡艺芳，张煜编著     北京中国中医药出版社   \n",
       "2                         甲骨文化与中医学          李良松，刘学春著     北京中国中医药出版社   \n",
       "3                        中国中医文化传播史       王明强，张稚鲲，高雨著     北京中国中医药出版社   \n",
       "4                     第三次医学革命与理论思维              何兆雄著    成都电子科技大学出版社   \n",
       "...                            ...               ...            ...   \n",
       "133420  全国注册安全工程师执业资格考试红宝书安全生产管理知识  作者建筑考试培训研究中心组织编写      北京中国铁道出版社   \n",
       "133421                 安全知识我知道户外安全            作者童茗主编        青岛青岛出版社   \n",
       "133422           二十一世纪安全科学与技术的发展趋势          作者白春华等主编        北京科学出版社   \n",
       "133423                   事故调查与分析技术           作者蒋军成编著  化学工业出版社教材出版中心   \n",
       "133424                    安全系统工程第版           作者张景林主编      北京煤炭工业出版社   \n",
       "\n",
       "                            关键词  \\\n",
       "0                道家文化研究中医学医学史研究   \n",
       "1              中国医药学研究艺术史研究中国古代   \n",
       "2                         中国医药学   \n",
       "3              中国医药学文化传播医学史中国古代   \n",
       "4                       医学伦理学研究   \n",
       "...                         ...   \n",
       "133420  安全生产生产管理安全工程师资格考试自学参考资料   \n",
       "133421                 安全教育儿童读物   \n",
       "133422                 安全科学学科文集   \n",
       "133423   事故学科调查学科高等学校事故分析学科高等学校   \n",
       "133424             安全系统工程高等学校教材   \n",
       "\n",
       "                                                       摘要  中国图书分类号     出版年月  \n",
       "0       本书以充足的史料和严密的逻辑证明了道家思想是中医理论的基石回顾了中华文明发展史概括了阴阳五行...    R-092  2017.07  \n",
       "1       本书从中国古典艺术的源流、传世作品及其与中医的渊源讲起通过阐述中医与古典艺术特殊的中医文化现...    R-092  2017.07  \n",
       "2       本书共章分别从甲骨文化概述、甲骨文中的医学基础知识、甲骨医学的历史背景、甲骨文中的诊疗方法、...    R-092  2017.07  \n",
       "3       本书共分为十章主要内容包括中国原始社会卫生文明及其传播、夏商时期中医文明及其传播、两周时期中...    R-092  2015.12  \n",
       "4       本书共分为医学历史学、医学哲学、医学伦理学、生命伦理学共四篇，主要内容包括台湾名医杜聪明、医...    R-052  2014.03  \n",
       "...                                                   ...      ...      ...  \n",
       "133420  本书紧扣考试大纲，对安全生产管理知识中的重点、难点及高频考点进行了提炼和精选，在精细剖析知识...  X93;X92  2014.03  \n",
       "133421          本书主要内容包括不要在铁轨上玩、不要在马路上踢球、十字路口打冲锋、车窗旁的危险等。  X956-49  2014.07  \n",
       "133422  本书是中国科协第次青年科学家论坛报告论文集。本书共收论文篇，反映了近年来我国安全科学与技术青...    X9-53  2000.06  \n",
       "133423  本教材阐述了事故机理及致因理论、事故分析方法、火灾与爆炸事故技术分析、重大事故后果模拟分析技...  X928-43  2014.08  \n",
       "133424  本书是煤炭工业出版社十二五规划教材安全专业教材之一。本次修订在大的章节内容上保留了原教材的格...   X913.4  2014.01  \n",
       "\n",
       "[133425 rows x 7 columns]"
      ]
     },
     "execution_count": 74,
     "metadata": {},
     "output_type": "execute_result"
    }
   ],
   "source": [
    "giao"
   ]
  },
  {
   "cell_type": "code",
   "execution_count": 67,
   "metadata": {},
   "outputs": [],
   "source": [
    "import difflib"
   ]
  },
  {
   "cell_type": "code",
   "execution_count": null,
   "metadata": {},
   "outputs": [],
   "source": [
    "difflib.get_close_matches('1978～2009中国文化地图', giao['书名'], cutoff=0.0, n=1)"
   ]
  }
 ],
 "metadata": {
  "kernelspec": {
   "display_name": "recommendation-service",
   "language": "python",
   "name": "python3"
  },
  "language_info": {
   "codemirror_mode": {
    "name": "ipython",
    "version": 3
   },
   "file_extension": ".py",
   "mimetype": "text/x-python",
   "name": "python",
   "nbconvert_exporter": "python",
   "pygments_lexer": "ipython3",
   "version": "3.11.5"
  },
  "orig_nbformat": 4
 },
 "nbformat": 4,
 "nbformat_minor": 2
}
