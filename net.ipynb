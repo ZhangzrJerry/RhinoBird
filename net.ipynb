{
 "cells": [
  {
   "cell_type": "code",
   "execution_count": 1,
   "metadata": {},
   "outputs": [],
   "source": [
    "import pickle, time, os\n",
    "import numpy as np\n",
    "import paddle\n",
    "import pandas as pd\n",
    "import paddle.nn as nn\n",
    "from tqdm import tqdm\n",
    "\n",
    "from visualdl import LogWriter\n",
    "logwriter = LogWriter(logdir='./runs')\n",
    "# visualdl --logdir ./runs/ --host 0.0.0.0 --port 8040\n",
    "\n",
    "users_df = pd.read_csv('data/csv/users.csv')\n",
    "items_df = pd.read_csv('data/csv/items.csv')"
   ]
  },
  {
   "cell_type": "code",
   "execution_count": 2,
   "metadata": {},
   "outputs": [],
   "source": [
    "emb_scale = 256\n",
    "batch_size = 2048\n",
    "len_users = len(users_df)\n",
    "len_items = len(items_df)"
   ]
  },
  {
   "cell_type": "code",
   "execution_count": 3,
   "metadata": {},
   "outputs": [],
   "source": [
    "class Dataset(paddle.io.Dataset):\n",
    "    def __init__(self, data):\n",
    "        self.data = data\n",
    "        pass\n",
    "    def __getitem__(self, idx):\n",
    "        return self.data[idx][0:2], self.data[idx][2]\n",
    "    def __len__(self):\n",
    "        return len(self.data)\n",
    "    pass "
   ]
  },
  {
   "cell_type": "code",
   "execution_count": 4,
   "metadata": {},
   "outputs": [],
   "source": [
    "class Net(nn.Layer):\n",
    "    def __init__(self):\n",
    "        super(Net,self).__init__()\n",
    "        self.users_emb = nn.Embedding(len_users+1, emb_scale)\n",
    "        self.items_emb = nn.Embedding(len_items+1, emb_scale)\n",
    "        self.user_fc1 = nn.Linear(emb_scale, 128)\n",
    "        self.item_fc1 = nn.Linear(emb_scale, 128)\n",
    "        self.relu = nn.ReLU()\n",
    "        self.sigmoid = nn.Sigmoid()\n",
    "        self.cos = nn.CosineSimilarity()\n",
    "        pass\n",
    "    def forward(self, input):\n",
    "        user = self.users_emb(input[:,0])\n",
    "        item = self.items_emb(input[:,1])\n",
    "        user = self.user_fc1(user)\n",
    "        item = self.item_fc1(item)\n",
    "        user = self.relu(user)\n",
    "        item = self.relu(item)\n",
    "        x = self.cos(user, item)\n",
    "        x = self.sigmoid(x)\n",
    "        return x\n",
    "    pass\n",
    "net = Net()\n",
    "optim = paddle.optimizer.Adam(parameters=net.parameters(), learning_rate=0.005, weight_decay=paddle.regularizer.L2Decay(1e-3))\n",
    "m = paddle.metric.Recall()"
   ]
  },
  {
   "cell_type": "code",
   "execution_count": 60,
   "metadata": {},
   "outputs": [
    {
     "name": "stderr",
     "output_type": "stream",
     "text": [
      "  1%|          | 7/839 [00:17<34:50,  2.51s/it]\n"
     ]
    },
    {
     "ename": "KeyboardInterrupt",
     "evalue": "",
     "output_type": "error",
     "traceback": [
      "\u001b[1;31m---------------------------------------------------------------------------\u001b[0m",
      "\u001b[1;31mKeyboardInterrupt\u001b[0m                         Traceback (most recent call last)",
      "\u001b[1;32md:\\Projects\\2023犀牛鸟中学科学人才培养计划\\Flask\\net.ipynb 单元格 5\u001b[0m line \u001b[0;36m2\n\u001b[0;32m     <a href='vscode-notebook-cell:/d%3A/Projects/2023%E7%8A%80%E7%89%9B%E9%B8%9F%E4%B8%AD%E5%AD%A6%E7%A7%91%E5%AD%A6%E4%BA%BA%E6%89%8D%E5%9F%B9%E5%85%BB%E8%AE%A1%E5%88%92/Flask/net.ipynb#W4sZmlsZQ%3D%3D?line=17'>18</a>\u001b[0m y_data \u001b[39m=\u001b[39m data[\u001b[39m1\u001b[39m]\n\u001b[0;32m     <a href='vscode-notebook-cell:/d%3A/Projects/2023%E7%8A%80%E7%89%9B%E9%B8%9F%E4%B8%AD%E5%AD%A6%E7%A7%91%E5%AD%A6%E4%BA%BA%E6%89%8D%E5%9F%B9%E5%85%BB%E8%AE%A1%E5%88%92/Flask/net.ipynb#W4sZmlsZQ%3D%3D?line=18'>19</a>\u001b[0m x_data \u001b[39m=\u001b[39m paddle\u001b[39m.\u001b[39mcast(x_data, dtype\u001b[39m=\u001b[39m\u001b[39m'\u001b[39m\u001b[39mint32\u001b[39m\u001b[39m'\u001b[39m)\n\u001b[1;32m---> <a href='vscode-notebook-cell:/d%3A/Projects/2023%E7%8A%80%E7%89%9B%E9%B8%9F%E4%B8%AD%E5%AD%A6%E7%A7%91%E5%AD%A6%E4%BA%BA%E6%89%8D%E5%9F%B9%E5%85%BB%E8%AE%A1%E5%88%92/Flask/net.ipynb#W4sZmlsZQ%3D%3D?line=20'>21</a>\u001b[0m y_pred \u001b[39m=\u001b[39m net(x_data)\n\u001b[0;32m     <a href='vscode-notebook-cell:/d%3A/Projects/2023%E7%8A%80%E7%89%9B%E9%B8%9F%E4%B8%AD%E5%AD%A6%E7%A7%91%E5%AD%A6%E4%BA%BA%E6%89%8D%E5%9F%B9%E5%85%BB%E8%AE%A1%E5%88%92/Flask/net.ipynb#W4sZmlsZQ%3D%3D?line=21'>22</a>\u001b[0m loss \u001b[39m=\u001b[39m nn\u001b[39m.\u001b[39mfunctional\u001b[39m.\u001b[39mmse_loss(y_pred, paddle\u001b[39m.\u001b[39mcast(y_data, dtype\u001b[39m=\u001b[39m\u001b[39m'\u001b[39m\u001b[39mfloat32\u001b[39m\u001b[39m'\u001b[39m))\n\u001b[0;32m     <a href='vscode-notebook-cell:/d%3A/Projects/2023%E7%8A%80%E7%89%9B%E9%B8%9F%E4%B8%AD%E5%AD%A6%E7%A7%91%E5%AD%A6%E4%BA%BA%E6%89%8D%E5%9F%B9%E5%85%BB%E8%AE%A1%E5%88%92/Flask/net.ipynb#W4sZmlsZQ%3D%3D?line=22'>23</a>\u001b[0m acc \u001b[39m=\u001b[39m paddle\u001b[39m.\u001b[39mstatic\u001b[39m.\u001b[39maccuracy(paddle\u001b[39m.\u001b[39mreshape(y_pred, (batch_size, \u001b[39m1\u001b[39m)), paddle\u001b[39m.\u001b[39mreshape(paddle\u001b[39m.\u001b[39mcast(y_data, dtype\u001b[39m=\u001b[39m\u001b[39m'\u001b[39m\u001b[39mint64\u001b[39m\u001b[39m'\u001b[39m), (batch_size, \u001b[39m1\u001b[39m)))\n",
      "File \u001b[1;32md:\\program files\\anaconda\\envs\\recommendation-service\\Lib\\site-packages\\paddle\\nn\\layer\\layers.py:1254\u001b[0m, in \u001b[0;36mLayer.__call__\u001b[1;34m(self, *inputs, **kwargs)\u001b[0m\n\u001b[0;32m   1245\u001b[0m \u001b[39mif\u001b[39;00m (\n\u001b[0;32m   1246\u001b[0m     (\u001b[39mnot\u001b[39;00m in_declarative_mode())\n\u001b[0;32m   1247\u001b[0m     \u001b[39mand\u001b[39;00m (\u001b[39mnot\u001b[39;00m \u001b[39mself\u001b[39m\u001b[39m.\u001b[39m_forward_pre_hooks)\n\u001b[1;32m   (...)\u001b[0m\n\u001b[0;32m   1251\u001b[0m     \u001b[39mand\u001b[39;00m (\u001b[39mnot\u001b[39;00m in_profiler_mode())\n\u001b[0;32m   1252\u001b[0m ):\n\u001b[0;32m   1253\u001b[0m     \u001b[39mself\u001b[39m\u001b[39m.\u001b[39m_build_once(\u001b[39m*\u001b[39minputs, \u001b[39m*\u001b[39m\u001b[39m*\u001b[39mkwargs)\n\u001b[1;32m-> 1254\u001b[0m     \u001b[39mreturn\u001b[39;00m \u001b[39mself\u001b[39;49m\u001b[39m.\u001b[39;49mforward(\u001b[39m*\u001b[39;49minputs, \u001b[39m*\u001b[39;49m\u001b[39m*\u001b[39;49mkwargs)\n\u001b[0;32m   1255\u001b[0m \u001b[39melse\u001b[39;00m:\n\u001b[0;32m   1256\u001b[0m     \u001b[39mreturn\u001b[39;00m \u001b[39mself\u001b[39m\u001b[39m.\u001b[39m_dygraph_call_func(\u001b[39m*\u001b[39minputs, \u001b[39m*\u001b[39m\u001b[39m*\u001b[39mkwargs)\n",
      "\u001b[1;32md:\\Projects\\2023犀牛鸟中学科学人才培养计划\\Flask\\net.ipynb 单元格 5\u001b[0m line \u001b[0;36m1\n\u001b[0;32m     <a href='vscode-notebook-cell:/d%3A/Projects/2023%E7%8A%80%E7%89%9B%E9%B8%9F%E4%B8%AD%E5%AD%A6%E7%A7%91%E5%AD%A6%E4%BA%BA%E6%89%8D%E5%9F%B9%E5%85%BB%E8%AE%A1%E5%88%92/Flask/net.ipynb#W4sZmlsZQ%3D%3D?line=13'>14</a>\u001b[0m item \u001b[39m=\u001b[39m \u001b[39mself\u001b[39m\u001b[39m.\u001b[39mitems_emb(\u001b[39minput\u001b[39m[:,\u001b[39m1\u001b[39m])\n\u001b[0;32m     <a href='vscode-notebook-cell:/d%3A/Projects/2023%E7%8A%80%E7%89%9B%E9%B8%9F%E4%B8%AD%E5%AD%A6%E7%A7%91%E5%AD%A6%E4%BA%BA%E6%89%8D%E5%9F%B9%E5%85%BB%E8%AE%A1%E5%88%92/Flask/net.ipynb#W4sZmlsZQ%3D%3D?line=14'>15</a>\u001b[0m user \u001b[39m=\u001b[39m \u001b[39mself\u001b[39m\u001b[39m.\u001b[39muser_fc1(user)\n\u001b[1;32m---> <a href='vscode-notebook-cell:/d%3A/Projects/2023%E7%8A%80%E7%89%9B%E9%B8%9F%E4%B8%AD%E5%AD%A6%E7%A7%91%E5%AD%A6%E4%BA%BA%E6%89%8D%E5%9F%B9%E5%85%BB%E8%AE%A1%E5%88%92/Flask/net.ipynb#W4sZmlsZQ%3D%3D?line=15'>16</a>\u001b[0m item \u001b[39m=\u001b[39m \u001b[39mself\u001b[39;49m\u001b[39m.\u001b[39;49mitem_fc1(item)\n\u001b[0;32m     <a href='vscode-notebook-cell:/d%3A/Projects/2023%E7%8A%80%E7%89%9B%E9%B8%9F%E4%B8%AD%E5%AD%A6%E7%A7%91%E5%AD%A6%E4%BA%BA%E6%89%8D%E5%9F%B9%E5%85%BB%E8%AE%A1%E5%88%92/Flask/net.ipynb#W4sZmlsZQ%3D%3D?line=16'>17</a>\u001b[0m user \u001b[39m=\u001b[39m \u001b[39mself\u001b[39m\u001b[39m.\u001b[39mrelu(user)\n\u001b[0;32m     <a href='vscode-notebook-cell:/d%3A/Projects/2023%E7%8A%80%E7%89%9B%E9%B8%9F%E4%B8%AD%E5%AD%A6%E7%A7%91%E5%AD%A6%E4%BA%BA%E6%89%8D%E5%9F%B9%E5%85%BB%E8%AE%A1%E5%88%92/Flask/net.ipynb#W4sZmlsZQ%3D%3D?line=17'>18</a>\u001b[0m item \u001b[39m=\u001b[39m \u001b[39mself\u001b[39m\u001b[39m.\u001b[39mrelu(item)\n",
      "File \u001b[1;32md:\\program files\\anaconda\\envs\\recommendation-service\\Lib\\site-packages\\paddle\\nn\\layer\\layers.py:1254\u001b[0m, in \u001b[0;36mLayer.__call__\u001b[1;34m(self, *inputs, **kwargs)\u001b[0m\n\u001b[0;32m   1245\u001b[0m \u001b[39mif\u001b[39;00m (\n\u001b[0;32m   1246\u001b[0m     (\u001b[39mnot\u001b[39;00m in_declarative_mode())\n\u001b[0;32m   1247\u001b[0m     \u001b[39mand\u001b[39;00m (\u001b[39mnot\u001b[39;00m \u001b[39mself\u001b[39m\u001b[39m.\u001b[39m_forward_pre_hooks)\n\u001b[1;32m   (...)\u001b[0m\n\u001b[0;32m   1251\u001b[0m     \u001b[39mand\u001b[39;00m (\u001b[39mnot\u001b[39;00m in_profiler_mode())\n\u001b[0;32m   1252\u001b[0m ):\n\u001b[0;32m   1253\u001b[0m     \u001b[39mself\u001b[39m\u001b[39m.\u001b[39m_build_once(\u001b[39m*\u001b[39minputs, \u001b[39m*\u001b[39m\u001b[39m*\u001b[39mkwargs)\n\u001b[1;32m-> 1254\u001b[0m     \u001b[39mreturn\u001b[39;00m \u001b[39mself\u001b[39;49m\u001b[39m.\u001b[39;49mforward(\u001b[39m*\u001b[39;49minputs, \u001b[39m*\u001b[39;49m\u001b[39m*\u001b[39;49mkwargs)\n\u001b[0;32m   1255\u001b[0m \u001b[39melse\u001b[39;00m:\n\u001b[0;32m   1256\u001b[0m     \u001b[39mreturn\u001b[39;00m \u001b[39mself\u001b[39m\u001b[39m.\u001b[39m_dygraph_call_func(\u001b[39m*\u001b[39minputs, \u001b[39m*\u001b[39m\u001b[39m*\u001b[39mkwargs)\n",
      "File \u001b[1;32md:\\program files\\anaconda\\envs\\recommendation-service\\Lib\\site-packages\\paddle\\nn\\layer\\common.py:174\u001b[0m, in \u001b[0;36mLinear.forward\u001b[1;34m(self, input)\u001b[0m\n\u001b[0;32m    173\u001b[0m \u001b[39mdef\u001b[39;00m \u001b[39mforward\u001b[39m(\u001b[39mself\u001b[39m, \u001b[39minput\u001b[39m):\n\u001b[1;32m--> 174\u001b[0m     out \u001b[39m=\u001b[39m F\u001b[39m.\u001b[39;49mlinear(\n\u001b[0;32m    175\u001b[0m         x\u001b[39m=\u001b[39;49m\u001b[39minput\u001b[39;49m, weight\u001b[39m=\u001b[39;49m\u001b[39mself\u001b[39;49m\u001b[39m.\u001b[39;49mweight, bias\u001b[39m=\u001b[39;49m\u001b[39mself\u001b[39;49m\u001b[39m.\u001b[39;49mbias, name\u001b[39m=\u001b[39;49m\u001b[39mself\u001b[39;49m\u001b[39m.\u001b[39;49mname\n\u001b[0;32m    176\u001b[0m     )\n\u001b[0;32m    177\u001b[0m     \u001b[39mreturn\u001b[39;00m out\n",
      "File \u001b[1;32md:\\program files\\anaconda\\envs\\recommendation-service\\Lib\\site-packages\\paddle\\nn\\functional\\common.py:1842\u001b[0m, in \u001b[0;36mlinear\u001b[1;34m(x, weight, bias, name)\u001b[0m\n\u001b[0;32m   1790\u001b[0m \u001b[39m\u001b[39m\u001b[39mr\u001b[39m\u001b[39m\"\"\"\u001b[39;00m\n\u001b[0;32m   1791\u001b[0m \n\u001b[0;32m   1792\u001b[0m \u001b[39mFully-connected linear transformation operator. For each input :math:`X` ,\u001b[39;00m\n\u001b[1;32m   (...)\u001b[0m\n\u001b[0;32m   1838\u001b[0m \u001b[39m      #     [2.1077576  2.1077576  2.1077576  2.1077576 ]]\u001b[39;00m\n\u001b[0;32m   1839\u001b[0m \u001b[39m\"\"\"\u001b[39;00m\n\u001b[0;32m   1840\u001b[0m \u001b[39mif\u001b[39;00m in_dynamic_mode():\n\u001b[0;32m   1841\u001b[0m     \u001b[39m# TODO(jiabin): using addmm for fast forward route\u001b[39;00m\n\u001b[1;32m-> 1842\u001b[0m     \u001b[39mreturn\u001b[39;00m _C_ops\u001b[39m.\u001b[39;49mlinear(x, weight, bias)\n\u001b[0;32m   1843\u001b[0m \u001b[39melse\u001b[39;00m:\n\u001b[0;32m   1844\u001b[0m     helper \u001b[39m=\u001b[39m LayerHelper(\u001b[39m'\u001b[39m\u001b[39mlinear\u001b[39m\u001b[39m'\u001b[39m, \u001b[39m*\u001b[39m\u001b[39m*\u001b[39m\u001b[39mlocals\u001b[39m())\n",
      "\u001b[1;31mKeyboardInterrupt\u001b[0m: "
     ]
    }
   ],
   "source": [
    "train_loss_, train_acc_, eval_loss_, eval_acc_ = [], [], [], []\n",
    "\n",
    "for epoch_id in range(200):\n",
    "\n",
    "    train_loss, train_acc, eval_loss, eval_acc = [], [], [], []\n",
    "\n",
    "    file_list = os.listdir('data/net/train/')\n",
    "    file = open('data/net/train/'+np.random.choice(file_list), 'rb')\n",
    "    train_dataset = paddle.io.DataLoader(Dataset(pickle.load(file)),\n",
    "                                         drop_last=True,\n",
    "                                         batch_size=batch_size)\n",
    "    file.close()    \n",
    "\n",
    "    net.train()\n",
    "    m.reset()\n",
    "    for batch_id, data in enumerate(tqdm(train_dataset)):\n",
    "        x_data = data[0]\n",
    "        y_data = data[1]\n",
    "        x_data = paddle.cast(x_data, dtype='int32')\n",
    "\n",
    "        y_pred = net(x_data)\n",
    "        loss = nn.functional.mse_loss(y_pred, paddle.cast(y_data, dtype='float32'))\n",
    "        acc = paddle.static.accuracy(paddle.reshape(y_pred, (batch_size, 1)), paddle.reshape(paddle.cast(y_data, dtype='int64'), (batch_size, 1)))\n",
    "        m.update(y_pred, y_data)\n",
    "        loss.backward()\n",
    "\n",
    "        optim.step()\n",
    "        optim.clear_grad()\n",
    "        train_loss.append(loss.numpy())\n",
    "        train_acc.append(acc.numpy())\n",
    "\n",
    "        logwriter.add_scalar(\"train_loss\", value=loss.numpy(), step=batch_id+epoch_id*(batch_size))\n",
    "        logwriter.add_scalar(\"train_acc\", value=acc.numpy(), step=batch_id+epoch_id*(batch_size))\n",
    "        logwriter.add_scalar(\"train_recall\", value=m.accumulate(), step=batch_id+epoch_id*(batch_size))\n",
    "        \n",
    "        if m.accumulate() > 0.3:\n",
    "            break\n",
    "\n",
    "    file_list = os.listdir('data/net/eval/')\n",
    "    file = open('data/net/eval/'+np.random.choice(file_list), 'rb')\n",
    "    train_dataset = paddle.io.DataLoader(Dataset(pickle.load(file)),\n",
    "                                         drop_last=True,\n",
    "                                         batch_size=batch_size,\n",
    "                                         shuffle=True)\n",
    "    file.close() \n",
    "\n",
    "    net.eval()\n",
    "    m.reset()\n",
    "    for batch_id, data in enumerate(tqdm(train_dataset)):\n",
    "        x_data = data[0]\n",
    "        y_data = data[1]\n",
    "        x_data = paddle.cast(x_data, dtype='int32')\n",
    "\n",
    "        y_pred = net(x_data)\n",
    "        loss = nn.functional.mse_loss(y_pred, paddle.cast(y_data, dtype='float32'))\n",
    "        acc = paddle.static.accuracy(paddle.reshape(y_pred, (batch_size, 1)), paddle.reshape(paddle.cast(y_data, dtype='int64'), (batch_size, 1)))\n",
    "        m.update(y_pred, y_data)\n",
    "\n",
    "    logwriter.add_scalar(\"eval_loss\", value=np.mean(eval_loss), step=epoch_id)\n",
    "    logwriter.add_scalar(\"eval_acc\", value=np.mean(eval_acc), step=epoch_id)\n",
    "    logwriter.add_scalar(\"eval_recall\", value=m.accumulate(), step=epoch_id)\n",
    "\n",
    "    train_loss_.append(train_loss)\n",
    "    train_acc_.append(train_acc)\n",
    "    eval_loss_.append(eval_loss)\n",
    "    eval_acc_.append(eval_acc)\n",
    "    print(\"epoch_id: {}, batch_id: {}, loss: {}, acc: {}, recall: {}\".format(epoch_id, batch_id+1, loss.numpy(), acc.numpy(), m.accumulate()))"
   ]
  }
 ],
 "metadata": {
  "kernelspec": {
   "display_name": "env_name",
   "language": "python",
   "name": "python3"
  },
  "language_info": {
   "codemirror_mode": {
    "name": "ipython",
    "version": 3
   },
   "file_extension": ".py",
   "mimetype": "text/x-python",
   "name": "python",
   "nbconvert_exporter": "python",
   "pygments_lexer": "ipython3",
   "version": "3.11.5"
  },
  "orig_nbformat": 4
 },
 "nbformat": 4,
 "nbformat_minor": 2
}
